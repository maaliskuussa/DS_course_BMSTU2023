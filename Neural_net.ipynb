{
  "nbformat": 4,
  "nbformat_minor": 0,
  "metadata": {
    "colab": {
      "provenance": [],
      "toc_visible": true,
      "mount_file_id": "1F-9ESkHVd9yEV_fdfLJrWrIfqD-CfNzL",
      "authorship_tag": "ABX9TyNsuXkcisc+o7TJt3aHJPJZ"
    },
    "kernelspec": {
      "name": "python3",
      "display_name": "Python 3"
    },
    "language_info": {
      "name": "python"
    }
  },
  "cells": [
    {
      "cell_type": "markdown",
      "source": [
        "# Библиотеки"
      ],
      "metadata": {
        "id": "nckKT83rDJ3c"
      }
    },
    {
      "cell_type": "code",
      "execution_count": 1,
      "metadata": {
        "id": "55c72aa4"
      },
      "outputs": [],
      "source": [
        "import numpy as np\n",
        "import pandas as pd\n",
        "\n",
        "import matplotlib.pyplot as plt\n",
        "import matplotlib.pylab as plt\n",
        "from matplotlib.cbook import boxplot_stats\n",
        "import seaborn as sns\n",
        "\n",
        "from sklearn.preprocessing import OrdinalEncoder\n",
        "from sklearn.preprocessing import StandardScaler, MinMaxScaler\n",
        "from sklearn.compose import ColumnTransformer\n",
        "from sklearn.model_selection import train_test_split\n",
        "from sklearn.model_selection import KFold\n",
        "from sklearn.model_selection import cross_val_score, cross_validate\n",
        "from sklearn.model_selection import GridSearchCV\n",
        "from sklearn.base import BaseEstimator\n",
        "from sklearn.metrics import mean_absolute_error, r2_score, mean_squared_error\n",
        "from sklearn.dummy import DummyRegressor\n",
        "from sklearn.linear_model import LinearRegression\n",
        "from sklearn.linear_model import Ridge\n",
        "from sklearn.linear_model import Lasso\n",
        "from sklearn.svm import SVR\n",
        "from sklearn.neighbors import KNeighborsRegressor\n",
        "from sklearn.tree import DecisionTreeRegressor\n",
        "from sklearn.ensemble import RandomForestRegressor\n",
        "from sklearn.ensemble import GradientBoostingRegressor\n",
        "from sklearn import metrics\n",
        "from sklearn.metrics import r2_score \n",
        "\n",
        "from sklearn.neural_network import MLPRegressor\n",
        "from xgboost import XGBRegressor"
      ]
    },
    {
      "cell_type": "code",
      "source": [
        "import tensorflow as tf\n",
        "from tensorflow import keras\n",
        "print(tf.__version__)\n",
        "from keras.layers import Dense, Flatten, Dropout, BatchNormalization, Activation, LeakyReLU\n",
        "\n",
        "from keras.wrappers.scikit_learn import KerasClassifier, KerasRegressor\n",
        "from keras.models import Sequential\n",
        "%matplotlib inline \n",
        "sns.set(style=\"ticks\")\n",
        "import warnings\n",
        "warnings.filterwarnings(\"ignore\")"
      ],
      "metadata": {
        "colab": {
          "base_uri": "https://localhost:8080/"
        },
        "id": "2_HMuUJzUmEB",
        "outputId": "46611e0b-cbd3-4f34-ac64-5dfabe9767c2"
      },
      "execution_count": 2,
      "outputs": [
        {
          "output_type": "stream",
          "name": "stdout",
          "text": [
            "2.12.0\n"
          ]
        }
      ]
    },
    {
      "cell_type": "code",
      "source": [
        "from google.colab import drive\n",
        "drive.mount('/content/drive')"
      ],
      "metadata": {
        "colab": {
          "base_uri": "https://localhost:8080/"
        },
        "id": "wrwkmfWZ9Msa",
        "outputId": "eeb6f321-2283-464a-9b84-cb478d15a4da"
      },
      "execution_count": 3,
      "outputs": [
        {
          "output_type": "stream",
          "name": "stdout",
          "text": [
            "Drive already mounted at /content/drive; to attempt to forcibly remount, call drive.mount(\"/content/drive\", force_remount=True).\n"
          ]
        }
      ]
    },
    {
      "cell_type": "code",
      "source": [
        "# загрузим подготовленный на предыдущем этапе датасет (объединенный, очищенный от шумов и выбросов)\n",
        "df = pd.read_excel('/content/drive/MyDrive/Colab Notebooks/dataset/Копия1 X_CLEAR.xlsx') "
      ],
      "metadata": {
        "id": "86lpRxhi9Lf0"
      },
      "execution_count": 4,
      "outputs": []
    },
    {
      "cell_type": "code",
      "source": [
        "df.head()"
      ],
      "metadata": {
        "colab": {
          "base_uri": "https://localhost:8080/",
          "height": 340
        },
        "id": "1sps-Hglr8Wu",
        "outputId": "7870e081-87ae-4897-c704-4504e53319aa"
      },
      "execution_count": 6,
      "outputs": [
        {
          "output_type": "execute_result",
          "data": {
            "text/plain": [
              "   Соотношение матрица-наполнитель  Плотность, кг/м3  модуль упругости, ГПа  \\\n",
              "0                         1.857143            2030.0             738.736842   \n",
              "1                         1.857143            2030.0             738.736842   \n",
              "2                         2.771331            2030.0             753.000000   \n",
              "3                         2.767918            2000.0             748.000000   \n",
              "4                         2.569620            1910.0             807.000000   \n",
              "\n",
              "   Количество отвердителя, м.%  Содержание эпоксидных групп,%_2  \\\n",
              "0                        50.00                        23.750000   \n",
              "1                       129.00                        21.250000   \n",
              "2                       111.86                        22.267857   \n",
              "3                       111.86                        22.267857   \n",
              "4                       111.86                        22.267857   \n",
              "\n",
              "   Температура вспышки, С_2  Поверхностная плотность, г/м2  \\\n",
              "0                284.615385                          210.0   \n",
              "1                300.000000                          210.0   \n",
              "2                284.615385                          210.0   \n",
              "3                284.615385                          210.0   \n",
              "4                284.615385                          210.0   \n",
              "\n",
              "   Модуль упругости при растяжении, ГПа  Прочность при растяжении, МПа  \\\n",
              "0                                  70.0                         3000.0   \n",
              "1                                  70.0                         3000.0   \n",
              "2                                  70.0                         3000.0   \n",
              "3                                  70.0                         3000.0   \n",
              "4                                  70.0                         3000.0   \n",
              "\n",
              "   Потребление смолы, г/м2  Угол нашивки, град  Шаг нашивки  Плотность нашивки  \n",
              "0                    220.0                   0          4.0               60.0  \n",
              "1                    220.0                   0          5.0               47.0  \n",
              "2                    220.0                   0          5.0               57.0  \n",
              "3                    220.0                   0          5.0               60.0  \n",
              "4                    220.0                   0          5.0               70.0  "
            ],
            "text/html": [
              "\n",
              "  <div id=\"df-4a731e40-7200-4235-b604-86465eae9134\">\n",
              "    <div class=\"colab-df-container\">\n",
              "      <div>\n",
              "<style scoped>\n",
              "    .dataframe tbody tr th:only-of-type {\n",
              "        vertical-align: middle;\n",
              "    }\n",
              "\n",
              "    .dataframe tbody tr th {\n",
              "        vertical-align: top;\n",
              "    }\n",
              "\n",
              "    .dataframe thead th {\n",
              "        text-align: right;\n",
              "    }\n",
              "</style>\n",
              "<table border=\"1\" class=\"dataframe\">\n",
              "  <thead>\n",
              "    <tr style=\"text-align: right;\">\n",
              "      <th></th>\n",
              "      <th>Соотношение матрица-наполнитель</th>\n",
              "      <th>Плотность, кг/м3</th>\n",
              "      <th>модуль упругости, ГПа</th>\n",
              "      <th>Количество отвердителя, м.%</th>\n",
              "      <th>Содержание эпоксидных групп,%_2</th>\n",
              "      <th>Температура вспышки, С_2</th>\n",
              "      <th>Поверхностная плотность, г/м2</th>\n",
              "      <th>Модуль упругости при растяжении, ГПа</th>\n",
              "      <th>Прочность при растяжении, МПа</th>\n",
              "      <th>Потребление смолы, г/м2</th>\n",
              "      <th>Угол нашивки, град</th>\n",
              "      <th>Шаг нашивки</th>\n",
              "      <th>Плотность нашивки</th>\n",
              "    </tr>\n",
              "  </thead>\n",
              "  <tbody>\n",
              "    <tr>\n",
              "      <th>0</th>\n",
              "      <td>1.857143</td>\n",
              "      <td>2030.0</td>\n",
              "      <td>738.736842</td>\n",
              "      <td>50.00</td>\n",
              "      <td>23.750000</td>\n",
              "      <td>284.615385</td>\n",
              "      <td>210.0</td>\n",
              "      <td>70.0</td>\n",
              "      <td>3000.0</td>\n",
              "      <td>220.0</td>\n",
              "      <td>0</td>\n",
              "      <td>4.0</td>\n",
              "      <td>60.0</td>\n",
              "    </tr>\n",
              "    <tr>\n",
              "      <th>1</th>\n",
              "      <td>1.857143</td>\n",
              "      <td>2030.0</td>\n",
              "      <td>738.736842</td>\n",
              "      <td>129.00</td>\n",
              "      <td>21.250000</td>\n",
              "      <td>300.000000</td>\n",
              "      <td>210.0</td>\n",
              "      <td>70.0</td>\n",
              "      <td>3000.0</td>\n",
              "      <td>220.0</td>\n",
              "      <td>0</td>\n",
              "      <td>5.0</td>\n",
              "      <td>47.0</td>\n",
              "    </tr>\n",
              "    <tr>\n",
              "      <th>2</th>\n",
              "      <td>2.771331</td>\n",
              "      <td>2030.0</td>\n",
              "      <td>753.000000</td>\n",
              "      <td>111.86</td>\n",
              "      <td>22.267857</td>\n",
              "      <td>284.615385</td>\n",
              "      <td>210.0</td>\n",
              "      <td>70.0</td>\n",
              "      <td>3000.0</td>\n",
              "      <td>220.0</td>\n",
              "      <td>0</td>\n",
              "      <td>5.0</td>\n",
              "      <td>57.0</td>\n",
              "    </tr>\n",
              "    <tr>\n",
              "      <th>3</th>\n",
              "      <td>2.767918</td>\n",
              "      <td>2000.0</td>\n",
              "      <td>748.000000</td>\n",
              "      <td>111.86</td>\n",
              "      <td>22.267857</td>\n",
              "      <td>284.615385</td>\n",
              "      <td>210.0</td>\n",
              "      <td>70.0</td>\n",
              "      <td>3000.0</td>\n",
              "      <td>220.0</td>\n",
              "      <td>0</td>\n",
              "      <td>5.0</td>\n",
              "      <td>60.0</td>\n",
              "    </tr>\n",
              "    <tr>\n",
              "      <th>4</th>\n",
              "      <td>2.569620</td>\n",
              "      <td>1910.0</td>\n",
              "      <td>807.000000</td>\n",
              "      <td>111.86</td>\n",
              "      <td>22.267857</td>\n",
              "      <td>284.615385</td>\n",
              "      <td>210.0</td>\n",
              "      <td>70.0</td>\n",
              "      <td>3000.0</td>\n",
              "      <td>220.0</td>\n",
              "      <td>0</td>\n",
              "      <td>5.0</td>\n",
              "      <td>70.0</td>\n",
              "    </tr>\n",
              "  </tbody>\n",
              "</table>\n",
              "</div>\n",
              "      <button class=\"colab-df-convert\" onclick=\"convertToInteractive('df-4a731e40-7200-4235-b604-86465eae9134')\"\n",
              "              title=\"Convert this dataframe to an interactive table.\"\n",
              "              style=\"display:none;\">\n",
              "        \n",
              "  <svg xmlns=\"http://www.w3.org/2000/svg\" height=\"24px\"viewBox=\"0 0 24 24\"\n",
              "       width=\"24px\">\n",
              "    <path d=\"M0 0h24v24H0V0z\" fill=\"none\"/>\n",
              "    <path d=\"M18.56 5.44l.94 2.06.94-2.06 2.06-.94-2.06-.94-.94-2.06-.94 2.06-2.06.94zm-11 1L8.5 8.5l.94-2.06 2.06-.94-2.06-.94L8.5 2.5l-.94 2.06-2.06.94zm10 10l.94 2.06.94-2.06 2.06-.94-2.06-.94-.94-2.06-.94 2.06-2.06.94z\"/><path d=\"M17.41 7.96l-1.37-1.37c-.4-.4-.92-.59-1.43-.59-.52 0-1.04.2-1.43.59L10.3 9.45l-7.72 7.72c-.78.78-.78 2.05 0 2.83L4 21.41c.39.39.9.59 1.41.59.51 0 1.02-.2 1.41-.59l7.78-7.78 2.81-2.81c.8-.78.8-2.07 0-2.86zM5.41 20L4 18.59l7.72-7.72 1.47 1.35L5.41 20z\"/>\n",
              "  </svg>\n",
              "      </button>\n",
              "      \n",
              "  <style>\n",
              "    .colab-df-container {\n",
              "      display:flex;\n",
              "      flex-wrap:wrap;\n",
              "      gap: 12px;\n",
              "    }\n",
              "\n",
              "    .colab-df-convert {\n",
              "      background-color: #E8F0FE;\n",
              "      border: none;\n",
              "      border-radius: 50%;\n",
              "      cursor: pointer;\n",
              "      display: none;\n",
              "      fill: #1967D2;\n",
              "      height: 32px;\n",
              "      padding: 0 0 0 0;\n",
              "      width: 32px;\n",
              "    }\n",
              "\n",
              "    .colab-df-convert:hover {\n",
              "      background-color: #E2EBFA;\n",
              "      box-shadow: 0px 1px 2px rgba(60, 64, 67, 0.3), 0px 1px 3px 1px rgba(60, 64, 67, 0.15);\n",
              "      fill: #174EA6;\n",
              "    }\n",
              "\n",
              "    [theme=dark] .colab-df-convert {\n",
              "      background-color: #3B4455;\n",
              "      fill: #D2E3FC;\n",
              "    }\n",
              "\n",
              "    [theme=dark] .colab-df-convert:hover {\n",
              "      background-color: #434B5C;\n",
              "      box-shadow: 0px 1px 3px 1px rgba(0, 0, 0, 0.15);\n",
              "      filter: drop-shadow(0px 1px 2px rgba(0, 0, 0, 0.3));\n",
              "      fill: #FFFFFF;\n",
              "    }\n",
              "  </style>\n",
              "\n",
              "      <script>\n",
              "        const buttonEl =\n",
              "          document.querySelector('#df-4a731e40-7200-4235-b604-86465eae9134 button.colab-df-convert');\n",
              "        buttonEl.style.display =\n",
              "          google.colab.kernel.accessAllowed ? 'block' : 'none';\n",
              "\n",
              "        async function convertToInteractive(key) {\n",
              "          const element = document.querySelector('#df-4a731e40-7200-4235-b604-86465eae9134');\n",
              "          const dataTable =\n",
              "            await google.colab.kernel.invokeFunction('convertToInteractive',\n",
              "                                                     [key], {});\n",
              "          if (!dataTable) return;\n",
              "\n",
              "          const docLinkHtml = 'Like what you see? Visit the ' +\n",
              "            '<a target=\"_blank\" href=https://colab.research.google.com/notebooks/data_table.ipynb>data table notebook</a>'\n",
              "            + ' to learn more about interactive tables.';\n",
              "          element.innerHTML = '';\n",
              "          dataTable['output_type'] = 'display_data';\n",
              "          await google.colab.output.renderOutput(dataTable, element);\n",
              "          const docLink = document.createElement('div');\n",
              "          docLink.innerHTML = docLinkHtml;\n",
              "          element.appendChild(docLink);\n",
              "        }\n",
              "      </script>\n",
              "    </div>\n",
              "  </div>\n",
              "  "
            ]
          },
          "metadata": {},
          "execution_count": 6
        }
      ]
    },
    {
      "cell_type": "markdown",
      "source": [
        "Выделение предикторов и целевых переменных"
      ],
      "metadata": {
        "id": "VqUZBwhkGxF4"
      }
    },
    {
      "cell_type": "code",
      "source": [
        "# Признаки для 3-й задачи\n",
        "y_columns = ['Соотношение матрица-наполнитель']\n",
        "X_columns = [\n",
        "  'Плотность, кг/м3',\n",
        "  'модуль упругости, ГПа', \n",
        "  'Количество отвердителя, м.%',\n",
        "  'Содержание эпоксидных групп,%_2', \n",
        "  'Температура вспышки, С_2',\n",
        "  'Поверхностная плотность, г/м2', \n",
        "  'Модуль упругости при растяжении, ГПа',\n",
        "  'Прочность при растяжении, МПа', \n",
        "  'Потребление смолы, г/м2',\n",
        "  'Угол нашивки, град', \n",
        "  'Шаг нашивки', \n",
        "  'Плотность нашивки'\n",
        "]"
      ],
      "metadata": {
        "id": "97ClE6jiIMOQ"
      },
      "execution_count": 8,
      "outputs": []
    },
    {
      "cell_type": "code",
      "source": [
        "y = df.loc[:, y_columns]\n",
        "X = df.loc[:, X_columns]"
      ],
      "metadata": {
        "id": "MStmhB3iIcuR"
      },
      "execution_count": 9,
      "outputs": []
    },
    {
      "cell_type": "code",
      "source": [
        "# Разделяем на тренировочную и тестовую выборку\n",
        "X_train_raw, X_test_raw, y_train, y_test = train_test_split(X, y, test_size=0.3, random_state=48, shuffle=True)\n",
        "print('X_train:', X_train_raw.shape, 'y1_train:', y_train.shape)\n",
        "print('X_test:', X_test_raw.shape, 'y1_test:', y_test.shape)"
      ],
      "metadata": {
        "colab": {
          "base_uri": "https://localhost:8080/"
        },
        "outputId": "982bb135-a838-44c9-e3d0-3b199e26ac75",
        "id": "7pqbeahTGxF6"
      },
      "execution_count": 10,
      "outputs": [
        {
          "output_type": "stream",
          "name": "stdout",
          "text": [
            "X_train: (700, 12) y1_train: (700, 1)\n",
            "X_test: (300, 12) y1_test: (300, 1)\n"
          ]
        }
      ]
    },
    {
      "cell_type": "code",
      "source": [
        "# проверим правильность разбиения на выборки\n",
        "df.shape[0] - X_train_raw.shape[0] - X_test_raw.shape[0]"
      ],
      "metadata": {
        "colab": {
          "base_uri": "https://localhost:8080/"
        },
        "outputId": "5e5b1b94-de1d-4b11-ee08-afdfa17f4784",
        "id": "HyDT6do39gv5"
      },
      "execution_count": 11,
      "outputs": [
        {
          "output_type": "execute_result",
          "data": {
            "text/plain": [
              "0"
            ]
          },
          "metadata": {},
          "execution_count": 11
        }
      ]
    },
    {
      "cell_type": "markdown",
      "source": [
        "# **Препроцессинг**"
      ],
      "metadata": {
        "id": "GOUFAQ6tNb9C"
      }
    },
    {
      "cell_type": "code",
      "source": [
        "# попробуем нормализацию  данных с помощью MinMaxScaler\n",
        "scaler = MinMaxScaler()\n",
        "scaler_norm = ColumnTransformer(transformers=[('scaler', scaler, X_columns)])\n",
        "X_train = scaler_norm.fit_transform(X_train_raw)\n",
        "X_test = scaler_norm.transform(X_test_raw)"
      ],
      "metadata": {
        "id": "rBecnxr6s5qQ"
      },
      "execution_count": 12,
      "outputs": []
    },
    {
      "cell_type": "code",
      "source": [
        "#двумерные массивы y_train и y_test принимают исходные значения\n",
        "y_train = y_train['Соотношение матрица-наполнитель'].values\n",
        "y_test = y_test['Соотношение матрица-наполнитель'].values"
      ],
      "metadata": {
        "id": "S4BaFVihJmXf"
      },
      "execution_count": 17,
      "outputs": []
    },
    {
      "cell_type": "markdown",
      "source": [
        "Проверяем разделение на выборки после нормализации"
      ],
      "metadata": {
        "id": "cwcE3e6xNnYc"
      }
    },
    {
      "cell_type": "code",
      "source": [
        "X_train.shape"
      ],
      "metadata": {
        "colab": {
          "base_uri": "https://localhost:8080/"
        },
        "id": "4xCo94nnuZV8",
        "outputId": "bf6ef7f5-ff86-4b9d-acec-4a55dba35e7a"
      },
      "execution_count": 13,
      "outputs": [
        {
          "output_type": "execute_result",
          "data": {
            "text/plain": [
              "(700, 12)"
            ]
          },
          "metadata": {},
          "execution_count": 13
        }
      ]
    },
    {
      "cell_type": "code",
      "source": [
        "X_test.shape"
      ],
      "metadata": {
        "colab": {
          "base_uri": "https://localhost:8080/"
        },
        "id": "gkhLkwqBucp-",
        "outputId": "d3ccbf5f-64e9-4a8d-deea-cdc23bec6112"
      },
      "execution_count": 14,
      "outputs": [
        {
          "output_type": "execute_result",
          "data": {
            "text/plain": [
              "(300, 12)"
            ]
          },
          "metadata": {},
          "execution_count": 14
        }
      ]
    },
    {
      "cell_type": "code",
      "source": [
        "pd.DataFrame(y_train, columns=y_columns).shape"
      ],
      "metadata": {
        "colab": {
          "base_uri": "https://localhost:8080/"
        },
        "id": "5yqy6Q2BJuZm",
        "outputId": "780a37c9-95e8-4dc8-b528-d0e7cb7cadf1"
      },
      "execution_count": 36,
      "outputs": [
        {
          "output_type": "execute_result",
          "data": {
            "text/plain": [
              "(700, 1)"
            ]
          },
          "metadata": {},
          "execution_count": 36
        }
      ]
    },
    {
      "cell_type": "code",
      "source": [
        "pd.DataFrame(y_test, columns=y_columns).shape"
      ],
      "metadata": {
        "colab": {
          "base_uri": "https://localhost:8080/"
        },
        "id": "YC6LeBCpNQ2K",
        "outputId": "853d9d19-2d24-434f-8972-1ab8d2543b7a"
      },
      "execution_count": 37,
      "outputs": [
        {
          "output_type": "execute_result",
          "data": {
            "text/plain": [
              "(300, 1)"
            ]
          },
          "metadata": {},
          "execution_count": 37
        }
      ]
    },
    {
      "cell_type": "markdown",
      "source": [
        "**Посмотрим описательную статистику до и после предобработки**\n",
        "\n",
        "До нормализации:"
      ],
      "metadata": {
        "id": "_csLBrvsKGZu"
      }
    },
    {
      "cell_type": "code",
      "source": [
        "X_train_raw.describe().loc[['min', 'max', '50%', 'mean', 'std'], :].style\\\n",
        "    .set_table_styles([{'selector': 'th.col_heading',\n",
        "                        'props': [('text-align', 'left')]}])\\\n",
        "    .set_properties(**{'text-align': 'left'})\\\n",
        "    .format('{:.3f}')"
      ],
      "metadata": {
        "colab": {
          "base_uri": "https://localhost:8080/",
          "height": 296
        },
        "id": "zF9qnMZuKGAa",
        "outputId": "691efbef-0fd9-4c58-b503-ff6db62fcf36"
      },
      "execution_count": 31,
      "outputs": [
        {
          "output_type": "execute_result",
          "data": {
            "text/plain": [
              "<pandas.io.formats.style.Styler at 0x7f5399fba380>"
            ],
            "text/html": [
              "<style type=\"text/css\">\n",
              "#T_ec4c8 th.col_heading {\n",
              "  text-align: left;\n",
              "}\n",
              "#T_ec4c8_row0_col0, #T_ec4c8_row0_col1, #T_ec4c8_row0_col2, #T_ec4c8_row0_col3, #T_ec4c8_row0_col4, #T_ec4c8_row0_col5, #T_ec4c8_row0_col6, #T_ec4c8_row0_col7, #T_ec4c8_row0_col8, #T_ec4c8_row0_col9, #T_ec4c8_row0_col10, #T_ec4c8_row0_col11, #T_ec4c8_row1_col0, #T_ec4c8_row1_col1, #T_ec4c8_row1_col2, #T_ec4c8_row1_col3, #T_ec4c8_row1_col4, #T_ec4c8_row1_col5, #T_ec4c8_row1_col6, #T_ec4c8_row1_col7, #T_ec4c8_row1_col8, #T_ec4c8_row1_col9, #T_ec4c8_row1_col10, #T_ec4c8_row1_col11, #T_ec4c8_row2_col0, #T_ec4c8_row2_col1, #T_ec4c8_row2_col2, #T_ec4c8_row2_col3, #T_ec4c8_row2_col4, #T_ec4c8_row2_col5, #T_ec4c8_row2_col6, #T_ec4c8_row2_col7, #T_ec4c8_row2_col8, #T_ec4c8_row2_col9, #T_ec4c8_row2_col10, #T_ec4c8_row2_col11, #T_ec4c8_row3_col0, #T_ec4c8_row3_col1, #T_ec4c8_row3_col2, #T_ec4c8_row3_col3, #T_ec4c8_row3_col4, #T_ec4c8_row3_col5, #T_ec4c8_row3_col6, #T_ec4c8_row3_col7, #T_ec4c8_row3_col8, #T_ec4c8_row3_col9, #T_ec4c8_row3_col10, #T_ec4c8_row3_col11, #T_ec4c8_row4_col0, #T_ec4c8_row4_col1, #T_ec4c8_row4_col2, #T_ec4c8_row4_col3, #T_ec4c8_row4_col4, #T_ec4c8_row4_col5, #T_ec4c8_row4_col6, #T_ec4c8_row4_col7, #T_ec4c8_row4_col8, #T_ec4c8_row4_col9, #T_ec4c8_row4_col10, #T_ec4c8_row4_col11 {\n",
              "  text-align: left;\n",
              "}\n",
              "</style>\n",
              "<table id=\"T_ec4c8\" class=\"dataframe\">\n",
              "  <thead>\n",
              "    <tr>\n",
              "      <th class=\"blank level0\" >&nbsp;</th>\n",
              "      <th id=\"T_ec4c8_level0_col0\" class=\"col_heading level0 col0\" >Плотность, кг/м3</th>\n",
              "      <th id=\"T_ec4c8_level0_col1\" class=\"col_heading level0 col1\" >модуль упругости, ГПа</th>\n",
              "      <th id=\"T_ec4c8_level0_col2\" class=\"col_heading level0 col2\" >Количество отвердителя, м.%</th>\n",
              "      <th id=\"T_ec4c8_level0_col3\" class=\"col_heading level0 col3\" >Содержание эпоксидных групп,%_2</th>\n",
              "      <th id=\"T_ec4c8_level0_col4\" class=\"col_heading level0 col4\" >Температура вспышки, С_2</th>\n",
              "      <th id=\"T_ec4c8_level0_col5\" class=\"col_heading level0 col5\" >Поверхностная плотность, г/м2</th>\n",
              "      <th id=\"T_ec4c8_level0_col6\" class=\"col_heading level0 col6\" >Модуль упругости при растяжении, ГПа</th>\n",
              "      <th id=\"T_ec4c8_level0_col7\" class=\"col_heading level0 col7\" >Прочность при растяжении, МПа</th>\n",
              "      <th id=\"T_ec4c8_level0_col8\" class=\"col_heading level0 col8\" >Потребление смолы, г/м2</th>\n",
              "      <th id=\"T_ec4c8_level0_col9\" class=\"col_heading level0 col9\" >Угол нашивки, град</th>\n",
              "      <th id=\"T_ec4c8_level0_col10\" class=\"col_heading level0 col10\" >Шаг нашивки</th>\n",
              "      <th id=\"T_ec4c8_level0_col11\" class=\"col_heading level0 col11\" >Плотность нашивки</th>\n",
              "    </tr>\n",
              "  </thead>\n",
              "  <tbody>\n",
              "    <tr>\n",
              "      <th id=\"T_ec4c8_level0_row0\" class=\"row_heading level0 row0\" >min</th>\n",
              "      <td id=\"T_ec4c8_row0_col0\" class=\"data row0 col0\" >1784.482</td>\n",
              "      <td id=\"T_ec4c8_row0_col1\" class=\"data row0 col1\" >9.986</td>\n",
              "      <td id=\"T_ec4c8_row0_col2\" class=\"data row0 col2\" >29.956</td>\n",
              "      <td id=\"T_ec4c8_row0_col3\" class=\"data row0 col3\" >15.696</td>\n",
              "      <td id=\"T_ec4c8_row0_col4\" class=\"data row0 col4\" >173.485</td>\n",
              "      <td id=\"T_ec4c8_row0_col5\" class=\"data row0 col5\" >1.668</td>\n",
              "      <td id=\"T_ec4c8_row0_col6\" class=\"data row0 col6\" >65.553</td>\n",
              "      <td id=\"T_ec4c8_row0_col7\" class=\"data row0 col7\" >1036.857</td>\n",
              "      <td id=\"T_ec4c8_row0_col8\" class=\"data row0 col8\" >41.048</td>\n",
              "      <td id=\"T_ec4c8_row0_col9\" class=\"data row0 col9\" >0.000</td>\n",
              "      <td id=\"T_ec4c8_row0_col10\" class=\"data row0 col10\" >0.145</td>\n",
              "      <td id=\"T_ec4c8_row0_col11\" class=\"data row0 col11\" >20.572</td>\n",
              "    </tr>\n",
              "    <tr>\n",
              "      <th id=\"T_ec4c8_level0_row1\" class=\"row_heading level0 row1\" >max</th>\n",
              "      <td id=\"T_ec4c8_row1_col0\" class=\"data row1 col0\" >2192.739</td>\n",
              "      <td id=\"T_ec4c8_row1_col1\" class=\"data row1 col1\" >1649.416</td>\n",
              "      <td id=\"T_ec4c8_row1_col2\" class=\"data row1 col2\" >192.852</td>\n",
              "      <td id=\"T_ec4c8_row1_col3\" class=\"data row1 col3\" >28.955</td>\n",
              "      <td id=\"T_ec4c8_row1_col4\" class=\"data row1 col4\" >396.898</td>\n",
              "      <td id=\"T_ec4c8_row1_col5\" class=\"data row1 col5\" >1238.476</td>\n",
              "      <td id=\"T_ec4c8_row1_col6\" class=\"data row1 col6\" >82.682</td>\n",
              "      <td id=\"T_ec4c8_row1_col7\" class=\"data row1 col7\" >3848.437</td>\n",
              "      <td id=\"T_ec4c8_row1_col8\" class=\"data row1 col8\" >386.903</td>\n",
              "      <td id=\"T_ec4c8_row1_col9\" class=\"data row1 col9\" >1.000</td>\n",
              "      <td id=\"T_ec4c8_row1_col10\" class=\"data row1 col10\" >14.376</td>\n",
              "      <td id=\"T_ec4c8_row1_col11\" class=\"data row1 col11\" >89.877</td>\n",
              "    </tr>\n",
              "    <tr>\n",
              "      <th id=\"T_ec4c8_level0_row2\" class=\"row_heading level0 row2\" >50%</th>\n",
              "      <td id=\"T_ec4c8_row2_col0\" class=\"data row2 col0\" >1974.807</td>\n",
              "      <td id=\"T_ec4c8_row2_col1\" class=\"data row2 col1\" >742.464</td>\n",
              "      <td id=\"T_ec4c8_row2_col2\" class=\"data row2 col2\" >110.454</td>\n",
              "      <td id=\"T_ec4c8_row2_col3\" class=\"data row2 col3\" >22.187</td>\n",
              "      <td id=\"T_ec4c8_row2_col4\" class=\"data row2 col4\" >284.615</td>\n",
              "      <td id=\"T_ec4c8_row2_col5\" class=\"data row2 col5\" >443.998</td>\n",
              "      <td id=\"T_ec4c8_row2_col6\" class=\"data row2 col6\" >73.335</td>\n",
              "      <td id=\"T_ec4c8_row2_col7\" class=\"data row2 col7\" >2448.608</td>\n",
              "      <td id=\"T_ec4c8_row2_col8\" class=\"data row2 col8\" >216.692</td>\n",
              "      <td id=\"T_ec4c8_row2_col9\" class=\"data row2 col9\" >1.000</td>\n",
              "      <td id=\"T_ec4c8_row2_col10\" class=\"data row2 col10\" >7.000</td>\n",
              "      <td id=\"T_ec4c8_row2_col11\" class=\"data row2 col11\" >57.686</td>\n",
              "    </tr>\n",
              "    <tr>\n",
              "      <th id=\"T_ec4c8_level0_row3\" class=\"row_heading level0 row3\" >mean</th>\n",
              "      <td id=\"T_ec4c8_row3_col0\" class=\"data row3 col0\" >1972.982</td>\n",
              "      <td id=\"T_ec4c8_row3_col1\" class=\"data row3 col1\" >744.270</td>\n",
              "      <td id=\"T_ec4c8_row3_col2\" class=\"data row3 col2\" >110.904</td>\n",
              "      <td id=\"T_ec4c8_row3_col3\" class=\"data row3 col3\" >22.222</td>\n",
              "      <td id=\"T_ec4c8_row3_col4\" class=\"data row3 col4\" >284.521</td>\n",
              "      <td id=\"T_ec4c8_row3_col5\" class=\"data row3 col5\" >472.354</td>\n",
              "      <td id=\"T_ec4c8_row3_col6\" class=\"data row3 col6\" >73.371</td>\n",
              "      <td id=\"T_ec4c8_row3_col7\" class=\"data row3 col7\" >2454.309</td>\n",
              "      <td id=\"T_ec4c8_row3_col8\" class=\"data row3 col8\" >216.613</td>\n",
              "      <td id=\"T_ec4c8_row3_col9\" class=\"data row3 col9\" >0.507</td>\n",
              "      <td id=\"T_ec4c8_row3_col10\" class=\"data row3 col10\" >6.987</td>\n",
              "      <td id=\"T_ec4c8_row3_col11\" class=\"data row3 col11\" >57.163</td>\n",
              "    </tr>\n",
              "    <tr>\n",
              "      <th id=\"T_ec4c8_level0_row4\" class=\"row_heading level0 row4\" >std</th>\n",
              "      <td id=\"T_ec4c8_row4_col0\" class=\"data row4 col0\" >73.205</td>\n",
              "      <td id=\"T_ec4c8_row4_col1\" class=\"data row4 col1\" >324.405</td>\n",
              "      <td id=\"T_ec4c8_row4_col2\" class=\"data row4 col2\" >27.272</td>\n",
              "      <td id=\"T_ec4c8_row4_col3\" class=\"data row4 col3\" >2.366</td>\n",
              "      <td id=\"T_ec4c8_row4_col4\" class=\"data row4 col4\" >40.015</td>\n",
              "      <td id=\"T_ec4c8_row4_col5\" class=\"data row4 col5\" >278.013</td>\n",
              "      <td id=\"T_ec4c8_row4_col6\" class=\"data row4 col6\" >3.103</td>\n",
              "      <td id=\"T_ec4c8_row4_col7\" class=\"data row4 col7\" >486.392</td>\n",
              "      <td id=\"T_ec4c8_row4_col8\" class=\"data row4 col8\" >57.620</td>\n",
              "      <td id=\"T_ec4c8_row4_col9\" class=\"data row4 col9\" >0.500</td>\n",
              "      <td id=\"T_ec4c8_row4_col10\" class=\"data row4 col10\" >2.558</td>\n",
              "      <td id=\"T_ec4c8_row4_col11\" class=\"data row4 col11\" >11.752</td>\n",
              "    </tr>\n",
              "  </tbody>\n",
              "</table>\n"
            ]
          },
          "metadata": {},
          "execution_count": 31
        }
      ]
    },
    {
      "cell_type": "code",
      "source": [
        "X_test_raw.describe().loc[['min', 'max', '50%', 'mean', 'std'], :].style\\\n",
        "    .set_table_styles([{'selector': 'th.col_heading',\n",
        "                        'props': [('text-align', 'left')]}])\\\n",
        "    .set_properties(**{'text-align': 'left'})\\\n",
        "    .format('{:.3f}')"
      ],
      "metadata": {
        "colab": {
          "base_uri": "https://localhost:8080/",
          "height": 296
        },
        "id": "J4YOerH4KkK2",
        "outputId": "0d243567-8b8d-473e-d996-7838c41dd8ce"
      },
      "execution_count": 30,
      "outputs": [
        {
          "output_type": "execute_result",
          "data": {
            "text/plain": [
              "<pandas.io.formats.style.Styler at 0x7f5399fe6fe0>"
            ],
            "text/html": [
              "<style type=\"text/css\">\n",
              "#T_f618f th.col_heading {\n",
              "  text-align: left;\n",
              "}\n",
              "#T_f618f_row0_col0, #T_f618f_row0_col1, #T_f618f_row0_col2, #T_f618f_row0_col3, #T_f618f_row0_col4, #T_f618f_row0_col5, #T_f618f_row0_col6, #T_f618f_row0_col7, #T_f618f_row0_col8, #T_f618f_row0_col9, #T_f618f_row0_col10, #T_f618f_row0_col11, #T_f618f_row1_col0, #T_f618f_row1_col1, #T_f618f_row1_col2, #T_f618f_row1_col3, #T_f618f_row1_col4, #T_f618f_row1_col5, #T_f618f_row1_col6, #T_f618f_row1_col7, #T_f618f_row1_col8, #T_f618f_row1_col9, #T_f618f_row1_col10, #T_f618f_row1_col11, #T_f618f_row2_col0, #T_f618f_row2_col1, #T_f618f_row2_col2, #T_f618f_row2_col3, #T_f618f_row2_col4, #T_f618f_row2_col5, #T_f618f_row2_col6, #T_f618f_row2_col7, #T_f618f_row2_col8, #T_f618f_row2_col9, #T_f618f_row2_col10, #T_f618f_row2_col11, #T_f618f_row3_col0, #T_f618f_row3_col1, #T_f618f_row3_col2, #T_f618f_row3_col3, #T_f618f_row3_col4, #T_f618f_row3_col5, #T_f618f_row3_col6, #T_f618f_row3_col7, #T_f618f_row3_col8, #T_f618f_row3_col9, #T_f618f_row3_col10, #T_f618f_row3_col11, #T_f618f_row4_col0, #T_f618f_row4_col1, #T_f618f_row4_col2, #T_f618f_row4_col3, #T_f618f_row4_col4, #T_f618f_row4_col5, #T_f618f_row4_col6, #T_f618f_row4_col7, #T_f618f_row4_col8, #T_f618f_row4_col9, #T_f618f_row4_col10, #T_f618f_row4_col11 {\n",
              "  text-align: left;\n",
              "}\n",
              "</style>\n",
              "<table id=\"T_f618f\" class=\"dataframe\">\n",
              "  <thead>\n",
              "    <tr>\n",
              "      <th class=\"blank level0\" >&nbsp;</th>\n",
              "      <th id=\"T_f618f_level0_col0\" class=\"col_heading level0 col0\" >Плотность, кг/м3</th>\n",
              "      <th id=\"T_f618f_level0_col1\" class=\"col_heading level0 col1\" >модуль упругости, ГПа</th>\n",
              "      <th id=\"T_f618f_level0_col2\" class=\"col_heading level0 col2\" >Количество отвердителя, м.%</th>\n",
              "      <th id=\"T_f618f_level0_col3\" class=\"col_heading level0 col3\" >Содержание эпоксидных групп,%_2</th>\n",
              "      <th id=\"T_f618f_level0_col4\" class=\"col_heading level0 col4\" >Температура вспышки, С_2</th>\n",
              "      <th id=\"T_f618f_level0_col5\" class=\"col_heading level0 col5\" >Поверхностная плотность, г/м2</th>\n",
              "      <th id=\"T_f618f_level0_col6\" class=\"col_heading level0 col6\" >Модуль упругости при растяжении, ГПа</th>\n",
              "      <th id=\"T_f618f_level0_col7\" class=\"col_heading level0 col7\" >Прочность при растяжении, МПа</th>\n",
              "      <th id=\"T_f618f_level0_col8\" class=\"col_heading level0 col8\" >Потребление смолы, г/м2</th>\n",
              "      <th id=\"T_f618f_level0_col9\" class=\"col_heading level0 col9\" >Угол нашивки, град</th>\n",
              "      <th id=\"T_f618f_level0_col10\" class=\"col_heading level0 col10\" >Шаг нашивки</th>\n",
              "      <th id=\"T_f618f_level0_col11\" class=\"col_heading level0 col11\" >Плотность нашивки</th>\n",
              "    </tr>\n",
              "  </thead>\n",
              "  <tbody>\n",
              "    <tr>\n",
              "      <th id=\"T_f618f_level0_row0\" class=\"row_heading level0 row0\" >min</th>\n",
              "      <td id=\"T_f618f_row0_col0\" class=\"data row0 col0\" >1786.036</td>\n",
              "      <td id=\"T_f618f_row0_col1\" class=\"data row0 col1\" >2.437</td>\n",
              "      <td id=\"T_f618f_row0_col2\" class=\"data row0 col2\" >33.624</td>\n",
              "      <td id=\"T_f618f_row0_col3\" class=\"data row0 col3\" >16.668</td>\n",
              "      <td id=\"T_f618f_row0_col4\" class=\"data row0 col4\" >189.867</td>\n",
              "      <td id=\"T_f618f_row0_col5\" class=\"data row0 col5\" >0.604</td>\n",
              "      <td id=\"T_f618f_row0_col6\" class=\"data row0 col6\" >64.054</td>\n",
              "      <td id=\"T_f618f_row0_col7\" class=\"data row0 col7\" >1143.210</td>\n",
              "      <td id=\"T_f618f_row0_col8\" class=\"data row0 col8\" >63.686</td>\n",
              "      <td id=\"T_f618f_row0_col9\" class=\"data row0 col9\" >0.000</td>\n",
              "      <td id=\"T_f618f_row0_col10\" class=\"data row0 col10\" >0.038</td>\n",
              "      <td id=\"T_f618f_row0_col11\" class=\"data row0 col11\" >23.898</td>\n",
              "    </tr>\n",
              "    <tr>\n",
              "      <th id=\"T_f618f_level0_row1\" class=\"row_heading level0 row1\" >max</th>\n",
              "      <td id=\"T_f618f_row1_col0\" class=\"data row1 col0\" >2182.752</td>\n",
              "      <td id=\"T_f618f_row1_col1\" class=\"data row1 col1\" >1628.000</td>\n",
              "      <td id=\"T_f618f_row1_col2\" class=\"data row1 col2\" >192.334</td>\n",
              "      <td id=\"T_f618f_row1_col3\" class=\"data row1 col3\" >28.620</td>\n",
              "      <td id=\"T_f618f_row1_col4\" class=\"data row1 col4\" >403.653</td>\n",
              "      <td id=\"T_f618f_row1_col5\" class=\"data row1 col5\" >1291.340</td>\n",
              "      <td id=\"T_f618f_row1_col6\" class=\"data row1 col6\" >82.526</td>\n",
              "      <td id=\"T_f618f_row1_col7\" class=\"data row1 col7\" >3791.073</td>\n",
              "      <td id=\"T_f618f_row1_col8\" class=\"data row1 col8\" >378.757</td>\n",
              "      <td id=\"T_f618f_row1_col9\" class=\"data row1 col9\" >1.000</td>\n",
              "      <td id=\"T_f618f_row1_col10\" class=\"data row1 col10\" >14.441</td>\n",
              "      <td id=\"T_f618f_row1_col11\" class=\"data row1 col11\" >92.963</td>\n",
              "    </tr>\n",
              "    <tr>\n",
              "      <th id=\"T_f618f_level0_row2\" class=\"row_heading level0 row2\" >50%</th>\n",
              "      <td id=\"T_f618f_row2_col0\" class=\"data row2 col0\" >1981.090</td>\n",
              "      <td id=\"T_f618f_row2_col1\" class=\"data row2 col1\" >736.750</td>\n",
              "      <td id=\"T_f618f_row2_col2\" class=\"data row2 col2\" >111.507</td>\n",
              "      <td id=\"T_f618f_row2_col3\" class=\"data row2 col3\" >22.268</td>\n",
              "      <td id=\"T_f618f_row2_col4\" class=\"data row2 col4\" >289.078</td>\n",
              "      <td id=\"T_f618f_row2_col5\" class=\"data row2 col5\" >463.787</td>\n",
              "      <td id=\"T_f618f_row2_col6\" class=\"data row2 col6\" >72.932</td>\n",
              "      <td id=\"T_f618f_row2_col7\" class=\"data row2 col7\" >2496.348</td>\n",
              "      <td id=\"T_f618f_row2_col8\" class=\"data row2 col8\" >220.523</td>\n",
              "      <td id=\"T_f618f_row2_col9\" class=\"data row2 col9\" >0.000</td>\n",
              "      <td id=\"T_f618f_row2_col10\" class=\"data row2 col10\" >6.702</td>\n",
              "      <td id=\"T_f618f_row2_col11\" class=\"data row2 col11\" >57.000</td>\n",
              "    </tr>\n",
              "    <tr>\n",
              "      <th id=\"T_f618f_level0_row3\" class=\"row_heading level0 row3\" >mean</th>\n",
              "      <td id=\"T_f618f_row3_col0\" class=\"data row3 col0\" >1981.050</td>\n",
              "      <td id=\"T_f618f_row3_col1\" class=\"data row3 col1\" >725.622</td>\n",
              "      <td id=\"T_f618f_row3_col2\" class=\"data row3 col2\" >110.631</td>\n",
              "      <td id=\"T_f618f_row3_col3\" class=\"data row3 col3\" >22.267</td>\n",
              "      <td id=\"T_f618f_row3_col4\" class=\"data row3 col4\" >289.308</td>\n",
              "      <td id=\"T_f618f_row3_col5\" class=\"data row3 col5\" >497.361</td>\n",
              "      <td id=\"T_f618f_row3_col6\" class=\"data row3 col6\" >73.195</td>\n",
              "      <td id=\"T_f618f_row3_col7\" class=\"data row3 col7\" >2489.493</td>\n",
              "      <td id=\"T_f618f_row3_col8\" class=\"data row3 col8\" >222.082</td>\n",
              "      <td id=\"T_f618f_row3_col9\" class=\"data row3 col9\" >0.470</td>\n",
              "      <td id=\"T_f618f_row3_col10\" class=\"data row3 col10\" >6.732</td>\n",
              "      <td id=\"T_f618f_row3_col11\" class=\"data row3 col11\" >57.542</td>\n",
              "    </tr>\n",
              "    <tr>\n",
              "      <th id=\"T_f618f_level0_row4\" class=\"row_heading level0 row4\" >std</th>\n",
              "      <td id=\"T_f618f_row4_col0\" class=\"data row4 col0\" >72.171</td>\n",
              "      <td id=\"T_f618f_row4_col1\" class=\"data row4 col1\" >334.942</td>\n",
              "      <td id=\"T_f618f_row4_col2\" class=\"data row4 col2\" >29.262</td>\n",
              "      <td id=\"T_f618f_row4_col3\" class=\"data row4 col3\" >2.430</td>\n",
              "      <td id=\"T_f618f_row4_col4\" class=\"data row4 col4\" >40.602</td>\n",
              "      <td id=\"T_f618f_row4_col5\" class=\"data row4 col5\" >276.669</td>\n",
              "      <td id=\"T_f618f_row4_col6\" class=\"data row4 col6\" >3.141</td>\n",
              "      <td id=\"T_f618f_row4_col7\" class=\"data row4 col7\" >481.696</td>\n",
              "      <td id=\"T_f618f_row4_col8\" class=\"data row4 col8\" >61.856</td>\n",
              "      <td id=\"T_f618f_row4_col9\" class=\"data row4 col9\" >0.500</td>\n",
              "      <td id=\"T_f618f_row4_col10\" class=\"data row4 col10\" >2.552</td>\n",
              "      <td id=\"T_f618f_row4_col11\" class=\"data row4 col11\" >12.078</td>\n",
              "    </tr>\n",
              "  </tbody>\n",
              "</table>\n"
            ]
          },
          "metadata": {},
          "execution_count": 30
        }
      ]
    },
    {
      "cell_type": "code",
      "source": [
        "pd.DataFrame(y_train, columns=y_columns).describe().loc[['min', 'max', '50%', 'mean', 'std'], :].style\\\n",
        "    .set_properties(**{'text-align': 'left'})\\\n",
        "    .format('{:.3f}')"
      ],
      "metadata": {
        "id": "vr6mnEklLQp1",
        "colab": {
          "base_uri": "https://localhost:8080/",
          "height": 206
        },
        "outputId": "eec65a73-bf32-434b-ca17-0971287102f5"
      },
      "execution_count": 29,
      "outputs": [
        {
          "output_type": "execute_result",
          "data": {
            "text/plain": [
              "<pandas.io.formats.style.Styler at 0x7f539cec20e0>"
            ],
            "text/html": [
              "<style type=\"text/css\">\n",
              "#T_84e50_row0_col0, #T_84e50_row1_col0, #T_84e50_row2_col0, #T_84e50_row3_col0, #T_84e50_row4_col0 {\n",
              "  text-align: left;\n",
              "}\n",
              "</style>\n",
              "<table id=\"T_84e50\" class=\"dataframe\">\n",
              "  <thead>\n",
              "    <tr>\n",
              "      <th class=\"blank level0\" >&nbsp;</th>\n",
              "      <th id=\"T_84e50_level0_col0\" class=\"col_heading level0 col0\" >Соотношение матрица-наполнитель</th>\n",
              "    </tr>\n",
              "  </thead>\n",
              "  <tbody>\n",
              "    <tr>\n",
              "      <th id=\"T_84e50_level0_row0\" class=\"row_heading level0 row0\" >min</th>\n",
              "      <td id=\"T_84e50_row0_col0\" class=\"data row0 col0\" >0.389</td>\n",
              "    </tr>\n",
              "    <tr>\n",
              "      <th id=\"T_84e50_level0_row1\" class=\"row_heading level0 row1\" >max</th>\n",
              "      <td id=\"T_84e50_row1_col0\" class=\"data row1 col0\" >5.592</td>\n",
              "    </tr>\n",
              "    <tr>\n",
              "      <th id=\"T_84e50_level0_row2\" class=\"row_heading level0 row2\" >50%</th>\n",
              "      <td id=\"T_84e50_row2_col0\" class=\"data row2 col0\" >2.896</td>\n",
              "    </tr>\n",
              "    <tr>\n",
              "      <th id=\"T_84e50_level0_row3\" class=\"row_heading level0 row3\" >mean</th>\n",
              "      <td id=\"T_84e50_row3_col0\" class=\"data row3 col0\" >2.926</td>\n",
              "    </tr>\n",
              "    <tr>\n",
              "      <th id=\"T_84e50_level0_row4\" class=\"row_heading level0 row4\" >std</th>\n",
              "      <td id=\"T_84e50_row4_col0\" class=\"data row4 col0\" >0.923</td>\n",
              "    </tr>\n",
              "  </tbody>\n",
              "</table>\n"
            ]
          },
          "metadata": {},
          "execution_count": 29
        }
      ]
    },
    {
      "cell_type": "code",
      "source": [
        "pd.DataFrame(y_test, columns=y_columns).describe().loc[['min', 'max', '50%', 'mean', 'std'], :].style\\\n",
        "    .set_properties(**{'text-align': 'left'})\\\n",
        "    .format('{:.3f}')"
      ],
      "metadata": {
        "colab": {
          "base_uri": "https://localhost:8080/",
          "height": 206
        },
        "id": "Z72xaTHDLRW_",
        "outputId": "f4ee4f68-5aae-42a7-b9f2-df0e5969724d"
      },
      "execution_count": 28,
      "outputs": [
        {
          "output_type": "execute_result",
          "data": {
            "text/plain": [
              "<pandas.io.formats.style.Styler at 0x7f5434aebd60>"
            ],
            "text/html": [
              "<style type=\"text/css\">\n",
              "#T_04e28_row0_col0, #T_04e28_row1_col0, #T_04e28_row2_col0, #T_04e28_row3_col0, #T_04e28_row4_col0 {\n",
              "  text-align: left;\n",
              "}\n",
              "</style>\n",
              "<table id=\"T_04e28\" class=\"dataframe\">\n",
              "  <thead>\n",
              "    <tr>\n",
              "      <th class=\"blank level0\" >&nbsp;</th>\n",
              "      <th id=\"T_04e28_level0_col0\" class=\"col_heading level0 col0\" >Соотношение матрица-наполнитель</th>\n",
              "    </tr>\n",
              "  </thead>\n",
              "  <tbody>\n",
              "    <tr>\n",
              "      <th id=\"T_04e28_level0_row0\" class=\"row_heading level0 row0\" >min</th>\n",
              "      <td id=\"T_04e28_row0_col0\" class=\"data row0 col0\" >0.597</td>\n",
              "    </tr>\n",
              "    <tr>\n",
              "      <th id=\"T_04e28_level0_row1\" class=\"row_heading level0 row1\" >max</th>\n",
              "      <td id=\"T_04e28_row1_col0\" class=\"data row1 col0\" >5.456</td>\n",
              "    </tr>\n",
              "    <tr>\n",
              "      <th id=\"T_04e28_level0_row2\" class=\"row_heading level0 row2\" >50%</th>\n",
              "      <td id=\"T_04e28_row2_col0\" class=\"data row2 col0\" >2.951</td>\n",
              "    </tr>\n",
              "    <tr>\n",
              "      <th id=\"T_04e28_level0_row3\" class=\"row_heading level0 row3\" >mean</th>\n",
              "      <td id=\"T_04e28_row3_col0\" class=\"data row3 col0\" >2.961</td>\n",
              "    </tr>\n",
              "    <tr>\n",
              "      <th id=\"T_04e28_level0_row4\" class=\"row_heading level0 row4\" >std</th>\n",
              "      <td id=\"T_04e28_row4_col0\" class=\"data row4 col0\" >0.876</td>\n",
              "    </tr>\n",
              "  </tbody>\n",
              "</table>\n"
            ]
          },
          "metadata": {},
          "execution_count": 28
        }
      ]
    },
    {
      "cell_type": "markdown",
      "source": [
        "После:"
      ],
      "metadata": {
        "id": "1RKVrV0iLTtt"
      }
    },
    {
      "cell_type": "code",
      "source": [
        "pd.DataFrame(X_train, columns=X_columns).describe().loc[['min', 'max', '50%', 'mean', 'std'], :].style\\\n",
        "    .set_table_styles([{'selector': 'th.col_heading',\n",
        "                        'props': [('text-align', 'left')]}])\\\n",
        "    .set_properties(**{'text-align': 'left'})\\\n",
        "    .format('{:.3f}')"
      ],
      "metadata": {
        "colab": {
          "base_uri": "https://localhost:8080/",
          "height": 296
        },
        "id": "9Vmp8GoJLaWg",
        "outputId": "580faea0-a993-436e-9146-b39aeaec49e8"
      },
      "execution_count": 32,
      "outputs": [
        {
          "output_type": "execute_result",
          "data": {
            "text/plain": [
              "<pandas.io.formats.style.Styler at 0x7f539ad49090>"
            ],
            "text/html": [
              "<style type=\"text/css\">\n",
              "#T_eebba th.col_heading {\n",
              "  text-align: left;\n",
              "}\n",
              "#T_eebba_row0_col0, #T_eebba_row0_col1, #T_eebba_row0_col2, #T_eebba_row0_col3, #T_eebba_row0_col4, #T_eebba_row0_col5, #T_eebba_row0_col6, #T_eebba_row0_col7, #T_eebba_row0_col8, #T_eebba_row0_col9, #T_eebba_row0_col10, #T_eebba_row0_col11, #T_eebba_row1_col0, #T_eebba_row1_col1, #T_eebba_row1_col2, #T_eebba_row1_col3, #T_eebba_row1_col4, #T_eebba_row1_col5, #T_eebba_row1_col6, #T_eebba_row1_col7, #T_eebba_row1_col8, #T_eebba_row1_col9, #T_eebba_row1_col10, #T_eebba_row1_col11, #T_eebba_row2_col0, #T_eebba_row2_col1, #T_eebba_row2_col2, #T_eebba_row2_col3, #T_eebba_row2_col4, #T_eebba_row2_col5, #T_eebba_row2_col6, #T_eebba_row2_col7, #T_eebba_row2_col8, #T_eebba_row2_col9, #T_eebba_row2_col10, #T_eebba_row2_col11, #T_eebba_row3_col0, #T_eebba_row3_col1, #T_eebba_row3_col2, #T_eebba_row3_col3, #T_eebba_row3_col4, #T_eebba_row3_col5, #T_eebba_row3_col6, #T_eebba_row3_col7, #T_eebba_row3_col8, #T_eebba_row3_col9, #T_eebba_row3_col10, #T_eebba_row3_col11, #T_eebba_row4_col0, #T_eebba_row4_col1, #T_eebba_row4_col2, #T_eebba_row4_col3, #T_eebba_row4_col4, #T_eebba_row4_col5, #T_eebba_row4_col6, #T_eebba_row4_col7, #T_eebba_row4_col8, #T_eebba_row4_col9, #T_eebba_row4_col10, #T_eebba_row4_col11 {\n",
              "  text-align: left;\n",
              "}\n",
              "</style>\n",
              "<table id=\"T_eebba\" class=\"dataframe\">\n",
              "  <thead>\n",
              "    <tr>\n",
              "      <th class=\"blank level0\" >&nbsp;</th>\n",
              "      <th id=\"T_eebba_level0_col0\" class=\"col_heading level0 col0\" >Плотность, кг/м3</th>\n",
              "      <th id=\"T_eebba_level0_col1\" class=\"col_heading level0 col1\" >модуль упругости, ГПа</th>\n",
              "      <th id=\"T_eebba_level0_col2\" class=\"col_heading level0 col2\" >Количество отвердителя, м.%</th>\n",
              "      <th id=\"T_eebba_level0_col3\" class=\"col_heading level0 col3\" >Содержание эпоксидных групп,%_2</th>\n",
              "      <th id=\"T_eebba_level0_col4\" class=\"col_heading level0 col4\" >Температура вспышки, С_2</th>\n",
              "      <th id=\"T_eebba_level0_col5\" class=\"col_heading level0 col5\" >Поверхностная плотность, г/м2</th>\n",
              "      <th id=\"T_eebba_level0_col6\" class=\"col_heading level0 col6\" >Модуль упругости при растяжении, ГПа</th>\n",
              "      <th id=\"T_eebba_level0_col7\" class=\"col_heading level0 col7\" >Прочность при растяжении, МПа</th>\n",
              "      <th id=\"T_eebba_level0_col8\" class=\"col_heading level0 col8\" >Потребление смолы, г/м2</th>\n",
              "      <th id=\"T_eebba_level0_col9\" class=\"col_heading level0 col9\" >Угол нашивки, град</th>\n",
              "      <th id=\"T_eebba_level0_col10\" class=\"col_heading level0 col10\" >Шаг нашивки</th>\n",
              "      <th id=\"T_eebba_level0_col11\" class=\"col_heading level0 col11\" >Плотность нашивки</th>\n",
              "    </tr>\n",
              "  </thead>\n",
              "  <tbody>\n",
              "    <tr>\n",
              "      <th id=\"T_eebba_level0_row0\" class=\"row_heading level0 row0\" >min</th>\n",
              "      <td id=\"T_eebba_row0_col0\" class=\"data row0 col0\" >0.000</td>\n",
              "      <td id=\"T_eebba_row0_col1\" class=\"data row0 col1\" >0.000</td>\n",
              "      <td id=\"T_eebba_row0_col2\" class=\"data row0 col2\" >0.000</td>\n",
              "      <td id=\"T_eebba_row0_col3\" class=\"data row0 col3\" >0.000</td>\n",
              "      <td id=\"T_eebba_row0_col4\" class=\"data row0 col4\" >0.000</td>\n",
              "      <td id=\"T_eebba_row0_col5\" class=\"data row0 col5\" >0.000</td>\n",
              "      <td id=\"T_eebba_row0_col6\" class=\"data row0 col6\" >0.000</td>\n",
              "      <td id=\"T_eebba_row0_col7\" class=\"data row0 col7\" >0.000</td>\n",
              "      <td id=\"T_eebba_row0_col8\" class=\"data row0 col8\" >0.000</td>\n",
              "      <td id=\"T_eebba_row0_col9\" class=\"data row0 col9\" >0.000</td>\n",
              "      <td id=\"T_eebba_row0_col10\" class=\"data row0 col10\" >0.000</td>\n",
              "      <td id=\"T_eebba_row0_col11\" class=\"data row0 col11\" >0.000</td>\n",
              "    </tr>\n",
              "    <tr>\n",
              "      <th id=\"T_eebba_level0_row1\" class=\"row_heading level0 row1\" >max</th>\n",
              "      <td id=\"T_eebba_row1_col0\" class=\"data row1 col0\" >1.000</td>\n",
              "      <td id=\"T_eebba_row1_col1\" class=\"data row1 col1\" >1.000</td>\n",
              "      <td id=\"T_eebba_row1_col2\" class=\"data row1 col2\" >1.000</td>\n",
              "      <td id=\"T_eebba_row1_col3\" class=\"data row1 col3\" >1.000</td>\n",
              "      <td id=\"T_eebba_row1_col4\" class=\"data row1 col4\" >1.000</td>\n",
              "      <td id=\"T_eebba_row1_col5\" class=\"data row1 col5\" >1.000</td>\n",
              "      <td id=\"T_eebba_row1_col6\" class=\"data row1 col6\" >1.000</td>\n",
              "      <td id=\"T_eebba_row1_col7\" class=\"data row1 col7\" >1.000</td>\n",
              "      <td id=\"T_eebba_row1_col8\" class=\"data row1 col8\" >1.000</td>\n",
              "      <td id=\"T_eebba_row1_col9\" class=\"data row1 col9\" >1.000</td>\n",
              "      <td id=\"T_eebba_row1_col10\" class=\"data row1 col10\" >1.000</td>\n",
              "      <td id=\"T_eebba_row1_col11\" class=\"data row1 col11\" >1.000</td>\n",
              "    </tr>\n",
              "    <tr>\n",
              "      <th id=\"T_eebba_level0_row2\" class=\"row_heading level0 row2\" >50%</th>\n",
              "      <td id=\"T_eebba_row2_col0\" class=\"data row2 col0\" >0.466</td>\n",
              "      <td id=\"T_eebba_row2_col1\" class=\"data row2 col1\" >0.447</td>\n",
              "      <td id=\"T_eebba_row2_col2\" class=\"data row2 col2\" >0.494</td>\n",
              "      <td id=\"T_eebba_row2_col3\" class=\"data row2 col3\" >0.490</td>\n",
              "      <td id=\"T_eebba_row2_col4\" class=\"data row2 col4\" >0.497</td>\n",
              "      <td id=\"T_eebba_row2_col5\" class=\"data row2 col5\" >0.358</td>\n",
              "      <td id=\"T_eebba_row2_col6\" class=\"data row2 col6\" >0.454</td>\n",
              "      <td id=\"T_eebba_row2_col7\" class=\"data row2 col7\" >0.502</td>\n",
              "      <td id=\"T_eebba_row2_col8\" class=\"data row2 col8\" >0.508</td>\n",
              "      <td id=\"T_eebba_row2_col9\" class=\"data row2 col9\" >1.000</td>\n",
              "      <td id=\"T_eebba_row2_col10\" class=\"data row2 col10\" >0.482</td>\n",
              "      <td id=\"T_eebba_row2_col11\" class=\"data row2 col11\" >0.536</td>\n",
              "    </tr>\n",
              "    <tr>\n",
              "      <th id=\"T_eebba_level0_row3\" class=\"row_heading level0 row3\" >mean</th>\n",
              "      <td id=\"T_eebba_row3_col0\" class=\"data row3 col0\" >0.462</td>\n",
              "      <td id=\"T_eebba_row3_col1\" class=\"data row3 col1\" >0.448</td>\n",
              "      <td id=\"T_eebba_row3_col2\" class=\"data row3 col2\" >0.497</td>\n",
              "      <td id=\"T_eebba_row3_col3\" class=\"data row3 col3\" >0.492</td>\n",
              "      <td id=\"T_eebba_row3_col4\" class=\"data row3 col4\" >0.497</td>\n",
              "      <td id=\"T_eebba_row3_col5\" class=\"data row3 col5\" >0.381</td>\n",
              "      <td id=\"T_eebba_row3_col6\" class=\"data row3 col6\" >0.456</td>\n",
              "      <td id=\"T_eebba_row3_col7\" class=\"data row3 col7\" >0.504</td>\n",
              "      <td id=\"T_eebba_row3_col8\" class=\"data row3 col8\" >0.508</td>\n",
              "      <td id=\"T_eebba_row3_col9\" class=\"data row3 col9\" >0.507</td>\n",
              "      <td id=\"T_eebba_row3_col10\" class=\"data row3 col10\" >0.481</td>\n",
              "      <td id=\"T_eebba_row3_col11\" class=\"data row3 col11\" >0.528</td>\n",
              "    </tr>\n",
              "    <tr>\n",
              "      <th id=\"T_eebba_level0_row4\" class=\"row_heading level0 row4\" >std</th>\n",
              "      <td id=\"T_eebba_row4_col0\" class=\"data row4 col0\" >0.179</td>\n",
              "      <td id=\"T_eebba_row4_col1\" class=\"data row4 col1\" >0.198</td>\n",
              "      <td id=\"T_eebba_row4_col2\" class=\"data row4 col2\" >0.167</td>\n",
              "      <td id=\"T_eebba_row4_col3\" class=\"data row4 col3\" >0.178</td>\n",
              "      <td id=\"T_eebba_row4_col4\" class=\"data row4 col4\" >0.179</td>\n",
              "      <td id=\"T_eebba_row4_col5\" class=\"data row4 col5\" >0.225</td>\n",
              "      <td id=\"T_eebba_row4_col6\" class=\"data row4 col6\" >0.181</td>\n",
              "      <td id=\"T_eebba_row4_col7\" class=\"data row4 col7\" >0.173</td>\n",
              "      <td id=\"T_eebba_row4_col8\" class=\"data row4 col8\" >0.167</td>\n",
              "      <td id=\"T_eebba_row4_col9\" class=\"data row4 col9\" >0.500</td>\n",
              "      <td id=\"T_eebba_row4_col10\" class=\"data row4 col10\" >0.180</td>\n",
              "      <td id=\"T_eebba_row4_col11\" class=\"data row4 col11\" >0.170</td>\n",
              "    </tr>\n",
              "  </tbody>\n",
              "</table>\n"
            ]
          },
          "metadata": {},
          "execution_count": 32
        }
      ]
    },
    {
      "cell_type": "code",
      "source": [
        "pd.DataFrame(X_test, columns=X_columns).describe().loc[['min', 'max', '50%', 'mean', 'std'], :].style\\\n",
        "    .set_table_styles([{'selector': 'th.col_heading',\n",
        "                        'props': [('text-align', 'left')]}])\\\n",
        "    .set_properties(**{'text-align': 'left'})\\\n",
        "    .format('{:.3f}')"
      ],
      "metadata": {
        "colab": {
          "base_uri": "https://localhost:8080/",
          "height": 296
        },
        "id": "vlivcPl-MrYL",
        "outputId": "24a1ca93-7b12-4dd9-f853-7a936a3905cb"
      },
      "execution_count": 33,
      "outputs": [
        {
          "output_type": "execute_result",
          "data": {
            "text/plain": [
              "<pandas.io.formats.style.Styler at 0x7f5434aebbb0>"
            ],
            "text/html": [
              "<style type=\"text/css\">\n",
              "#T_141a9 th.col_heading {\n",
              "  text-align: left;\n",
              "}\n",
              "#T_141a9_row0_col0, #T_141a9_row0_col1, #T_141a9_row0_col2, #T_141a9_row0_col3, #T_141a9_row0_col4, #T_141a9_row0_col5, #T_141a9_row0_col6, #T_141a9_row0_col7, #T_141a9_row0_col8, #T_141a9_row0_col9, #T_141a9_row0_col10, #T_141a9_row0_col11, #T_141a9_row1_col0, #T_141a9_row1_col1, #T_141a9_row1_col2, #T_141a9_row1_col3, #T_141a9_row1_col4, #T_141a9_row1_col5, #T_141a9_row1_col6, #T_141a9_row1_col7, #T_141a9_row1_col8, #T_141a9_row1_col9, #T_141a9_row1_col10, #T_141a9_row1_col11, #T_141a9_row2_col0, #T_141a9_row2_col1, #T_141a9_row2_col2, #T_141a9_row2_col3, #T_141a9_row2_col4, #T_141a9_row2_col5, #T_141a9_row2_col6, #T_141a9_row2_col7, #T_141a9_row2_col8, #T_141a9_row2_col9, #T_141a9_row2_col10, #T_141a9_row2_col11, #T_141a9_row3_col0, #T_141a9_row3_col1, #T_141a9_row3_col2, #T_141a9_row3_col3, #T_141a9_row3_col4, #T_141a9_row3_col5, #T_141a9_row3_col6, #T_141a9_row3_col7, #T_141a9_row3_col8, #T_141a9_row3_col9, #T_141a9_row3_col10, #T_141a9_row3_col11, #T_141a9_row4_col0, #T_141a9_row4_col1, #T_141a9_row4_col2, #T_141a9_row4_col3, #T_141a9_row4_col4, #T_141a9_row4_col5, #T_141a9_row4_col6, #T_141a9_row4_col7, #T_141a9_row4_col8, #T_141a9_row4_col9, #T_141a9_row4_col10, #T_141a9_row4_col11 {\n",
              "  text-align: left;\n",
              "}\n",
              "</style>\n",
              "<table id=\"T_141a9\" class=\"dataframe\">\n",
              "  <thead>\n",
              "    <tr>\n",
              "      <th class=\"blank level0\" >&nbsp;</th>\n",
              "      <th id=\"T_141a9_level0_col0\" class=\"col_heading level0 col0\" >Плотность, кг/м3</th>\n",
              "      <th id=\"T_141a9_level0_col1\" class=\"col_heading level0 col1\" >модуль упругости, ГПа</th>\n",
              "      <th id=\"T_141a9_level0_col2\" class=\"col_heading level0 col2\" >Количество отвердителя, м.%</th>\n",
              "      <th id=\"T_141a9_level0_col3\" class=\"col_heading level0 col3\" >Содержание эпоксидных групп,%_2</th>\n",
              "      <th id=\"T_141a9_level0_col4\" class=\"col_heading level0 col4\" >Температура вспышки, С_2</th>\n",
              "      <th id=\"T_141a9_level0_col5\" class=\"col_heading level0 col5\" >Поверхностная плотность, г/м2</th>\n",
              "      <th id=\"T_141a9_level0_col6\" class=\"col_heading level0 col6\" >Модуль упругости при растяжении, ГПа</th>\n",
              "      <th id=\"T_141a9_level0_col7\" class=\"col_heading level0 col7\" >Прочность при растяжении, МПа</th>\n",
              "      <th id=\"T_141a9_level0_col8\" class=\"col_heading level0 col8\" >Потребление смолы, г/м2</th>\n",
              "      <th id=\"T_141a9_level0_col9\" class=\"col_heading level0 col9\" >Угол нашивки, град</th>\n",
              "      <th id=\"T_141a9_level0_col10\" class=\"col_heading level0 col10\" >Шаг нашивки</th>\n",
              "      <th id=\"T_141a9_level0_col11\" class=\"col_heading level0 col11\" >Плотность нашивки</th>\n",
              "    </tr>\n",
              "  </thead>\n",
              "  <tbody>\n",
              "    <tr>\n",
              "      <th id=\"T_141a9_level0_row0\" class=\"row_heading level0 row0\" >min</th>\n",
              "      <td id=\"T_141a9_row0_col0\" class=\"data row0 col0\" >0.004</td>\n",
              "      <td id=\"T_141a9_row0_col1\" class=\"data row0 col1\" >-0.005</td>\n",
              "      <td id=\"T_141a9_row0_col2\" class=\"data row0 col2\" >0.023</td>\n",
              "      <td id=\"T_141a9_row0_col3\" class=\"data row0 col3\" >0.073</td>\n",
              "      <td id=\"T_141a9_row0_col4\" class=\"data row0 col4\" >0.073</td>\n",
              "      <td id=\"T_141a9_row0_col5\" class=\"data row0 col5\" >-0.001</td>\n",
              "      <td id=\"T_141a9_row0_col6\" class=\"data row0 col6\" >-0.088</td>\n",
              "      <td id=\"T_141a9_row0_col7\" class=\"data row0 col7\" >0.038</td>\n",
              "      <td id=\"T_141a9_row0_col8\" class=\"data row0 col8\" >0.065</td>\n",
              "      <td id=\"T_141a9_row0_col9\" class=\"data row0 col9\" >0.000</td>\n",
              "      <td id=\"T_141a9_row0_col10\" class=\"data row0 col10\" >-0.008</td>\n",
              "      <td id=\"T_141a9_row0_col11\" class=\"data row0 col11\" >0.048</td>\n",
              "    </tr>\n",
              "    <tr>\n",
              "      <th id=\"T_141a9_level0_row1\" class=\"row_heading level0 row1\" >max</th>\n",
              "      <td id=\"T_141a9_row1_col0\" class=\"data row1 col0\" >0.976</td>\n",
              "      <td id=\"T_141a9_row1_col1\" class=\"data row1 col1\" >0.987</td>\n",
              "      <td id=\"T_141a9_row1_col2\" class=\"data row1 col2\" >0.997</td>\n",
              "      <td id=\"T_141a9_row1_col3\" class=\"data row1 col3\" >0.975</td>\n",
              "      <td id=\"T_141a9_row1_col4\" class=\"data row1 col4\" >1.030</td>\n",
              "      <td id=\"T_141a9_row1_col5\" class=\"data row1 col5\" >1.043</td>\n",
              "      <td id=\"T_141a9_row1_col6\" class=\"data row1 col6\" >0.991</td>\n",
              "      <td id=\"T_141a9_row1_col7\" class=\"data row1 col7\" >0.980</td>\n",
              "      <td id=\"T_141a9_row1_col8\" class=\"data row1 col8\" >0.976</td>\n",
              "      <td id=\"T_141a9_row1_col9\" class=\"data row1 col9\" >1.000</td>\n",
              "      <td id=\"T_141a9_row1_col10\" class=\"data row1 col10\" >1.005</td>\n",
              "      <td id=\"T_141a9_row1_col11\" class=\"data row1 col11\" >1.045</td>\n",
              "    </tr>\n",
              "    <tr>\n",
              "      <th id=\"T_141a9_level0_row2\" class=\"row_heading level0 row2\" >50%</th>\n",
              "      <td id=\"T_141a9_row2_col0\" class=\"data row2 col0\" >0.482</td>\n",
              "      <td id=\"T_141a9_row2_col1\" class=\"data row2 col1\" >0.443</td>\n",
              "      <td id=\"T_141a9_row2_col2\" class=\"data row2 col2\" >0.501</td>\n",
              "      <td id=\"T_141a9_row2_col3\" class=\"data row2 col3\" >0.496</td>\n",
              "      <td id=\"T_141a9_row2_col4\" class=\"data row2 col4\" >0.517</td>\n",
              "      <td id=\"T_141a9_row2_col5\" class=\"data row2 col5\" >0.374</td>\n",
              "      <td id=\"T_141a9_row2_col6\" class=\"data row2 col6\" >0.431</td>\n",
              "      <td id=\"T_141a9_row2_col7\" class=\"data row2 col7\" >0.519</td>\n",
              "      <td id=\"T_141a9_row2_col8\" class=\"data row2 col8\" >0.519</td>\n",
              "      <td id=\"T_141a9_row2_col9\" class=\"data row2 col9\" >0.000</td>\n",
              "      <td id=\"T_141a9_row2_col10\" class=\"data row2 col10\" >0.461</td>\n",
              "      <td id=\"T_141a9_row2_col11\" class=\"data row2 col11\" >0.526</td>\n",
              "    </tr>\n",
              "    <tr>\n",
              "      <th id=\"T_141a9_level0_row3\" class=\"row_heading level0 row3\" >mean</th>\n",
              "      <td id=\"T_141a9_row3_col0\" class=\"data row3 col0\" >0.481</td>\n",
              "      <td id=\"T_141a9_row3_col1\" class=\"data row3 col1\" >0.437</td>\n",
              "      <td id=\"T_141a9_row3_col2\" class=\"data row3 col2\" >0.495</td>\n",
              "      <td id=\"T_141a9_row3_col3\" class=\"data row3 col3\" >0.496</td>\n",
              "      <td id=\"T_141a9_row3_col4\" class=\"data row3 col4\" >0.518</td>\n",
              "      <td id=\"T_141a9_row3_col5\" class=\"data row3 col5\" >0.401</td>\n",
              "      <td id=\"T_141a9_row3_col6\" class=\"data row3 col6\" >0.446</td>\n",
              "      <td id=\"T_141a9_row3_col7\" class=\"data row3 col7\" >0.517</td>\n",
              "      <td id=\"T_141a9_row3_col8\" class=\"data row3 col8\" >0.523</td>\n",
              "      <td id=\"T_141a9_row3_col9\" class=\"data row3 col9\" >0.470</td>\n",
              "      <td id=\"T_141a9_row3_col10\" class=\"data row3 col10\" >0.463</td>\n",
              "      <td id=\"T_141a9_row3_col11\" class=\"data row3 col11\" >0.533</td>\n",
              "    </tr>\n",
              "    <tr>\n",
              "      <th id=\"T_141a9_level0_row4\" class=\"row_heading level0 row4\" >std</th>\n",
              "      <td id=\"T_141a9_row4_col0\" class=\"data row4 col0\" >0.177</td>\n",
              "      <td id=\"T_141a9_row4_col1\" class=\"data row4 col1\" >0.204</td>\n",
              "      <td id=\"T_141a9_row4_col2\" class=\"data row4 col2\" >0.180</td>\n",
              "      <td id=\"T_141a9_row4_col3\" class=\"data row4 col3\" >0.183</td>\n",
              "      <td id=\"T_141a9_row4_col4\" class=\"data row4 col4\" >0.182</td>\n",
              "      <td id=\"T_141a9_row4_col5\" class=\"data row4 col5\" >0.224</td>\n",
              "      <td id=\"T_141a9_row4_col6\" class=\"data row4 col6\" >0.183</td>\n",
              "      <td id=\"T_141a9_row4_col7\" class=\"data row4 col7\" >0.171</td>\n",
              "      <td id=\"T_141a9_row4_col8\" class=\"data row4 col8\" >0.179</td>\n",
              "      <td id=\"T_141a9_row4_col9\" class=\"data row4 col9\" >0.500</td>\n",
              "      <td id=\"T_141a9_row4_col10\" class=\"data row4 col10\" >0.179</td>\n",
              "      <td id=\"T_141a9_row4_col11\" class=\"data row4 col11\" >0.174</td>\n",
              "    </tr>\n",
              "  </tbody>\n",
              "</table>\n"
            ]
          },
          "metadata": {},
          "execution_count": 33
        }
      ]
    },
    {
      "cell_type": "markdown",
      "source": [
        "Средние и медианные значения выборок для входящих переменных получились очень близзки, что говорит о пригодности данных для следующего этапа"
      ],
      "metadata": {
        "id": "DUry2BaUNxRX"
      }
    },
    {
      "cell_type": "code",
      "source": [
        "pd.DataFrame(y_test, columns=y_columns).describe().loc[['min', 'max', '50%', 'mean', 'std'], :].style\\\n",
        "    .set_properties(**{'text-align': 'left'})\\\n",
        "    .format('{:.3f}')"
      ],
      "metadata": {
        "colab": {
          "base_uri": "https://localhost:8080/",
          "height": 206
        },
        "id": "LDJta3twM4Z4",
        "outputId": "325758e3-1fdf-4724-a5f9-91e9aa1476ef"
      },
      "execution_count": 34,
      "outputs": [
        {
          "output_type": "execute_result",
          "data": {
            "text/plain": [
              "<pandas.io.formats.style.Styler at 0x7f5399fe47f0>"
            ],
            "text/html": [
              "<style type=\"text/css\">\n",
              "#T_6ea6a_row0_col0, #T_6ea6a_row1_col0, #T_6ea6a_row2_col0, #T_6ea6a_row3_col0, #T_6ea6a_row4_col0 {\n",
              "  text-align: left;\n",
              "}\n",
              "</style>\n",
              "<table id=\"T_6ea6a\" class=\"dataframe\">\n",
              "  <thead>\n",
              "    <tr>\n",
              "      <th class=\"blank level0\" >&nbsp;</th>\n",
              "      <th id=\"T_6ea6a_level0_col0\" class=\"col_heading level0 col0\" >Соотношение матрица-наполнитель</th>\n",
              "    </tr>\n",
              "  </thead>\n",
              "  <tbody>\n",
              "    <tr>\n",
              "      <th id=\"T_6ea6a_level0_row0\" class=\"row_heading level0 row0\" >min</th>\n",
              "      <td id=\"T_6ea6a_row0_col0\" class=\"data row0 col0\" >0.597</td>\n",
              "    </tr>\n",
              "    <tr>\n",
              "      <th id=\"T_6ea6a_level0_row1\" class=\"row_heading level0 row1\" >max</th>\n",
              "      <td id=\"T_6ea6a_row1_col0\" class=\"data row1 col0\" >5.456</td>\n",
              "    </tr>\n",
              "    <tr>\n",
              "      <th id=\"T_6ea6a_level0_row2\" class=\"row_heading level0 row2\" >50%</th>\n",
              "      <td id=\"T_6ea6a_row2_col0\" class=\"data row2 col0\" >2.951</td>\n",
              "    </tr>\n",
              "    <tr>\n",
              "      <th id=\"T_6ea6a_level0_row3\" class=\"row_heading level0 row3\" >mean</th>\n",
              "      <td id=\"T_6ea6a_row3_col0\" class=\"data row3 col0\" >2.961</td>\n",
              "    </tr>\n",
              "    <tr>\n",
              "      <th id=\"T_6ea6a_level0_row4\" class=\"row_heading level0 row4\" >std</th>\n",
              "      <td id=\"T_6ea6a_row4_col0\" class=\"data row4 col0\" >0.876</td>\n",
              "    </tr>\n",
              "  </tbody>\n",
              "</table>\n"
            ]
          },
          "metadata": {},
          "execution_count": 34
        }
      ]
    },
    {
      "cell_type": "markdown",
      "source": [
        "# **Модель предсказания Соотношение матрица-наполнитель**"
      ],
      "metadata": {
        "id": "T6MQM_87uwOv"
      }
    },
    {
      "cell_type": "markdown",
      "source": [
        "В качестве метрики для оценки моделей возьмём среднюю абсолютную ошибку (**mae**), также на более удачных моделях сравним метрики на тренировочной и тестовой выборках, в т.ч.коэффициент детерминации (**R2**)"
      ],
      "metadata": {
        "id": "y1DIJLN3ryu4"
      }
    },
    {
      "cell_type": "markdown",
      "source": [
        "# **Полносвязная нейронная сеть**"
      ],
      "metadata": {
        "id": "PbEo2_fouiY9"
      }
    },
    {
      "cell_type": "markdown",
      "source": [
        "Строим, компилируем нейронную сеть с помощью библиотеки TensorFlow."
      ],
      "metadata": {
        "id": "6P1qtCINOiB1"
      }
    },
    {
      "cell_type": "code",
      "source": [
        "# модель 1 полносвязной нейронной сети для целевой переменной y\n",
        "modelMF_1 = Sequential()\n",
        "modelMF_1.add(Dense(18,  input_dim=12, activation = 'sigmoid')) # 18 # задаем архитектуру последовательной нейросети и слои\n",
        "modelMF_1.add(Dropout(0.5))                                     # слой для снижения переобучения\n",
        "modelMF_1.add(Dense(12, activation = 'sigmoid')) # 14\n",
        "modelMF_1.add(Dense(1, activation = 'tanh'))\n",
        "modelMF_1.compile(optimizer='adam', loss='mse', metrics=['mae']) # оптимизатор 'adam', функц.потерь'mse' и метр.'mae'\n",
        "modelMF_1.summary()   # посмотрим на архитектуру\n",
        "history = modelMF_1.fit(X_train,y_train, \n",
        "                    epochs=52, # 48\n",
        "                    validation_split=0.3, \n",
        "                    verbose=2)\n",
        "plt.plot(history.history['mae'], label = 'Точность train', color = 'g') # история о значениях метрики на обучающей выборке в каждой эпохе\n",
        "plt.plot(history.history['val_mae'], label = 'Точность test', color = 'r') # история на тестовых данных\n",
        "plt.xlabel = ('Epochs')\n",
        "plt.ylabel = ('MAE')\n",
        "plt.legend()\n",
        "plt.show() # выведем графики соотношения на трен. и тест. выборках\n",
        "# loss='mse' задает функцию потерь, которая измеряет разницу между прогнозируемыми значениями и истинными значениями целевой переменной\n",
        "# цель обучения нейронной сети заключается в минимизации функции потерь"
      ],
      "metadata": {
        "colab": {
          "base_uri": "https://localhost:8080/",
          "height": 1000
        },
        "id": "DMICr9eRu8Bz",
        "outputId": "facf666a-cab3-4b72-f4fa-66fa64b78152"
      },
      "execution_count": 58,
      "outputs": [
        {
          "output_type": "stream",
          "name": "stdout",
          "text": [
            "Model: \"sequential_20\"\n",
            "_________________________________________________________________\n",
            " Layer (type)                Output Shape              Param #   \n",
            "=================================================================\n",
            " dense_60 (Dense)            (None, 18)                234       \n",
            "                                                                 \n",
            " dropout_20 (Dropout)        (None, 18)                0         \n",
            "                                                                 \n",
            " dense_61 (Dense)            (None, 12)                228       \n",
            "                                                                 \n",
            " dense_62 (Dense)            (None, 1)                 13        \n",
            "                                                                 \n",
            "=================================================================\n",
            "Total params: 475\n",
            "Trainable params: 475\n",
            "Non-trainable params: 0\n",
            "_________________________________________________________________\n",
            "Epoch 1/52\n",
            "16/16 - 1s - loss: 10.4666 - mae: 3.0919 - val_loss: 8.7018 - val_mae: 2.8274 - 882ms/epoch - 55ms/step\n",
            "Epoch 2/52\n",
            "16/16 - 0s - loss: 9.0184 - mae: 2.8472 - val_loss: 7.3531 - val_mae: 2.5779 - 94ms/epoch - 6ms/step\n",
            "Epoch 3/52\n",
            "16/16 - 0s - loss: 7.8087 - mae: 2.6253 - val_loss: 6.3175 - val_mae: 2.3685 - 136ms/epoch - 8ms/step\n",
            "Epoch 4/52\n",
            "16/16 - 0s - loss: 6.9342 - mae: 2.4558 - val_loss: 5.6232 - val_mae: 2.2179 - 106ms/epoch - 7ms/step\n",
            "Epoch 5/52\n",
            "16/16 - 0s - loss: 6.3291 - mae: 2.3275 - val_loss: 5.1764 - val_mae: 2.1157 - 114ms/epoch - 7ms/step\n",
            "Epoch 6/52\n",
            "16/16 - 0s - loss: 5.9356 - mae: 2.2405 - val_loss: 4.8928 - val_mae: 2.0482 - 70ms/epoch - 4ms/step\n",
            "Epoch 7/52\n",
            "16/16 - 0s - loss: 5.6528 - mae: 2.1795 - val_loss: 4.7088 - val_mae: 2.0032 - 54ms/epoch - 3ms/step\n",
            "Epoch 8/52\n",
            "16/16 - 0s - loss: 5.4617 - mae: 2.1382 - val_loss: 4.5849 - val_mae: 1.9723 - 53ms/epoch - 3ms/step\n",
            "Epoch 9/52\n",
            "16/16 - 0s - loss: 5.3492 - mae: 2.1090 - val_loss: 4.4933 - val_mae: 1.9492 - 62ms/epoch - 4ms/step\n",
            "Epoch 10/52\n",
            "16/16 - 0s - loss: 5.2694 - mae: 2.0906 - val_loss: 4.4259 - val_mae: 1.9320 - 51ms/epoch - 3ms/step\n",
            "Epoch 11/52\n",
            "16/16 - 0s - loss: 5.1734 - mae: 2.0695 - val_loss: 4.3757 - val_mae: 1.9190 - 49ms/epoch - 3ms/step\n",
            "Epoch 12/52\n",
            "16/16 - 0s - loss: 5.1288 - mae: 2.0578 - val_loss: 4.3365 - val_mae: 1.9089 - 49ms/epoch - 3ms/step\n",
            "Epoch 13/52\n",
            "16/16 - 0s - loss: 5.0760 - mae: 2.0475 - val_loss: 4.3050 - val_mae: 1.9007 - 65ms/epoch - 4ms/step\n",
            "Epoch 14/52\n",
            "16/16 - 0s - loss: 5.0496 - mae: 2.0405 - val_loss: 4.2797 - val_mae: 1.8941 - 51ms/epoch - 3ms/step\n",
            "Epoch 15/52\n",
            "16/16 - 0s - loss: 5.0057 - mae: 2.0286 - val_loss: 4.2593 - val_mae: 1.8887 - 56ms/epoch - 4ms/step\n",
            "Epoch 16/52\n",
            "16/16 - 0s - loss: 4.9984 - mae: 2.0277 - val_loss: 4.2419 - val_mae: 1.8842 - 78ms/epoch - 5ms/step\n",
            "Epoch 17/52\n",
            "16/16 - 0s - loss: 4.9650 - mae: 2.0200 - val_loss: 4.2272 - val_mae: 1.8803 - 66ms/epoch - 4ms/step\n",
            "Epoch 18/52\n",
            "16/16 - 0s - loss: 4.9456 - mae: 2.0146 - val_loss: 4.2148 - val_mae: 1.8770 - 54ms/epoch - 3ms/step\n",
            "Epoch 19/52\n",
            "16/16 - 0s - loss: 4.9343 - mae: 2.0110 - val_loss: 4.2043 - val_mae: 1.8742 - 64ms/epoch - 4ms/step\n",
            "Epoch 20/52\n",
            "16/16 - 0s - loss: 4.9101 - mae: 2.0064 - val_loss: 4.1953 - val_mae: 1.8718 - 68ms/epoch - 4ms/step\n",
            "Epoch 21/52\n",
            "16/16 - 0s - loss: 4.9057 - mae: 2.0044 - val_loss: 4.1876 - val_mae: 1.8698 - 54ms/epoch - 3ms/step\n",
            "Epoch 22/52\n",
            "16/16 - 0s - loss: 4.8895 - mae: 2.0015 - val_loss: 4.1807 - val_mae: 1.8680 - 51ms/epoch - 3ms/step\n",
            "Epoch 23/52\n",
            "16/16 - 0s - loss: 4.8824 - mae: 1.9993 - val_loss: 4.1747 - val_mae: 1.8664 - 47ms/epoch - 3ms/step\n",
            "Epoch 24/52\n",
            "16/16 - 0s - loss: 4.8733 - mae: 1.9974 - val_loss: 4.1693 - val_mae: 1.8649 - 64ms/epoch - 4ms/step\n",
            "Epoch 25/52\n",
            "16/16 - 0s - loss: 4.8684 - mae: 1.9967 - val_loss: 4.1644 - val_mae: 1.8637 - 49ms/epoch - 3ms/step\n",
            "Epoch 26/52\n",
            "16/16 - 0s - loss: 4.8619 - mae: 1.9941 - val_loss: 4.1601 - val_mae: 1.8625 - 63ms/epoch - 4ms/step\n",
            "Epoch 27/52\n",
            "16/16 - 0s - loss: 4.8546 - mae: 1.9931 - val_loss: 4.1562 - val_mae: 1.8615 - 62ms/epoch - 4ms/step\n",
            "Epoch 28/52\n",
            "16/16 - 0s - loss: 4.8520 - mae: 1.9922 - val_loss: 4.1526 - val_mae: 1.8605 - 61ms/epoch - 4ms/step\n",
            "Epoch 29/52\n",
            "16/16 - 0s - loss: 4.8463 - mae: 1.9905 - val_loss: 4.1493 - val_mae: 1.8596 - 54ms/epoch - 3ms/step\n",
            "Epoch 30/52\n",
            "16/16 - 0s - loss: 4.8415 - mae: 1.9895 - val_loss: 4.1464 - val_mae: 1.8589 - 58ms/epoch - 4ms/step\n",
            "Epoch 31/52\n",
            "16/16 - 0s - loss: 4.8391 - mae: 1.9892 - val_loss: 4.1437 - val_mae: 1.8581 - 83ms/epoch - 5ms/step\n",
            "Epoch 32/52\n",
            "16/16 - 0s - loss: 4.8353 - mae: 1.9880 - val_loss: 4.1411 - val_mae: 1.8575 - 86ms/epoch - 5ms/step\n",
            "Epoch 33/52\n",
            "16/16 - 0s - loss: 4.8297 - mae: 1.9870 - val_loss: 4.1389 - val_mae: 1.8568 - 77ms/epoch - 5ms/step\n",
            "Epoch 34/52\n",
            "16/16 - 0s - loss: 4.8249 - mae: 1.9854 - val_loss: 4.1368 - val_mae: 1.8563 - 84ms/epoch - 5ms/step\n",
            "Epoch 35/52\n",
            "16/16 - 0s - loss: 4.8233 - mae: 1.9848 - val_loss: 4.1349 - val_mae: 1.8558 - 75ms/epoch - 5ms/step\n",
            "Epoch 36/52\n",
            "16/16 - 0s - loss: 4.8206 - mae: 1.9843 - val_loss: 4.1332 - val_mae: 1.8553 - 61ms/epoch - 4ms/step\n",
            "Epoch 37/52\n",
            "16/16 - 0s - loss: 4.8203 - mae: 1.9839 - val_loss: 4.1315 - val_mae: 1.8549 - 74ms/epoch - 5ms/step\n",
            "Epoch 38/52\n",
            "16/16 - 0s - loss: 4.8182 - mae: 1.9836 - val_loss: 4.1299 - val_mae: 1.8545 - 64ms/epoch - 4ms/step\n",
            "Epoch 39/52\n",
            "16/16 - 0s - loss: 4.8154 - mae: 1.9830 - val_loss: 4.1284 - val_mae: 1.8540 - 71ms/epoch - 4ms/step\n",
            "Epoch 40/52\n",
            "16/16 - 0s - loss: 4.8129 - mae: 1.9823 - val_loss: 4.1270 - val_mae: 1.8537 - 73ms/epoch - 5ms/step\n",
            "Epoch 41/52\n",
            "16/16 - 0s - loss: 4.8095 - mae: 1.9815 - val_loss: 4.1258 - val_mae: 1.8533 - 71ms/epoch - 4ms/step\n",
            "Epoch 42/52\n",
            "16/16 - 0s - loss: 4.8075 - mae: 1.9810 - val_loss: 4.1246 - val_mae: 1.8530 - 62ms/epoch - 4ms/step\n",
            "Epoch 43/52\n",
            "16/16 - 0s - loss: 4.8080 - mae: 1.9812 - val_loss: 4.1235 - val_mae: 1.8527 - 64ms/epoch - 4ms/step\n",
            "Epoch 44/52\n",
            "16/16 - 0s - loss: 4.8053 - mae: 1.9806 - val_loss: 4.1224 - val_mae: 1.8524 - 66ms/epoch - 4ms/step\n",
            "Epoch 45/52\n",
            "16/16 - 0s - loss: 4.8054 - mae: 1.9802 - val_loss: 4.1214 - val_mae: 1.8522 - 84ms/epoch - 5ms/step\n",
            "Epoch 46/52\n",
            "16/16 - 0s - loss: 4.8057 - mae: 1.9804 - val_loss: 4.1204 - val_mae: 1.8519 - 80ms/epoch - 5ms/step\n",
            "Epoch 47/52\n",
            "16/16 - 0s - loss: 4.8005 - mae: 1.9790 - val_loss: 4.1195 - val_mae: 1.8517 - 66ms/epoch - 4ms/step\n",
            "Epoch 48/52\n",
            "16/16 - 0s - loss: 4.7985 - mae: 1.9788 - val_loss: 4.1186 - val_mae: 1.8514 - 81ms/epoch - 5ms/step\n",
            "Epoch 49/52\n",
            "16/16 - 0s - loss: 4.7981 - mae: 1.9788 - val_loss: 4.1178 - val_mae: 1.8512 - 62ms/epoch - 4ms/step\n",
            "Epoch 50/52\n",
            "16/16 - 0s - loss: 4.7985 - mae: 1.9787 - val_loss: 4.1170 - val_mae: 1.8510 - 70ms/epoch - 4ms/step\n",
            "Epoch 51/52\n",
            "16/16 - 0s - loss: 4.7949 - mae: 1.9781 - val_loss: 4.1163 - val_mae: 1.8508 - 58ms/epoch - 4ms/step\n",
            "Epoch 52/52\n",
            "16/16 - 0s - loss: 4.7960 - mae: 1.9780 - val_loss: 4.1156 - val_mae: 1.8506 - 60ms/epoch - 4ms/step\n"
          ]
        },
        {
          "output_type": "display_data",
          "data": {
            "text/plain": [
              "<Figure size 640x480 with 1 Axes>"
            ],
            "image/png": "[encoded data removed]"
          },
          "metadata": {}
        }
      ]
    },
    {
      "cell_type": "code",
      "source": [
        "# оцениваем точность нейросети на тестовых данных\n",
        "modelMF_1.evaluate(X_test, y_test, verbose=1)"
      ],
      "metadata": {
        "colab": {
          "base_uri": "https://localhost:8080/"
        },
        "id": "e9ijMH3iU2Ak",
        "outputId": "9853fe23-857c-41c7-e64a-9a79d0a37aef"
      },
      "execution_count": 59,
      "outputs": [
        {
          "output_type": "stream",
          "name": "stdout",
          "text": [
            "10/10 [==============================] - 0s 2ms/step - loss: 4.6315 - mae: 1.9707\n"
          ]
        },
        {
          "output_type": "execute_result",
          "data": {
            "text/plain": [
              "[4.631505966186523, 1.9706939458847046]"
            ]
          },
          "metadata": {},
          "execution_count": 59
        }
      ]
    },
    {
      "cell_type": "code",
      "source": [
        "# Предсказание \n",
        "y_prediction_1 = modelMF_1.predict(X_test)"
      ],
      "metadata": {
        "colab": {
          "base_uri": "https://localhost:8080/"
        },
        "id": "d0r0ke8fVAvV",
        "outputId": "95ab6a65-ad1c-4cfa-c183-17faafab3fa9"
      },
      "execution_count": 60,
      "outputs": [
        {
          "output_type": "stream",
          "name": "stdout",
          "text": [
            "10/10 [==============================] - 0s 1ms/step\n"
          ]
        }
      ]
    },
    {
      "cell_type": "code",
      "source": [
        "# Визуализация\n",
        "fig, ax = plt.subplots(figsize=(12, 4))\n",
        "ax.plot(y_test, label='Данные')\n",
        "ax.plot(y_prediction_1, label='Нейросеть 1')\n",
        "ax.legend()\n",
        "plt.show()"
      ],
      "metadata": {
        "colab": {
          "base_uri": "https://localhost:8080/",
          "height": 362
        },
        "id": "X5f6lNQCVIrg",
        "outputId": "f088331a-209f-4e01-ddb7-1d829803a2e6"
      },
      "execution_count": 61,
      "outputs": [
        {
          "output_type": "display_data",
          "data": {
            "text/plain": [
              "<Figure size 1200x400 with 1 Axes>"
            ],
            "image/png": "[encoded data removed]"
          },
          "metadata": {}
        }
      ]
    },
    {
      "cell_type": "code",
      "source": [
        "# тренируем модель полносвязной нейронной сети с другой архитектурой и активатором выходного слоя\n",
        "modelMF_2 = tf.keras.Sequential([\n",
        "    keras.layers.Dense(16,  input_dim=12, activation = 'sigmoid'),\n",
        "    keras.layers.Dropout(0.5),\n",
        "    keras.layers.Dense(32, activation = 'sigmoid'),\n",
        "    keras.layers.Dense(1, activation = 'relu')\n",
        "])\n",
        "modelMF_2.compile(optimizer='adam', loss='mse', metrics=['mae'])\n",
        "modelMF_2.summary()\n",
        "history = modelMF_2.fit(X_train,y_train, \n",
        "                    epochs=150, \n",
        "                    validation_split=0.1, \n",
        "                    verbose=2)\n",
        "plt.plot(history.history['mae'], label = 'Точность train', color = 'b')\n",
        "plt.plot(history.history['val_mae'], label = 'Точность test', color = 'y')\n",
        "plt.xlabel = ('Epochs')\n",
        "plt.ylabel = ('MAE')\n",
        "plt.legend()\n",
        "plt.show()"
      ],
      "metadata": {
        "colab": {
          "base_uri": "https://localhost:8080/",
          "height": 1000
        },
        "id": "9e7CsLacvLfl",
        "outputId": "b1498689-c027-4e2b-a592-1e0377f68bec"
      },
      "execution_count": 216,
      "outputs": [
        {
          "output_type": "stream",
          "name": "stdout",
          "text": [
            "Model: \"sequential_119\"\n",
            "_________________________________________________________________\n",
            " Layer (type)                Output Shape              Param #   \n",
            "=================================================================\n",
            " dense_450 (Dense)           (None, 16)                208       \n",
            "                                                                 \n",
            " dropout_118 (Dropout)       (None, 16)                0         \n",
            "                                                                 \n",
            " dense_451 (Dense)           (None, 32)                544       \n",
            "                                                                 \n",
            " dense_452 (Dense)           (None, 1)                 33        \n",
            "                                                                 \n",
            "=================================================================\n",
            "Total params: 785\n",
            "Trainable params: 785\n",
            "Non-trainable params: 0\n",
            "_________________________________________________________________\n",
            "Epoch 1/150\n",
            "20/20 - 1s - loss: 3.5077 - mae: 1.6398 - val_loss: 1.5295 - val_mae: 1.0332 - 875ms/epoch - 44ms/step\n",
            "Epoch 2/150\n",
            "20/20 - 0s - loss: 1.8625 - mae: 1.1125 - val_loss: 0.7175 - val_mae: 0.6655 - 53ms/epoch - 3ms/step\n",
            "Epoch 3/150\n",
            "20/20 - 0s - loss: 1.1499 - mae: 0.8530 - val_loss: 0.5763 - val_mae: 0.6070 - 54ms/epoch - 3ms/step\n",
            "Epoch 4/150\n",
            "20/20 - 0s - loss: 0.9811 - mae: 0.8017 - val_loss: 0.6306 - val_mae: 0.6432 - 75ms/epoch - 4ms/step\n",
            "Epoch 5/150\n",
            "20/20 - 0s - loss: 0.9804 - mae: 0.7928 - val_loss: 0.6574 - val_mae: 0.6578 - 74ms/epoch - 4ms/step\n",
            "Epoch 6/150\n",
            "20/20 - 0s - loss: 0.9264 - mae: 0.7655 - val_loss: 0.6582 - val_mae: 0.6583 - 72ms/epoch - 4ms/step\n",
            "Epoch 7/150\n",
            "20/20 - 0s - loss: 0.9436 - mae: 0.7872 - val_loss: 0.6535 - val_mae: 0.6557 - 53ms/epoch - 3ms/step\n",
            "Epoch 8/150\n",
            "20/20 - 0s - loss: 0.9757 - mae: 0.7943 - val_loss: 0.6484 - val_mae: 0.6528 - 75ms/epoch - 4ms/step\n",
            "Epoch 9/150\n",
            "20/20 - 0s - loss: 0.9421 - mae: 0.7710 - val_loss: 0.6364 - val_mae: 0.6462 - 54ms/epoch - 3ms/step\n",
            "Epoch 10/150\n",
            "20/20 - 0s - loss: 0.9648 - mae: 0.7880 - val_loss: 0.6433 - val_mae: 0.6498 - 80ms/epoch - 4ms/step\n",
            "Epoch 11/150\n",
            "20/20 - 0s - loss: 0.9383 - mae: 0.7774 - val_loss: 0.6432 - val_mae: 0.6497 - 67ms/epoch - 3ms/step\n",
            "Epoch 12/150\n",
            "20/20 - 0s - loss: 0.9423 - mae: 0.7834 - val_loss: 0.6372 - val_mae: 0.6466 - 55ms/epoch - 3ms/step\n",
            "Epoch 13/150\n",
            "20/20 - 0s - loss: 0.9470 - mae: 0.7827 - val_loss: 0.6404 - val_mae: 0.6482 - 77ms/epoch - 4ms/step\n",
            "Epoch 14/150\n",
            "20/20 - 0s - loss: 0.9121 - mae: 0.7673 - val_loss: 0.6523 - val_mae: 0.6549 - 55ms/epoch - 3ms/step\n",
            "Epoch 15/150\n",
            "20/20 - 0s - loss: 0.9505 - mae: 0.7868 - val_loss: 0.6420 - val_mae: 0.6489 - 63ms/epoch - 3ms/step\n",
            "Epoch 16/150\n",
            "20/20 - 0s - loss: 0.8962 - mae: 0.7585 - val_loss: 0.6453 - val_mae: 0.6509 - 68ms/epoch - 3ms/step\n",
            "Epoch 17/150\n",
            "20/20 - 0s - loss: 0.9235 - mae: 0.7613 - val_loss: 0.6547 - val_mae: 0.6562 - 58ms/epoch - 3ms/step\n",
            "Epoch 18/150\n",
            "20/20 - 0s - loss: 0.9155 - mae: 0.7655 - val_loss: 0.6476 - val_mae: 0.6522 - 66ms/epoch - 3ms/step\n",
            "Epoch 19/150\n",
            "20/20 - 0s - loss: 0.9113 - mae: 0.7711 - val_loss: 0.6495 - val_mae: 0.6533 - 54ms/epoch - 3ms/step\n",
            "Epoch 20/150\n",
            "20/20 - 0s - loss: 0.9223 - mae: 0.7738 - val_loss: 0.6479 - val_mae: 0.6524 - 63ms/epoch - 3ms/step\n",
            "Epoch 21/150\n",
            "20/20 - 0s - loss: 0.9277 - mae: 0.7814 - val_loss: 0.6379 - val_mae: 0.6470 - 57ms/epoch - 3ms/step\n",
            "Epoch 22/150\n",
            "20/20 - 0s - loss: 0.9228 - mae: 0.7645 - val_loss: 0.6468 - val_mae: 0.6518 - 74ms/epoch - 4ms/step\n",
            "Epoch 23/150\n",
            "20/20 - 0s - loss: 0.9222 - mae: 0.7738 - val_loss: 0.6378 - val_mae: 0.6469 - 55ms/epoch - 3ms/step\n",
            "Epoch 24/150\n",
            "20/20 - 0s - loss: 0.9020 - mae: 0.7633 - val_loss: 0.6353 - val_mae: 0.6456 - 72ms/epoch - 4ms/step\n",
            "Epoch 25/150\n",
            "20/20 - 0s - loss: 0.8961 - mae: 0.7668 - val_loss: 0.6547 - val_mae: 0.6562 - 65ms/epoch - 3ms/step\n",
            "Epoch 26/150\n",
            "20/20 - 0s - loss: 0.8966 - mae: 0.7627 - val_loss: 0.6472 - val_mae: 0.6520 - 65ms/epoch - 3ms/step\n",
            "Epoch 27/150\n",
            "20/20 - 0s - loss: 0.8916 - mae: 0.7578 - val_loss: 0.6313 - val_mae: 0.6434 - 53ms/epoch - 3ms/step\n",
            "Epoch 28/150\n",
            "20/20 - 0s - loss: 0.9030 - mae: 0.7659 - val_loss: 0.6444 - val_mae: 0.6504 - 79ms/epoch - 4ms/step\n",
            "Epoch 29/150\n",
            "20/20 - 0s - loss: 0.9090 - mae: 0.7637 - val_loss: 0.6480 - val_mae: 0.6525 - 53ms/epoch - 3ms/step\n",
            "Epoch 30/150\n",
            "20/20 - 0s - loss: 0.8944 - mae: 0.7610 - val_loss: 0.6388 - val_mae: 0.6475 - 71ms/epoch - 4ms/step\n",
            "Epoch 31/150\n",
            "20/20 - 0s - loss: 0.8912 - mae: 0.7603 - val_loss: 0.6456 - val_mae: 0.6511 - 63ms/epoch - 3ms/step\n",
            "Epoch 32/150\n",
            "20/20 - 0s - loss: 0.8926 - mae: 0.7606 - val_loss: 0.6409 - val_mae: 0.6486 - 56ms/epoch - 3ms/step\n",
            "Epoch 33/150\n",
            "20/20 - 0s - loss: 0.8896 - mae: 0.7627 - val_loss: 0.6294 - val_mae: 0.6425 - 61ms/epoch - 3ms/step\n",
            "Epoch 34/150\n",
            "20/20 - 0s - loss: 0.8791 - mae: 0.7505 - val_loss: 0.6444 - val_mae: 0.6505 - 58ms/epoch - 3ms/step\n",
            "Epoch 35/150\n",
            "20/20 - 0s - loss: 0.8923 - mae: 0.7547 - val_loss: 0.6518 - val_mae: 0.6547 - 54ms/epoch - 3ms/step\n",
            "Epoch 36/150\n",
            "20/20 - 0s - loss: 0.8975 - mae: 0.7628 - val_loss: 0.6330 - val_mae: 0.6444 - 56ms/epoch - 3ms/step\n",
            "Epoch 37/150\n",
            "20/20 - 0s - loss: 0.8866 - mae: 0.7538 - val_loss: 0.6300 - val_mae: 0.6428 - 60ms/epoch - 3ms/step\n",
            "Epoch 38/150\n",
            "20/20 - 0s - loss: 0.8841 - mae: 0.7566 - val_loss: 0.6445 - val_mae: 0.6506 - 93ms/epoch - 5ms/step\n",
            "Epoch 39/150\n",
            "20/20 - 0s - loss: 0.9027 - mae: 0.7622 - val_loss: 0.6397 - val_mae: 0.6480 - 59ms/epoch - 3ms/step\n",
            "Epoch 40/150\n",
            "20/20 - 0s - loss: 0.8853 - mae: 0.7518 - val_loss: 0.6465 - val_mae: 0.6517 - 65ms/epoch - 3ms/step\n",
            "Epoch 41/150\n",
            "20/20 - 0s - loss: 0.8929 - mae: 0.7596 - val_loss: 0.6332 - val_mae: 0.6446 - 56ms/epoch - 3ms/step\n",
            "Epoch 42/150\n",
            "20/20 - 0s - loss: 0.8867 - mae: 0.7582 - val_loss: 0.6520 - val_mae: 0.6551 - 64ms/epoch - 3ms/step\n",
            "Epoch 43/150\n",
            "20/20 - 0s - loss: 0.8800 - mae: 0.7526 - val_loss: 0.6500 - val_mae: 0.6538 - 79ms/epoch - 4ms/step\n",
            "Epoch 44/150\n",
            "20/20 - 0s - loss: 0.8879 - mae: 0.7610 - val_loss: 0.6273 - val_mae: 0.6413 - 70ms/epoch - 3ms/step\n",
            "Epoch 45/150\n",
            "20/20 - 0s - loss: 0.8830 - mae: 0.7539 - val_loss: 0.6457 - val_mae: 0.6514 - 55ms/epoch - 3ms/step\n",
            "Epoch 46/150\n",
            "20/20 - 0s - loss: 0.8977 - mae: 0.7564 - val_loss: 0.6351 - val_mae: 0.6456 - 72ms/epoch - 4ms/step\n",
            "Epoch 47/150\n",
            "20/20 - 0s - loss: 0.8868 - mae: 0.7561 - val_loss: 0.6374 - val_mae: 0.6467 - 57ms/epoch - 3ms/step\n",
            "Epoch 48/150\n",
            "20/20 - 0s - loss: 0.8863 - mae: 0.7546 - val_loss: 0.6375 - val_mae: 0.6467 - 57ms/epoch - 3ms/step\n",
            "Epoch 49/150\n",
            "20/20 - 0s - loss: 0.8834 - mae: 0.7539 - val_loss: 0.6445 - val_mae: 0.6507 - 83ms/epoch - 4ms/step\n",
            "Epoch 50/150\n",
            "20/20 - 0s - loss: 0.8736 - mae: 0.7508 - val_loss: 0.6387 - val_mae: 0.6475 - 67ms/epoch - 3ms/step\n",
            "Epoch 51/150\n",
            "20/20 - 0s - loss: 0.8721 - mae: 0.7484 - val_loss: 0.6392 - val_mae: 0.6477 - 57ms/epoch - 3ms/step\n",
            "Epoch 52/150\n",
            "20/20 - 0s - loss: 0.8966 - mae: 0.7626 - val_loss: 0.6409 - val_mae: 0.6487 - 70ms/epoch - 4ms/step\n",
            "Epoch 53/150\n",
            "20/20 - 0s - loss: 0.8806 - mae: 0.7542 - val_loss: 0.6447 - val_mae: 0.6510 - 58ms/epoch - 3ms/step\n",
            "Epoch 54/150\n",
            "20/20 - 0s - loss: 0.8857 - mae: 0.7561 - val_loss: 0.6434 - val_mae: 0.6502 - 57ms/epoch - 3ms/step\n",
            "Epoch 55/150\n",
            "20/20 - 0s - loss: 0.8842 - mae: 0.7535 - val_loss: 0.6330 - val_mae: 0.6444 - 64ms/epoch - 3ms/step\n",
            "Epoch 56/150\n",
            "20/20 - 0s - loss: 0.8822 - mae: 0.7501 - val_loss: 0.6398 - val_mae: 0.6482 - 70ms/epoch - 4ms/step\n",
            "Epoch 57/150\n",
            "20/20 - 0s - loss: 0.8877 - mae: 0.7563 - val_loss: 0.6326 - val_mae: 0.6442 - 79ms/epoch - 4ms/step\n",
            "Epoch 58/150\n",
            "20/20 - 0s - loss: 0.8776 - mae: 0.7518 - val_loss: 0.6509 - val_mae: 0.6548 - 52ms/epoch - 3ms/step\n",
            "Epoch 59/150\n",
            "20/20 - 0s - loss: 0.8811 - mae: 0.7516 - val_loss: 0.6323 - val_mae: 0.6440 - 57ms/epoch - 3ms/step\n",
            "Epoch 60/150\n",
            "20/20 - 0s - loss: 0.8773 - mae: 0.7517 - val_loss: 0.6370 - val_mae: 0.6466 - 55ms/epoch - 3ms/step\n",
            "Epoch 61/150\n",
            "20/20 - 0s - loss: 0.8757 - mae: 0.7492 - val_loss: 0.6465 - val_mae: 0.6521 - 56ms/epoch - 3ms/step\n",
            "Epoch 62/150\n",
            "20/20 - 0s - loss: 0.8865 - mae: 0.7561 - val_loss: 0.6342 - val_mae: 0.6451 - 81ms/epoch - 4ms/step\n",
            "Epoch 63/150\n",
            "20/20 - 0s - loss: 0.8779 - mae: 0.7496 - val_loss: 0.6345 - val_mae: 0.6452 - 58ms/epoch - 3ms/step\n",
            "Epoch 64/150\n",
            "20/20 - 0s - loss: 0.8778 - mae: 0.7498 - val_loss: 0.6392 - val_mae: 0.6481 - 57ms/epoch - 3ms/step\n",
            "Epoch 65/150\n",
            "20/20 - 0s - loss: 0.8826 - mae: 0.7539 - val_loss: 0.6405 - val_mae: 0.6488 - 71ms/epoch - 4ms/step\n",
            "Epoch 66/150\n",
            "20/20 - 0s - loss: 0.8793 - mae: 0.7525 - val_loss: 0.6402 - val_mae: 0.6486 - 70ms/epoch - 4ms/step\n",
            "Epoch 67/150\n",
            "20/20 - 0s - loss: 0.8806 - mae: 0.7536 - val_loss: 0.6394 - val_mae: 0.6482 - 59ms/epoch - 3ms/step\n",
            "Epoch 68/150\n",
            "20/20 - 0s - loss: 0.8812 - mae: 0.7536 - val_loss: 0.6438 - val_mae: 0.6509 - 56ms/epoch - 3ms/step\n",
            "Epoch 69/150\n",
            "20/20 - 0s - loss: 0.8682 - mae: 0.7477 - val_loss: 0.6446 - val_mae: 0.6514 - 73ms/epoch - 4ms/step\n",
            "Epoch 70/150\n",
            "20/20 - 0s - loss: 0.8753 - mae: 0.7503 - val_loss: 0.6479 - val_mae: 0.6534 - 62ms/epoch - 3ms/step\n",
            "Epoch 71/150\n",
            "20/20 - 0s - loss: 0.8738 - mae: 0.7498 - val_loss: 0.6332 - val_mae: 0.6448 - 72ms/epoch - 4ms/step\n",
            "Epoch 72/150\n",
            "20/20 - 0s - loss: 0.8724 - mae: 0.7474 - val_loss: 0.6324 - val_mae: 0.6444 - 67ms/epoch - 3ms/step\n",
            "Epoch 73/150\n",
            "20/20 - 0s - loss: 0.8799 - mae: 0.7517 - val_loss: 0.6518 - val_mae: 0.6558 - 72ms/epoch - 4ms/step\n",
            "Epoch 74/150\n",
            "20/20 - 0s - loss: 0.8820 - mae: 0.7551 - val_loss: 0.6187 - val_mae: 0.6366 - 59ms/epoch - 3ms/step\n",
            "Epoch 75/150\n",
            "20/20 - 0s - loss: 0.8737 - mae: 0.7496 - val_loss: 0.6577 - val_mae: 0.6593 - 55ms/epoch - 3ms/step\n",
            "Epoch 76/150\n",
            "20/20 - 0s - loss: 0.8848 - mae: 0.7527 - val_loss: 0.6333 - val_mae: 0.6450 - 105ms/epoch - 5ms/step\n",
            "Epoch 77/150\n",
            "20/20 - 0s - loss: 0.8778 - mae: 0.7522 - val_loss: 0.6495 - val_mae: 0.6545 - 95ms/epoch - 5ms/step\n",
            "Epoch 78/150\n",
            "20/20 - 0s - loss: 0.8794 - mae: 0.7530 - val_loss: 0.6354 - val_mae: 0.6462 - 93ms/epoch - 5ms/step\n",
            "Epoch 79/150\n",
            "20/20 - 0s - loss: 0.8785 - mae: 0.7512 - val_loss: 0.6473 - val_mae: 0.6532 - 78ms/epoch - 4ms/step\n",
            "Epoch 80/150\n",
            "20/20 - 0s - loss: 0.8809 - mae: 0.7512 - val_loss: 0.6277 - val_mae: 0.6419 - 71ms/epoch - 4ms/step\n",
            "Epoch 81/150\n",
            "20/20 - 0s - loss: 0.8753 - mae: 0.7492 - val_loss: 0.6453 - val_mae: 0.6520 - 90ms/epoch - 5ms/step\n",
            "Epoch 82/150\n",
            "20/20 - 0s - loss: 0.8797 - mae: 0.7523 - val_loss: 0.6614 - val_mae: 0.6616 - 82ms/epoch - 4ms/step\n",
            "Epoch 83/150\n",
            "20/20 - 0s - loss: 0.8765 - mae: 0.7554 - val_loss: 0.6315 - val_mae: 0.6439 - 97ms/epoch - 5ms/step\n",
            "Epoch 84/150\n",
            "20/20 - 0s - loss: 0.8713 - mae: 0.7480 - val_loss: 0.6247 - val_mae: 0.6402 - 92ms/epoch - 5ms/step\n",
            "Epoch 85/150\n",
            "20/20 - 0s - loss: 0.8780 - mae: 0.7513 - val_loss: 0.6681 - val_mae: 0.6658 - 86ms/epoch - 4ms/step\n",
            "Epoch 86/150\n",
            "20/20 - 0s - loss: 0.8773 - mae: 0.7501 - val_loss: 0.6449 - val_mae: 0.6517 - 64ms/epoch - 3ms/step\n",
            "Epoch 87/150\n",
            "20/20 - 0s - loss: 0.8802 - mae: 0.7529 - val_loss: 0.6359 - val_mae: 0.6463 - 83ms/epoch - 4ms/step\n",
            "Epoch 88/150\n",
            "20/20 - 0s - loss: 0.8786 - mae: 0.7502 - val_loss: 0.6402 - val_mae: 0.6488 - 90ms/epoch - 5ms/step\n",
            "Epoch 89/150\n",
            "20/20 - 0s - loss: 0.8819 - mae: 0.7536 - val_loss: 0.6567 - val_mae: 0.6587 - 90ms/epoch - 4ms/step\n",
            "Epoch 90/150\n",
            "20/20 - 0s - loss: 0.8798 - mae: 0.7519 - val_loss: 0.6288 - val_mae: 0.6424 - 74ms/epoch - 4ms/step\n",
            "Epoch 91/150\n",
            "20/20 - 0s - loss: 0.8782 - mae: 0.7501 - val_loss: 0.6461 - val_mae: 0.6525 - 77ms/epoch - 4ms/step\n",
            "Epoch 92/150\n",
            "20/20 - 0s - loss: 0.8819 - mae: 0.7553 - val_loss: 0.6355 - val_mae: 0.6462 - 88ms/epoch - 4ms/step\n",
            "Epoch 93/150\n",
            "20/20 - 0s - loss: 0.8718 - mae: 0.7500 - val_loss: 0.6643 - val_mae: 0.6634 - 68ms/epoch - 3ms/step\n",
            "Epoch 94/150\n",
            "20/20 - 0s - loss: 0.8842 - mae: 0.7537 - val_loss: 0.6251 - val_mae: 0.6403 - 98ms/epoch - 5ms/step\n",
            "Epoch 95/150\n",
            "20/20 - 0s - loss: 0.8851 - mae: 0.7555 - val_loss: 0.6566 - val_mae: 0.6588 - 81ms/epoch - 4ms/step\n",
            "Epoch 96/150\n",
            "20/20 - 0s - loss: 0.8796 - mae: 0.7529 - val_loss: 0.6295 - val_mae: 0.6428 - 63ms/epoch - 3ms/step\n",
            "Epoch 97/150\n",
            "20/20 - 0s - loss: 0.8742 - mae: 0.7499 - val_loss: 0.6341 - val_mae: 0.6454 - 79ms/epoch - 4ms/step\n",
            "Epoch 98/150\n",
            "20/20 - 0s - loss: 0.8759 - mae: 0.7510 - val_loss: 0.6433 - val_mae: 0.6509 - 70ms/epoch - 4ms/step\n",
            "Epoch 99/150\n",
            "20/20 - 0s - loss: 0.8734 - mae: 0.7514 - val_loss: 0.6509 - val_mae: 0.6554 - 80ms/epoch - 4ms/step\n",
            "Epoch 100/150\n",
            "20/20 - 0s - loss: 0.8840 - mae: 0.7543 - val_loss: 0.6297 - val_mae: 0.6430 - 79ms/epoch - 4ms/step\n",
            "Epoch 101/150\n",
            "20/20 - 0s - loss: 0.8780 - mae: 0.7530 - val_loss: 0.6452 - val_mae: 0.6519 - 81ms/epoch - 4ms/step\n",
            "Epoch 102/150\n",
            "20/20 - 0s - loss: 0.8785 - mae: 0.7515 - val_loss: 0.6379 - val_mae: 0.6476 - 91ms/epoch - 5ms/step\n",
            "Epoch 103/150\n",
            "20/20 - 0s - loss: 0.8758 - mae: 0.7514 - val_loss: 0.6357 - val_mae: 0.6463 - 76ms/epoch - 4ms/step\n",
            "Epoch 104/150\n",
            "20/20 - 0s - loss: 0.8812 - mae: 0.7520 - val_loss: 0.6378 - val_mae: 0.6476 - 76ms/epoch - 4ms/step\n",
            "Epoch 105/150\n",
            "20/20 - 0s - loss: 0.8758 - mae: 0.7515 - val_loss: 0.6412 - val_mae: 0.6496 - 92ms/epoch - 5ms/step\n",
            "Epoch 106/150\n",
            "20/20 - 0s - loss: 0.8762 - mae: 0.7516 - val_loss: 0.6433 - val_mae: 0.6509 - 76ms/epoch - 4ms/step\n",
            "Epoch 107/150\n",
            "20/20 - 0s - loss: 0.8815 - mae: 0.7558 - val_loss: 0.6378 - val_mae: 0.6476 - 52ms/epoch - 3ms/step\n",
            "Epoch 108/150\n",
            "20/20 - 0s - loss: 0.8748 - mae: 0.7499 - val_loss: 0.6409 - val_mae: 0.6493 - 54ms/epoch - 3ms/step\n",
            "Epoch 109/150\n",
            "20/20 - 0s - loss: 0.8800 - mae: 0.7537 - val_loss: 0.6488 - val_mae: 0.6540 - 52ms/epoch - 3ms/step\n",
            "Epoch 110/150\n",
            "20/20 - 0s - loss: 0.8743 - mae: 0.7498 - val_loss: 0.6333 - val_mae: 0.6451 - 65ms/epoch - 3ms/step\n",
            "Epoch 111/150\n",
            "20/20 - 0s - loss: 0.8763 - mae: 0.7525 - val_loss: 0.6442 - val_mae: 0.6515 - 76ms/epoch - 4ms/step\n",
            "Epoch 112/150\n",
            "20/20 - 0s - loss: 0.8799 - mae: 0.7523 - val_loss: 0.6436 - val_mae: 0.6511 - 72ms/epoch - 4ms/step\n",
            "Epoch 113/150\n",
            "20/20 - 0s - loss: 0.8757 - mae: 0.7521 - val_loss: 0.6429 - val_mae: 0.6506 - 72ms/epoch - 4ms/step\n",
            "Epoch 114/150\n",
            "20/20 - 0s - loss: 0.8800 - mae: 0.7505 - val_loss: 0.6365 - val_mae: 0.6469 - 53ms/epoch - 3ms/step\n",
            "Epoch 115/150\n",
            "20/20 - 0s - loss: 0.8788 - mae: 0.7520 - val_loss: 0.6501 - val_mae: 0.6549 - 74ms/epoch - 4ms/step\n",
            "Epoch 116/150\n",
            "20/20 - 0s - loss: 0.8884 - mae: 0.7600 - val_loss: 0.6336 - val_mae: 0.6453 - 65ms/epoch - 3ms/step\n",
            "Epoch 117/150\n",
            "20/20 - 0s - loss: 0.8788 - mae: 0.7506 - val_loss: 0.6237 - val_mae: 0.6398 - 55ms/epoch - 3ms/step\n",
            "Epoch 118/150\n",
            "20/20 - 0s - loss: 0.8778 - mae: 0.7505 - val_loss: 0.6561 - val_mae: 0.6587 - 73ms/epoch - 4ms/step\n",
            "Epoch 119/150\n",
            "20/20 - 0s - loss: 0.8773 - mae: 0.7506 - val_loss: 0.6271 - val_mae: 0.6419 - 69ms/epoch - 3ms/step\n",
            "Epoch 120/150\n",
            "20/20 - 0s - loss: 0.8785 - mae: 0.7532 - val_loss: 0.6536 - val_mae: 0.6571 - 69ms/epoch - 3ms/step\n",
            "Epoch 121/150\n",
            "20/20 - 0s - loss: 0.8768 - mae: 0.7511 - val_loss: 0.6246 - val_mae: 0.6404 - 68ms/epoch - 3ms/step\n",
            "Epoch 122/150\n",
            "20/20 - 0s - loss: 0.8759 - mae: 0.7486 - val_loss: 0.6432 - val_mae: 0.6509 - 70ms/epoch - 3ms/step\n",
            "Epoch 123/150\n",
            "20/20 - 0s - loss: 0.8814 - mae: 0.7534 - val_loss: 0.6428 - val_mae: 0.6507 - 58ms/epoch - 3ms/step\n",
            "Epoch 124/150\n",
            "20/20 - 0s - loss: 0.8777 - mae: 0.7514 - val_loss: 0.6387 - val_mae: 0.6484 - 76ms/epoch - 4ms/step\n",
            "Epoch 125/150\n",
            "20/20 - 0s - loss: 0.8730 - mae: 0.7491 - val_loss: 0.6389 - val_mae: 0.6485 - 54ms/epoch - 3ms/step\n",
            "Epoch 126/150\n",
            "20/20 - 0s - loss: 0.8715 - mae: 0.7490 - val_loss: 0.6493 - val_mae: 0.6547 - 64ms/epoch - 3ms/step\n",
            "Epoch 127/150\n",
            "20/20 - 0s - loss: 0.8714 - mae: 0.7500 - val_loss: 0.6312 - val_mae: 0.6443 - 60ms/epoch - 3ms/step\n",
            "Epoch 128/150\n",
            "20/20 - 0s - loss: 0.8771 - mae: 0.7506 - val_loss: 0.6392 - val_mae: 0.6487 - 72ms/epoch - 4ms/step\n",
            "Epoch 129/150\n",
            "20/20 - 0s - loss: 0.8789 - mae: 0.7522 - val_loss: 0.6431 - val_mae: 0.6511 - 62ms/epoch - 3ms/step\n",
            "Epoch 130/150\n",
            "20/20 - 0s - loss: 0.8749 - mae: 0.7494 - val_loss: 0.6376 - val_mae: 0.6478 - 56ms/epoch - 3ms/step\n",
            "Epoch 131/150\n",
            "20/20 - 0s - loss: 0.8749 - mae: 0.7504 - val_loss: 0.6506 - val_mae: 0.6554 - 55ms/epoch - 3ms/step\n",
            "Epoch 132/150\n",
            "20/20 - 0s - loss: 0.8776 - mae: 0.7512 - val_loss: 0.6383 - val_mae: 0.6482 - 61ms/epoch - 3ms/step\n",
            "Epoch 133/150\n",
            "20/20 - 0s - loss: 0.8765 - mae: 0.7513 - val_loss: 0.6454 - val_mae: 0.6523 - 57ms/epoch - 3ms/step\n",
            "Epoch 134/150\n",
            "20/20 - 0s - loss: 0.8786 - mae: 0.7492 - val_loss: 0.6345 - val_mae: 0.6459 - 68ms/epoch - 3ms/step\n",
            "Epoch 135/150\n",
            "20/20 - 0s - loss: 0.8833 - mae: 0.7540 - val_loss: 0.6488 - val_mae: 0.6543 - 75ms/epoch - 4ms/step\n",
            "Epoch 136/150\n",
            "20/20 - 0s - loss: 0.8757 - mae: 0.7510 - val_loss: 0.6376 - val_mae: 0.6477 - 88ms/epoch - 4ms/step\n",
            "Epoch 137/150\n",
            "20/20 - 0s - loss: 0.8743 - mae: 0.7488 - val_loss: 0.6390 - val_mae: 0.6486 - 61ms/epoch - 3ms/step\n",
            "Epoch 138/150\n",
            "20/20 - 0s - loss: 0.8761 - mae: 0.7515 - val_loss: 0.6340 - val_mae: 0.6458 - 84ms/epoch - 4ms/step\n",
            "Epoch 139/150\n",
            "20/20 - 0s - loss: 0.8733 - mae: 0.7458 - val_loss: 0.6335 - val_mae: 0.6455 - 63ms/epoch - 3ms/step\n",
            "Epoch 140/150\n",
            "20/20 - 0s - loss: 0.8823 - mae: 0.7537 - val_loss: 0.6483 - val_mae: 0.6541 - 61ms/epoch - 3ms/step\n",
            "Epoch 141/150\n",
            "20/20 - 0s - loss: 0.8732 - mae: 0.7504 - val_loss: 0.6390 - val_mae: 0.6487 - 75ms/epoch - 4ms/step\n",
            "Epoch 142/150\n",
            "20/20 - 0s - loss: 0.8747 - mae: 0.7521 - val_loss: 0.6431 - val_mae: 0.6511 - 80ms/epoch - 4ms/step\n",
            "Epoch 143/150\n",
            "20/20 - 0s - loss: 0.8771 - mae: 0.7504 - val_loss: 0.6296 - val_mae: 0.6434 - 79ms/epoch - 4ms/step\n",
            "Epoch 144/150\n",
            "20/20 - 0s - loss: 0.8797 - mae: 0.7510 - val_loss: 0.6445 - val_mae: 0.6519 - 56ms/epoch - 3ms/step\n",
            "Epoch 145/150\n",
            "20/20 - 0s - loss: 0.8783 - mae: 0.7549 - val_loss: 0.6401 - val_mae: 0.6492 - 59ms/epoch - 3ms/step\n",
            "Epoch 146/150\n",
            "20/20 - 0s - loss: 0.8749 - mae: 0.7501 - val_loss: 0.6373 - val_mae: 0.6476 - 57ms/epoch - 3ms/step\n",
            "Epoch 147/150\n",
            "20/20 - 0s - loss: 0.8731 - mae: 0.7477 - val_loss: 0.6342 - val_mae: 0.6458 - 82ms/epoch - 4ms/step\n",
            "Epoch 148/150\n",
            "20/20 - 0s - loss: 0.8735 - mae: 0.7501 - val_loss: 0.6439 - val_mae: 0.6514 - 74ms/epoch - 4ms/step\n",
            "Epoch 149/150\n",
            "20/20 - 0s - loss: 0.8831 - mae: 0.7555 - val_loss: 0.6443 - val_mae: 0.6517 - 54ms/epoch - 3ms/step\n",
            "Epoch 150/150\n",
            "20/20 - 0s - loss: 0.8828 - mae: 0.7542 - val_loss: 0.6426 - val_mae: 0.6507 - 76ms/epoch - 4ms/step\n"
          ]
        },
        {
          "output_type": "display_data",
          "data": {
            "text/plain": [
              "<Figure size 640x480 with 1 Axes>"
            ],
            "image/png": "[encoded data removed]"
          },
          "metadata": {}
        }
      ]
    },
    {
      "cell_type": "code",
      "source": [
        "# оцениваем точность нейросети на тестовых данных\n",
        "modelMF_2.evaluate(X_test, y_test, verbose=2)"
      ],
      "metadata": {
        "colab": {
          "base_uri": "https://localhost:8080/"
        },
        "outputId": "71de55e9-dc09-4dc9-d736-b2d4fa5166e4",
        "id": "qjDJ3sxhYmD2"
      },
      "execution_count": 223,
      "outputs": [
        {
          "output_type": "stream",
          "name": "stdout",
          "text": [
            "10/10 - 0s - loss: 0.7644 - mae: 0.6956 - 30ms/epoch - 3ms/step\n"
          ]
        },
        {
          "output_type": "execute_result",
          "data": {
            "text/plain": [
              "[0.7643697261810303, 0.6956464052200317]"
            ]
          },
          "metadata": {},
          "execution_count": 223
        }
      ]
    },
    {
      "cell_type": "code",
      "source": [
        "# Предсказание \n",
        "y_prediction_2 = modelMF_2.predict(X_test)"
      ],
      "metadata": {
        "colab": {
          "base_uri": "https://localhost:8080/"
        },
        "outputId": "e01ee5ad-39b2-4964-d133-798840fa30ba",
        "id": "bJRY7IHvYmD3"
      },
      "execution_count": 218,
      "outputs": [
        {
          "output_type": "stream",
          "name": "stdout",
          "text": [
            "10/10 [==============================] - 0s 1ms/step\n"
          ]
        }
      ]
    },
    {
      "cell_type": "code",
      "source": [
        "# Визуализация\n",
        "fig, ax = plt.subplots(figsize=(12, 4))\n",
        "ax.plot(y_test, label='Данные')\n",
        "ax.plot(y_prediction_2, label='Нейросеть 2')\n",
        "ax.legend()\n",
        "plt.show()"
      ],
      "metadata": {
        "colab": {
          "base_uri": "https://localhost:8080/",
          "height": 362
        },
        "outputId": "f6f3ec05-def3-452f-c8d6-e3d84670c8d8",
        "id": "EMbLcVpqYmD4"
      },
      "execution_count": 219,
      "outputs": [
        {
          "output_type": "display_data",
          "data": {
            "text/plain": [
              "<Figure size 1200x400 with 1 Axes>"
            ],
            "image/png": "[encoded data removed]"
          },
          "metadata": {}
        }
      ]
    },
    {
      "cell_type": "code",
      "source": [
        "def modelget_metrics(model_name, y, y_pred):\n",
        "    model_stats = pd.DataFrame()\n",
        "    model_stats.loc[model_name, 'R2'] = metrics.r2_score(y, y_pred)\n",
        "    model_stats.loc[model_name, 'RMSE'] = -metrics.mean_squared_error(y, y_pred, squared=False)\n",
        "    model_stats.loc[model_name, 'MAE'] = -metrics.mean_absolute_error(y, y_pred)\n",
        "    model_stats.loc[model_name, 'MAPE'] = -metrics.mean_absolute_percentage_error(y, y_pred)\n",
        "    model_stats.loc[model_name, 'max_error'] = -metrics.max_error(y, y_pred)\n",
        "    return model_stats"
      ],
      "metadata": {
        "id": "RePsloqpZWCl"
      },
      "execution_count": 220,
      "outputs": []
    },
    {
      "cell_type": "code",
      "source": [
        "result = pd.DataFrame()\n",
        "y2_pred_train = modelMF_2.predict(X_train)\n",
        "result = pd.concat([result, modelget_metrics('Соотношение матрица-наполнитель, тренировочный', y_train, y2_pred_train)])\n",
        "y2_pred_test = modelMF_2.predict(X_test)\n",
        "result = pd.concat([result, modelget_metrics('Соотношение матрица-наполнитель, тестовый', y_test, y2_pred_test)])\n",
        "result"
      ],
      "metadata": {
        "colab": {
          "base_uri": "https://localhost:8080/",
          "height": 147
        },
        "id": "p0DM7XHOZtK9",
        "outputId": "90ecd749-c648-4d70-852e-e669a4166995"
      },
      "execution_count": 222,
      "outputs": [
        {
          "output_type": "stream",
          "name": "stdout",
          "text": [
            "22/22 [==============================] - 0s 1ms/step\n",
            "10/10 [==============================] - 0s 2ms/step\n"
          ]
        },
        {
          "output_type": "execute_result",
          "data": {
            "text/plain": [
              "                                                      R2      RMSE       MAE  \\\n",
              "Соотношение матрица-наполнитель, тренировочный  0.000023 -0.922384 -0.740692   \n",
              "Соотношение матрица-наполнитель, тестовый      -0.000366 -0.874282 -0.695646   \n",
              "\n",
              "                                                    MAPE  max_error  \n",
              "Соотношение матрица-наполнитель, тренировочный -0.328859  -2.610752  \n",
              "Соотношение матрица-наполнитель, тестовый      -0.295896  -2.489102  "
            ],
            "text/html": [
              "\n",
              "  <div id=\"df-a2efbfa2-43c1-4d92-bdf4-1817ecf62f19\">\n",
              "    <div class=\"colab-df-container\">\n",
              "      <div>\n",
              "<style scoped>\n",
              "    .dataframe tbody tr th:only-of-type {\n",
              "        vertical-align: middle;\n",
              "    }\n",
              "\n",
              "    .dataframe tbody tr th {\n",
              "        vertical-align: top;\n",
              "    }\n",
              "\n",
              "    .dataframe thead th {\n",
              "        text-align: right;\n",
              "    }\n",
              "</style>\n",
              "<table border=\"1\" class=\"dataframe\">\n",
              "  <thead>\n",
              "    <tr style=\"text-align: right;\">\n",
              "      <th></th>\n",
              "      <th>R2</th>\n",
              "      <th>RMSE</th>\n",
              "      <th>MAE</th>\n",
              "      <th>MAPE</th>\n",
              "      <th>max_error</th>\n",
              "    </tr>\n",
              "  </thead>\n",
              "  <tbody>\n",
              "    <tr>\n",
              "      <th>Соотношение матрица-наполнитель, тренировочный</th>\n",
              "      <td>0.000023</td>\n",
              "      <td>-0.922384</td>\n",
              "      <td>-0.740692</td>\n",
              "      <td>-0.328859</td>\n",
              "      <td>-2.610752</td>\n",
              "    </tr>\n",
              "    <tr>\n",
              "      <th>Соотношение матрица-наполнитель, тестовый</th>\n",
              "      <td>-0.000366</td>\n",
              "      <td>-0.874282</td>\n",
              "      <td>-0.695646</td>\n",
              "      <td>-0.295896</td>\n",
              "      <td>-2.489102</td>\n",
              "    </tr>\n",
              "  </tbody>\n",
              "</table>\n",
              "</div>\n",
              "      <button class=\"colab-df-convert\" onclick=\"convertToInteractive('df-a2efbfa2-43c1-4d92-bdf4-1817ecf62f19')\"\n",
              "              title=\"Convert this dataframe to an interactive table.\"\n",
              "              style=\"display:none;\">\n",
              "        \n",
              "  <svg xmlns=\"http://www.w3.org/2000/svg\" height=\"24px\"viewBox=\"0 0 24 24\"\n",
              "       width=\"24px\">\n",
              "    <path d=\"M0 0h24v24H0V0z\" fill=\"none\"/>\n",
              "    <path d=\"M18.56 5.44l.94 2.06.94-2.06 2.06-.94-2.06-.94-.94-2.06-.94 2.06-2.06.94zm-11 1L8.5 8.5l.94-2.06 2.06-.94-2.06-.94L8.5 2.5l-.94 2.06-2.06.94zm10 10l.94 2.06.94-2.06 2.06-.94-2.06-.94-.94-2.06-.94 2.06-2.06.94z\"/><path d=\"M17.41 7.96l-1.37-1.37c-.4-.4-.92-.59-1.43-.59-.52 0-1.04.2-1.43.59L10.3 9.45l-7.72 7.72c-.78.78-.78 2.05 0 2.83L4 21.41c.39.39.9.59 1.41.59.51 0 1.02-.2 1.41-.59l7.78-7.78 2.81-2.81c.8-.78.8-2.07 0-2.86zM5.41 20L4 18.59l7.72-7.72 1.47 1.35L5.41 20z\"/>\n",
              "  </svg>\n",
              "      </button>\n",
              "      \n",
              "  <style>\n",
              "    .colab-df-container {\n",
              "      display:flex;\n",
              "      flex-wrap:wrap;\n",
              "      gap: 12px;\n",
              "    }\n",
              "\n",
              "    .colab-df-convert {\n",
              "      background-color: #E8F0FE;\n",
              "      border: none;\n",
              "      border-radius: 50%;\n",
              "      cursor: pointer;\n",
              "      display: none;\n",
              "      fill: #1967D2;\n",
              "      height: 32px;\n",
              "      padding: 0 0 0 0;\n",
              "      width: 32px;\n",
              "    }\n",
              "\n",
              "    .colab-df-convert:hover {\n",
              "      background-color: #E2EBFA;\n",
              "      box-shadow: 0px 1px 2px rgba(60, 64, 67, 0.3), 0px 1px 3px 1px rgba(60, 64, 67, 0.15);\n",
              "      fill: #174EA6;\n",
              "    }\n",
              "\n",
              "    [theme=dark] .colab-df-convert {\n",
              "      background-color: #3B4455;\n",
              "      fill: #D2E3FC;\n",
              "    }\n",
              "\n",
              "    [theme=dark] .colab-df-convert:hover {\n",
              "      background-color: #434B5C;\n",
              "      box-shadow: 0px 1px 3px 1px rgba(0, 0, 0, 0.15);\n",
              "      filter: drop-shadow(0px 1px 2px rgba(0, 0, 0, 0.3));\n",
              "      fill: #FFFFFF;\n",
              "    }\n",
              "  </style>\n",
              "\n",
              "      <script>\n",
              "        const buttonEl =\n",
              "          document.querySelector('#df-a2efbfa2-43c1-4d92-bdf4-1817ecf62f19 button.colab-df-convert');\n",
              "        buttonEl.style.display =\n",
              "          google.colab.kernel.accessAllowed ? 'block' : 'none';\n",
              "\n",
              "        async function convertToInteractive(key) {\n",
              "          const element = document.querySelector('#df-a2efbfa2-43c1-4d92-bdf4-1817ecf62f19');\n",
              "          const dataTable =\n",
              "            await google.colab.kernel.invokeFunction('convertToInteractive',\n",
              "                                                     [key], {});\n",
              "          if (!dataTable) return;\n",
              "\n",
              "          const docLinkHtml = 'Like what you see? Visit the ' +\n",
              "            '<a target=\"_blank\" href=https://colab.research.google.com/notebooks/data_table.ipynb>data table notebook</a>'\n",
              "            + ' to learn more about interactive tables.';\n",
              "          element.innerHTML = '';\n",
              "          dataTable['output_type'] = 'display_data';\n",
              "          await google.colab.output.renderOutput(dataTable, element);\n",
              "          const docLink = document.createElement('div');\n",
              "          docLink.innerHTML = docLinkHtml;\n",
              "          element.appendChild(docLink);\n",
              "        }\n",
              "      </script>\n",
              "    </div>\n",
              "  </div>\n",
              "  "
            ]
          },
          "metadata": {},
          "execution_count": 222
        }
      ]
    },
    {
      "cell_type": "markdown",
      "source": [
        "Нейросеть 2 обучилась, метрики немного улучшились, а не подстроились"
      ],
      "metadata": {
        "id": "Se1H3-2daVPO"
      }
    },
    {
      "cell_type": "code",
      "source": [
        "# модель 3 полносвязной нейронной сети с более сложной архитектурой, тренируем\n",
        "modelMF_3 = tf.keras.Sequential([\n",
        "                keras.layers.Dense(32,  input_dim=12, activation = 'sigmoid'),\n",
        "                keras.layers.Dropout(0.5),\n",
        "                keras.layers.Dense(64, activation = 'sigmoid'),\n",
        "                keras.layers.Dropout(0.5),\n",
        "                keras.layers.Dense(32, activation = 'sigmoid'),\n",
        "                keras.layers.Dense(16, activation = 'sigmoid'),\n",
        "                keras.layers.Dense(1, activation = 'linear')])\n",
        "modelMF_3.compile(optimizer='adam', loss='mse', metrics=['mae'])\n",
        "modelMF_3.summary()\n",
        "history = modelMF_3.fit(X_train, y_train, \n",
        "                    epochs=150, \n",
        "                    validation_split=0.1, \n",
        "                    verbose=2)\n",
        "plt.plot(history.history['mae'], label = 'Точность train')\n",
        "plt.plot(history.history['val_mae'], label = 'Точность test')\n",
        "plt.xlabel = ('Epochs')\n",
        "plt.ylabel = ('MAE')\n",
        "plt.legend()\n",
        "plt.show()"
      ],
      "metadata": {
        "colab": {
          "base_uri": "https://localhost:8080/",
          "height": 1000
        },
        "id": "yqTEB8jpvuJL",
        "outputId": "0e036c3c-845c-4631-d9f6-4066cdf5f6de"
      },
      "execution_count": 224,
      "outputs": [
        {
          "output_type": "stream",
          "name": "stdout",
          "text": [
            "Model: \"sequential_120\"\n",
            "_________________________________________________________________\n",
            " Layer (type)                Output Shape              Param #   \n",
            "=================================================================\n",
            " dense_453 (Dense)           (None, 32)                416       \n",
            "                                                                 \n",
            " dropout_119 (Dropout)       (None, 32)                0         \n",
            "                                                                 \n",
            " dense_454 (Dense)           (None, 64)                2112      \n",
            "                                                                 \n",
            " dropout_120 (Dropout)       (None, 64)                0         \n",
            "                                                                 \n",
            " dense_455 (Dense)           (None, 32)                2080      \n",
            "                                                                 \n",
            " dense_456 (Dense)           (None, 16)                528       \n",
            "                                                                 \n",
            " dense_457 (Dense)           (None, 1)                 17        \n",
            "                                                                 \n",
            "=================================================================\n",
            "Total params: 5,153\n",
            "Trainable params: 5,153\n",
            "Non-trainable params: 0\n",
            "_________________________________________________________________\n",
            "Epoch 1/150\n",
            "20/20 - 1s - loss: 7.9297 - mae: 2.6400 - val_loss: 4.2507 - val_mae: 1.9168 - 1s/epoch - 74ms/step\n",
            "Epoch 2/150\n",
            "20/20 - 0s - loss: 4.1937 - mae: 1.8268 - val_loss: 1.9029 - val_mae: 1.1910 - 71ms/epoch - 4ms/step\n",
            "Epoch 3/150\n",
            "20/20 - 0s - loss: 2.2218 - mae: 1.2377 - val_loss: 0.9445 - val_mae: 0.7749 - 66ms/epoch - 3ms/step\n",
            "Epoch 4/150\n",
            "20/20 - 0s - loss: 1.3839 - mae: 0.9475 - val_loss: 0.6404 - val_mae: 0.6239 - 60ms/epoch - 3ms/step\n",
            "Epoch 5/150\n",
            "20/20 - 0s - loss: 1.0651 - mae: 0.8202 - val_loss: 0.5778 - val_mae: 0.6038 - 60ms/epoch - 3ms/step\n",
            "Epoch 6/150\n",
            "20/20 - 0s - loss: 0.9396 - mae: 0.7730 - val_loss: 0.5841 - val_mae: 0.6139 - 59ms/epoch - 3ms/step\n",
            "Epoch 7/150\n",
            "20/20 - 0s - loss: 0.8993 - mae: 0.7547 - val_loss: 0.6057 - val_mae: 0.6280 - 75ms/epoch - 4ms/step\n",
            "Epoch 8/150\n",
            "20/20 - 0s - loss: 0.8840 - mae: 0.7533 - val_loss: 0.6232 - val_mae: 0.6391 - 58ms/epoch - 3ms/step\n",
            "Epoch 9/150\n",
            "20/20 - 0s - loss: 0.8791 - mae: 0.7515 - val_loss: 0.6345 - val_mae: 0.6458 - 76ms/epoch - 4ms/step\n",
            "Epoch 10/150\n",
            "20/20 - 0s - loss: 0.8802 - mae: 0.7534 - val_loss: 0.6385 - val_mae: 0.6482 - 61ms/epoch - 3ms/step\n",
            "Epoch 11/150\n",
            "20/20 - 0s - loss: 0.8767 - mae: 0.7497 - val_loss: 0.6441 - val_mae: 0.6514 - 64ms/epoch - 3ms/step\n",
            "Epoch 12/150\n",
            "20/20 - 0s - loss: 0.8807 - mae: 0.7519 - val_loss: 0.6464 - val_mae: 0.6528 - 78ms/epoch - 4ms/step\n",
            "Epoch 13/150\n",
            "20/20 - 0s - loss: 0.8706 - mae: 0.7468 - val_loss: 0.6471 - val_mae: 0.6532 - 75ms/epoch - 4ms/step\n",
            "Epoch 14/150\n",
            "20/20 - 0s - loss: 0.8732 - mae: 0.7491 - val_loss: 0.6472 - val_mae: 0.6532 - 84ms/epoch - 4ms/step\n",
            "Epoch 15/150\n",
            "20/20 - 0s - loss: 0.8782 - mae: 0.7521 - val_loss: 0.6461 - val_mae: 0.6526 - 82ms/epoch - 4ms/step\n",
            "Epoch 16/150\n",
            "20/20 - 0s - loss: 0.8756 - mae: 0.7500 - val_loss: 0.6453 - val_mae: 0.6521 - 69ms/epoch - 3ms/step\n",
            "Epoch 17/150\n",
            "20/20 - 0s - loss: 0.8754 - mae: 0.7500 - val_loss: 0.6464 - val_mae: 0.6528 - 71ms/epoch - 4ms/step\n",
            "Epoch 18/150\n",
            "20/20 - 0s - loss: 0.8765 - mae: 0.7502 - val_loss: 0.6453 - val_mae: 0.6521 - 58ms/epoch - 3ms/step\n",
            "Epoch 19/150\n",
            "20/20 - 0s - loss: 0.8797 - mae: 0.7514 - val_loss: 0.6474 - val_mae: 0.6533 - 56ms/epoch - 3ms/step\n",
            "Epoch 20/150\n",
            "20/20 - 0s - loss: 0.8744 - mae: 0.7506 - val_loss: 0.6507 - val_mae: 0.6554 - 64ms/epoch - 3ms/step\n",
            "Epoch 21/150\n",
            "20/20 - 0s - loss: 0.8804 - mae: 0.7522 - val_loss: 0.6455 - val_mae: 0.6522 - 75ms/epoch - 4ms/step\n",
            "Epoch 22/150\n",
            "20/20 - 0s - loss: 0.8744 - mae: 0.7519 - val_loss: 0.6496 - val_mae: 0.6546 - 70ms/epoch - 4ms/step\n",
            "Epoch 23/150\n",
            "20/20 - 0s - loss: 0.8798 - mae: 0.7522 - val_loss: 0.6450 - val_mae: 0.6520 - 61ms/epoch - 3ms/step\n",
            "Epoch 24/150\n",
            "20/20 - 0s - loss: 0.8782 - mae: 0.7532 - val_loss: 0.6516 - val_mae: 0.6559 - 62ms/epoch - 3ms/step\n",
            "Epoch 25/150\n",
            "20/20 - 0s - loss: 0.8741 - mae: 0.7485 - val_loss: 0.6452 - val_mae: 0.6521 - 57ms/epoch - 3ms/step\n",
            "Epoch 26/150\n",
            "20/20 - 0s - loss: 0.8776 - mae: 0.7515 - val_loss: 0.6518 - val_mae: 0.6560 - 80ms/epoch - 4ms/step\n",
            "Epoch 27/150\n",
            "20/20 - 0s - loss: 0.8758 - mae: 0.7507 - val_loss: 0.6458 - val_mae: 0.6524 - 54ms/epoch - 3ms/step\n",
            "Epoch 28/150\n",
            "20/20 - 0s - loss: 0.8815 - mae: 0.7522 - val_loss: 0.6491 - val_mae: 0.6544 - 54ms/epoch - 3ms/step\n",
            "Epoch 29/150\n",
            "20/20 - 0s - loss: 0.8826 - mae: 0.7544 - val_loss: 0.6493 - val_mae: 0.6545 - 77ms/epoch - 4ms/step\n",
            "Epoch 30/150\n",
            "20/20 - 0s - loss: 0.8798 - mae: 0.7525 - val_loss: 0.6389 - val_mae: 0.6484 - 55ms/epoch - 3ms/step\n",
            "Epoch 31/150\n",
            "20/20 - 0s - loss: 0.8774 - mae: 0.7504 - val_loss: 0.6462 - val_mae: 0.6526 - 75ms/epoch - 4ms/step\n",
            "Epoch 32/150\n",
            "20/20 - 0s - loss: 0.8776 - mae: 0.7503 - val_loss: 0.6493 - val_mae: 0.6545 - 74ms/epoch - 4ms/step\n",
            "Epoch 33/150\n",
            "20/20 - 0s - loss: 0.8731 - mae: 0.7495 - val_loss: 0.6535 - val_mae: 0.6571 - 70ms/epoch - 4ms/step\n",
            "Epoch 34/150\n",
            "20/20 - 0s - loss: 0.8760 - mae: 0.7483 - val_loss: 0.6434 - val_mae: 0.6510 - 58ms/epoch - 3ms/step\n",
            "Epoch 35/150\n",
            "20/20 - 0s - loss: 0.8786 - mae: 0.7517 - val_loss: 0.6503 - val_mae: 0.6551 - 58ms/epoch - 3ms/step\n",
            "Epoch 36/150\n",
            "20/20 - 0s - loss: 0.8762 - mae: 0.7510 - val_loss: 0.6478 - val_mae: 0.6536 - 72ms/epoch - 4ms/step\n",
            "Epoch 37/150\n",
            "20/20 - 0s - loss: 0.8760 - mae: 0.7500 - val_loss: 0.6451 - val_mae: 0.6520 - 71ms/epoch - 4ms/step\n",
            "Epoch 38/150\n",
            "20/20 - 0s - loss: 0.8759 - mae: 0.7514 - val_loss: 0.6520 - val_mae: 0.6562 - 62ms/epoch - 3ms/step\n",
            "Epoch 39/150\n",
            "20/20 - 0s - loss: 0.8754 - mae: 0.7519 - val_loss: 0.6410 - val_mae: 0.6496 - 61ms/epoch - 3ms/step\n",
            "Epoch 40/150\n",
            "20/20 - 0s - loss: 0.8765 - mae: 0.7517 - val_loss: 0.6439 - val_mae: 0.6513 - 66ms/epoch - 3ms/step\n",
            "Epoch 41/150\n",
            "20/20 - 0s - loss: 0.8739 - mae: 0.7497 - val_loss: 0.6433 - val_mae: 0.6509 - 56ms/epoch - 3ms/step\n",
            "Epoch 42/150\n",
            "20/20 - 0s - loss: 0.8838 - mae: 0.7558 - val_loss: 0.6524 - val_mae: 0.6564 - 75ms/epoch - 4ms/step\n",
            "Epoch 43/150\n",
            "20/20 - 0s - loss: 0.8793 - mae: 0.7498 - val_loss: 0.6425 - val_mae: 0.6504 - 60ms/epoch - 3ms/step\n",
            "Epoch 44/150\n",
            "20/20 - 0s - loss: 0.8749 - mae: 0.7507 - val_loss: 0.6421 - val_mae: 0.6502 - 69ms/epoch - 3ms/step\n",
            "Epoch 45/150\n",
            "20/20 - 0s - loss: 0.8785 - mae: 0.7512 - val_loss: 0.6447 - val_mae: 0.6518 - 69ms/epoch - 3ms/step\n",
            "Epoch 46/150\n",
            "20/20 - 0s - loss: 0.8725 - mae: 0.7486 - val_loss: 0.6447 - val_mae: 0.6517 - 57ms/epoch - 3ms/step\n",
            "Epoch 47/150\n",
            "20/20 - 0s - loss: 0.8744 - mae: 0.7496 - val_loss: 0.6442 - val_mae: 0.6515 - 82ms/epoch - 4ms/step\n",
            "Epoch 48/150\n",
            "20/20 - 0s - loss: 0.8759 - mae: 0.7517 - val_loss: 0.6472 - val_mae: 0.6532 - 59ms/epoch - 3ms/step\n",
            "Epoch 49/150\n",
            "20/20 - 0s - loss: 0.8784 - mae: 0.7511 - val_loss: 0.6464 - val_mae: 0.6528 - 85ms/epoch - 4ms/step\n",
            "Epoch 50/150\n",
            "20/20 - 0s - loss: 0.8786 - mae: 0.7520 - val_loss: 0.6525 - val_mae: 0.6565 - 63ms/epoch - 3ms/step\n",
            "Epoch 51/150\n",
            "20/20 - 0s - loss: 0.8769 - mae: 0.7517 - val_loss: 0.6490 - val_mae: 0.6543 - 62ms/epoch - 3ms/step\n",
            "Epoch 52/150\n",
            "20/20 - 0s - loss: 0.8757 - mae: 0.7497 - val_loss: 0.6377 - val_mae: 0.6477 - 56ms/epoch - 3ms/step\n",
            "Epoch 53/150\n",
            "20/20 - 0s - loss: 0.8755 - mae: 0.7498 - val_loss: 0.6447 - val_mae: 0.6517 - 73ms/epoch - 4ms/step\n",
            "Epoch 54/150\n",
            "20/20 - 0s - loss: 0.8780 - mae: 0.7506 - val_loss: 0.6438 - val_mae: 0.6512 - 60ms/epoch - 3ms/step\n",
            "Epoch 55/150\n",
            "20/20 - 0s - loss: 0.8741 - mae: 0.7504 - val_loss: 0.6442 - val_mae: 0.6515 - 69ms/epoch - 3ms/step\n",
            "Epoch 56/150\n",
            "20/20 - 0s - loss: 0.8798 - mae: 0.7523 - val_loss: 0.6440 - val_mae: 0.6513 - 73ms/epoch - 4ms/step\n",
            "Epoch 57/150\n",
            "20/20 - 0s - loss: 0.8797 - mae: 0.7517 - val_loss: 0.6374 - val_mae: 0.6476 - 73ms/epoch - 4ms/step\n",
            "Epoch 58/150\n",
            "20/20 - 0s - loss: 0.8758 - mae: 0.7508 - val_loss: 0.6482 - val_mae: 0.6538 - 73ms/epoch - 4ms/step\n",
            "Epoch 59/150\n",
            "20/20 - 0s - loss: 0.8783 - mae: 0.7538 - val_loss: 0.6444 - val_mae: 0.6516 - 61ms/epoch - 3ms/step\n",
            "Epoch 60/150\n",
            "20/20 - 0s - loss: 0.8754 - mae: 0.7518 - val_loss: 0.6466 - val_mae: 0.6529 - 95ms/epoch - 5ms/step\n",
            "Epoch 61/150\n",
            "20/20 - 0s - loss: 0.8734 - mae: 0.7490 - val_loss: 0.6329 - val_mae: 0.6449 - 55ms/epoch - 3ms/step\n",
            "Epoch 62/150\n",
            "20/20 - 0s - loss: 0.8803 - mae: 0.7522 - val_loss: 0.6571 - val_mae: 0.6593 - 51ms/epoch - 3ms/step\n",
            "Epoch 63/150\n",
            "20/20 - 0s - loss: 0.8755 - mae: 0.7500 - val_loss: 0.6451 - val_mae: 0.6520 - 55ms/epoch - 3ms/step\n",
            "Epoch 64/150\n",
            "20/20 - 0s - loss: 0.8860 - mae: 0.7536 - val_loss: 0.6463 - val_mae: 0.6527 - 61ms/epoch - 3ms/step\n",
            "Epoch 65/150\n",
            "20/20 - 0s - loss: 0.8838 - mae: 0.7530 - val_loss: 0.6431 - val_mae: 0.6508 - 86ms/epoch - 4ms/step\n",
            "Epoch 66/150\n",
            "20/20 - 0s - loss: 0.8767 - mae: 0.7517 - val_loss: 0.6500 - val_mae: 0.6549 - 59ms/epoch - 3ms/step\n",
            "Epoch 67/150\n",
            "20/20 - 0s - loss: 0.8730 - mae: 0.7474 - val_loss: 0.6351 - val_mae: 0.6462 - 80ms/epoch - 4ms/step\n",
            "Epoch 68/150\n",
            "20/20 - 0s - loss: 0.8747 - mae: 0.7508 - val_loss: 0.6453 - val_mae: 0.6521 - 104ms/epoch - 5ms/step\n",
            "Epoch 69/150\n",
            "20/20 - 0s - loss: 0.8786 - mae: 0.7521 - val_loss: 0.6490 - val_mae: 0.6543 - 107ms/epoch - 5ms/step\n",
            "Epoch 70/150\n",
            "20/20 - 0s - loss: 0.8725 - mae: 0.7500 - val_loss: 0.6430 - val_mae: 0.6507 - 101ms/epoch - 5ms/step\n",
            "Epoch 71/150\n",
            "20/20 - 0s - loss: 0.8773 - mae: 0.7530 - val_loss: 0.6483 - val_mae: 0.6539 - 86ms/epoch - 4ms/step\n",
            "Epoch 72/150\n",
            "20/20 - 0s - loss: 0.8798 - mae: 0.7508 - val_loss: 0.6445 - val_mae: 0.6517 - 95ms/epoch - 5ms/step\n",
            "Epoch 73/150\n",
            "20/20 - 0s - loss: 0.8763 - mae: 0.7510 - val_loss: 0.6444 - val_mae: 0.6516 - 93ms/epoch - 5ms/step\n",
            "Epoch 74/150\n",
            "20/20 - 0s - loss: 0.8821 - mae: 0.7528 - val_loss: 0.6362 - val_mae: 0.6469 - 105ms/epoch - 5ms/step\n",
            "Epoch 75/150\n",
            "20/20 - 0s - loss: 0.8776 - mae: 0.7516 - val_loss: 0.6475 - val_mae: 0.6534 - 87ms/epoch - 4ms/step\n",
            "Epoch 76/150\n",
            "20/20 - 0s - loss: 0.8785 - mae: 0.7516 - val_loss: 0.6473 - val_mae: 0.6533 - 96ms/epoch - 5ms/step\n",
            "Epoch 77/150\n",
            "20/20 - 0s - loss: 0.8791 - mae: 0.7520 - val_loss: 0.6465 - val_mae: 0.6528 - 92ms/epoch - 5ms/step\n",
            "Epoch 78/150\n",
            "20/20 - 0s - loss: 0.8765 - mae: 0.7512 - val_loss: 0.6405 - val_mae: 0.6493 - 78ms/epoch - 4ms/step\n",
            "Epoch 79/150\n",
            "20/20 - 0s - loss: 0.8771 - mae: 0.7499 - val_loss: 0.6382 - val_mae: 0.6480 - 93ms/epoch - 5ms/step\n",
            "Epoch 80/150\n",
            "20/20 - 0s - loss: 0.8783 - mae: 0.7528 - val_loss: 0.6533 - val_mae: 0.6570 - 69ms/epoch - 3ms/step\n",
            "Epoch 81/150\n",
            "20/20 - 0s - loss: 0.8789 - mae: 0.7508 - val_loss: 0.6301 - val_mae: 0.6432 - 69ms/epoch - 3ms/step\n",
            "Epoch 82/150\n",
            "20/20 - 0s - loss: 0.8813 - mae: 0.7531 - val_loss: 0.6541 - val_mae: 0.6575 - 72ms/epoch - 4ms/step\n",
            "Epoch 83/150\n",
            "20/20 - 0s - loss: 0.8758 - mae: 0.7514 - val_loss: 0.6457 - val_mae: 0.6524 - 77ms/epoch - 4ms/step\n",
            "Epoch 84/150\n",
            "20/20 - 0s - loss: 0.8730 - mae: 0.7488 - val_loss: 0.6417 - val_mae: 0.6500 - 107ms/epoch - 5ms/step\n",
            "Epoch 85/150\n",
            "20/20 - 0s - loss: 0.8774 - mae: 0.7509 - val_loss: 0.6434 - val_mae: 0.6509 - 75ms/epoch - 4ms/step\n",
            "Epoch 86/150\n",
            "20/20 - 0s - loss: 0.8756 - mae: 0.7505 - val_loss: 0.6336 - val_mae: 0.6453 - 71ms/epoch - 4ms/step\n",
            "Epoch 87/150\n",
            "20/20 - 0s - loss: 0.8762 - mae: 0.7498 - val_loss: 0.6522 - val_mae: 0.6563 - 76ms/epoch - 4ms/step\n",
            "Epoch 88/150\n",
            "20/20 - 0s - loss: 0.8789 - mae: 0.7540 - val_loss: 0.6481 - val_mae: 0.6538 - 90ms/epoch - 5ms/step\n",
            "Epoch 89/150\n",
            "20/20 - 0s - loss: 0.8776 - mae: 0.7506 - val_loss: 0.6384 - val_mae: 0.6481 - 91ms/epoch - 5ms/step\n",
            "Epoch 90/150\n",
            "20/20 - 0s - loss: 0.8767 - mae: 0.7517 - val_loss: 0.6398 - val_mae: 0.6489 - 95ms/epoch - 5ms/step\n",
            "Epoch 91/150\n",
            "20/20 - 0s - loss: 0.8763 - mae: 0.7505 - val_loss: 0.6381 - val_mae: 0.6480 - 80ms/epoch - 4ms/step\n",
            "Epoch 92/150\n",
            "20/20 - 0s - loss: 0.8786 - mae: 0.7532 - val_loss: 0.6477 - val_mae: 0.6536 - 82ms/epoch - 4ms/step\n",
            "Epoch 93/150\n",
            "20/20 - 0s - loss: 0.8774 - mae: 0.7513 - val_loss: 0.6358 - val_mae: 0.6466 - 85ms/epoch - 4ms/step\n",
            "Epoch 94/150\n",
            "20/20 - 0s - loss: 0.8758 - mae: 0.7506 - val_loss: 0.6438 - val_mae: 0.6512 - 72ms/epoch - 4ms/step\n",
            "Epoch 95/150\n",
            "20/20 - 0s - loss: 0.8810 - mae: 0.7520 - val_loss: 0.6316 - val_mae: 0.6441 - 79ms/epoch - 4ms/step\n",
            "Epoch 96/150\n",
            "20/20 - 0s - loss: 0.8738 - mae: 0.7502 - val_loss: 0.6507 - val_mae: 0.6553 - 91ms/epoch - 5ms/step\n",
            "Epoch 97/150\n",
            "20/20 - 0s - loss: 0.8785 - mae: 0.7527 - val_loss: 0.6480 - val_mae: 0.6537 - 93ms/epoch - 5ms/step\n",
            "Epoch 98/150\n",
            "20/20 - 0s - loss: 0.8761 - mae: 0.7507 - val_loss: 0.6387 - val_mae: 0.6483 - 65ms/epoch - 3ms/step\n",
            "Epoch 99/150\n",
            "20/20 - 0s - loss: 0.8786 - mae: 0.7502 - val_loss: 0.6349 - val_mae: 0.6461 - 61ms/epoch - 3ms/step\n",
            "Epoch 100/150\n",
            "20/20 - 0s - loss: 0.8753 - mae: 0.7495 - val_loss: 0.6448 - val_mae: 0.6518 - 60ms/epoch - 3ms/step\n",
            "Epoch 101/150\n",
            "20/20 - 0s - loss: 0.8768 - mae: 0.7527 - val_loss: 0.6531 - val_mae: 0.6569 - 73ms/epoch - 4ms/step\n",
            "Epoch 102/150\n",
            "20/20 - 0s - loss: 0.8772 - mae: 0.7511 - val_loss: 0.6339 - val_mae: 0.6455 - 62ms/epoch - 3ms/step\n",
            "Epoch 103/150\n",
            "20/20 - 0s - loss: 0.8774 - mae: 0.7510 - val_loss: 0.6516 - val_mae: 0.6559 - 62ms/epoch - 3ms/step\n",
            "Epoch 104/150\n",
            "20/20 - 0s - loss: 0.8762 - mae: 0.7505 - val_loss: 0.6388 - val_mae: 0.6483 - 60ms/epoch - 3ms/step\n",
            "Epoch 105/150\n",
            "20/20 - 0s - loss: 0.8741 - mae: 0.7481 - val_loss: 0.6301 - val_mae: 0.6432 - 76ms/epoch - 4ms/step\n",
            "Epoch 106/150\n",
            "20/20 - 0s - loss: 0.8765 - mae: 0.7522 - val_loss: 0.6520 - val_mae: 0.6562 - 81ms/epoch - 4ms/step\n",
            "Epoch 107/150\n",
            "20/20 - 0s - loss: 0.8767 - mae: 0.7500 - val_loss: 0.6403 - val_mae: 0.6492 - 57ms/epoch - 3ms/step\n",
            "Epoch 108/150\n",
            "20/20 - 0s - loss: 0.8772 - mae: 0.7520 - val_loss: 0.6484 - val_mae: 0.6540 - 62ms/epoch - 3ms/step\n",
            "Epoch 109/150\n",
            "20/20 - 0s - loss: 0.8759 - mae: 0.7503 - val_loss: 0.6377 - val_mae: 0.6477 - 57ms/epoch - 3ms/step\n",
            "Epoch 110/150\n",
            "20/20 - 0s - loss: 0.8762 - mae: 0.7491 - val_loss: 0.6343 - val_mae: 0.6457 - 55ms/epoch - 3ms/step\n",
            "Epoch 111/150\n",
            "20/20 - 0s - loss: 0.8806 - mae: 0.7529 - val_loss: 0.6555 - val_mae: 0.6583 - 54ms/epoch - 3ms/step\n",
            "Epoch 112/150\n",
            "20/20 - 0s - loss: 0.8790 - mae: 0.7528 - val_loss: 0.6324 - val_mae: 0.6446 - 70ms/epoch - 3ms/step\n",
            "Epoch 113/150\n",
            "20/20 - 0s - loss: 0.8797 - mae: 0.7526 - val_loss: 0.6368 - val_mae: 0.6472 - 79ms/epoch - 4ms/step\n",
            "Epoch 114/150\n",
            "20/20 - 0s - loss: 0.8747 - mae: 0.7511 - val_loss: 0.6393 - val_mae: 0.6486 - 73ms/epoch - 4ms/step\n",
            "Epoch 115/150\n",
            "20/20 - 0s - loss: 0.8773 - mae: 0.7504 - val_loss: 0.6425 - val_mae: 0.6504 - 72ms/epoch - 4ms/step\n",
            "Epoch 116/150\n",
            "20/20 - 0s - loss: 0.8774 - mae: 0.7503 - val_loss: 0.6398 - val_mae: 0.6489 - 62ms/epoch - 3ms/step\n",
            "Epoch 117/150\n",
            "20/20 - 0s - loss: 0.8764 - mae: 0.7504 - val_loss: 0.6451 - val_mae: 0.6520 - 63ms/epoch - 3ms/step\n",
            "Epoch 118/150\n",
            "20/20 - 0s - loss: 0.8771 - mae: 0.7518 - val_loss: 0.6447 - val_mae: 0.6518 - 73ms/epoch - 4ms/step\n",
            "Epoch 119/150\n",
            "20/20 - 0s - loss: 0.8770 - mae: 0.7524 - val_loss: 0.6304 - val_mae: 0.6433 - 80ms/epoch - 4ms/step\n",
            "Epoch 120/150\n",
            "20/20 - 0s - loss: 0.8784 - mae: 0.7510 - val_loss: 0.6416 - val_mae: 0.6499 - 74ms/epoch - 4ms/step\n",
            "Epoch 121/150\n",
            "20/20 - 0s - loss: 0.8777 - mae: 0.7506 - val_loss: 0.6449 - val_mae: 0.6519 - 78ms/epoch - 4ms/step\n",
            "Epoch 122/150\n",
            "20/20 - 0s - loss: 0.8758 - mae: 0.7511 - val_loss: 0.6422 - val_mae: 0.6502 - 77ms/epoch - 4ms/step\n",
            "Epoch 123/150\n",
            "20/20 - 0s - loss: 0.8801 - mae: 0.7532 - val_loss: 0.6463 - val_mae: 0.6527 - 86ms/epoch - 4ms/step\n",
            "Epoch 124/150\n",
            "20/20 - 0s - loss: 0.8729 - mae: 0.7476 - val_loss: 0.6236 - val_mae: 0.6393 - 86ms/epoch - 4ms/step\n",
            "Epoch 125/150\n",
            "20/20 - 0s - loss: 0.8777 - mae: 0.7496 - val_loss: 0.6476 - val_mae: 0.6535 - 65ms/epoch - 3ms/step\n",
            "Epoch 126/150\n",
            "20/20 - 0s - loss: 0.8798 - mae: 0.7537 - val_loss: 0.6571 - val_mae: 0.6593 - 58ms/epoch - 3ms/step\n",
            "Epoch 127/150\n",
            "20/20 - 0s - loss: 0.8764 - mae: 0.7501 - val_loss: 0.6288 - val_mae: 0.6424 - 74ms/epoch - 4ms/step\n",
            "Epoch 128/150\n",
            "20/20 - 0s - loss: 0.8764 - mae: 0.7488 - val_loss: 0.6447 - val_mae: 0.6518 - 69ms/epoch - 3ms/step\n",
            "Epoch 129/150\n",
            "20/20 - 0s - loss: 0.8748 - mae: 0.7506 - val_loss: 0.6438 - val_mae: 0.6512 - 69ms/epoch - 3ms/step\n",
            "Epoch 130/150\n",
            "20/20 - 0s - loss: 0.8749 - mae: 0.7505 - val_loss: 0.6487 - val_mae: 0.6541 - 76ms/epoch - 4ms/step\n",
            "Epoch 131/150\n",
            "20/20 - 0s - loss: 0.8795 - mae: 0.7517 - val_loss: 0.6383 - val_mae: 0.6480 - 61ms/epoch - 3ms/step\n",
            "Epoch 132/150\n",
            "20/20 - 0s - loss: 0.8793 - mae: 0.7519 - val_loss: 0.6410 - val_mae: 0.6496 - 58ms/epoch - 3ms/step\n",
            "Epoch 133/150\n",
            "20/20 - 0s - loss: 0.8753 - mae: 0.7500 - val_loss: 0.6390 - val_mae: 0.6485 - 77ms/epoch - 4ms/step\n",
            "Epoch 134/150\n",
            "20/20 - 0s - loss: 0.8756 - mae: 0.7502 - val_loss: 0.6361 - val_mae: 0.6468 - 74ms/epoch - 4ms/step\n",
            "Epoch 135/150\n",
            "20/20 - 0s - loss: 0.8755 - mae: 0.7506 - val_loss: 0.6455 - val_mae: 0.6522 - 61ms/epoch - 3ms/step\n",
            "Epoch 136/150\n",
            "20/20 - 0s - loss: 0.8786 - mae: 0.7529 - val_loss: 0.6328 - val_mae: 0.6448 - 83ms/epoch - 4ms/step\n",
            "Epoch 137/150\n",
            "20/20 - 0s - loss: 0.8775 - mae: 0.7504 - val_loss: 0.6451 - val_mae: 0.6520 - 56ms/epoch - 3ms/step\n",
            "Epoch 138/150\n",
            "20/20 - 0s - loss: 0.8741 - mae: 0.7507 - val_loss: 0.6369 - val_mae: 0.6472 - 55ms/epoch - 3ms/step\n",
            "Epoch 139/150\n",
            "20/20 - 0s - loss: 0.8760 - mae: 0.7511 - val_loss: 0.6376 - val_mae: 0.6476 - 73ms/epoch - 4ms/step\n",
            "Epoch 140/150\n",
            "20/20 - 0s - loss: 0.8765 - mae: 0.7509 - val_loss: 0.6346 - val_mae: 0.6459 - 63ms/epoch - 3ms/step\n",
            "Epoch 141/150\n",
            "20/20 - 0s - loss: 0.8749 - mae: 0.7505 - val_loss: 0.6422 - val_mae: 0.6503 - 62ms/epoch - 3ms/step\n",
            "Epoch 142/150\n",
            "20/20 - 0s - loss: 0.8786 - mae: 0.7526 - val_loss: 0.6495 - val_mae: 0.6546 - 72ms/epoch - 4ms/step\n",
            "Epoch 143/150\n",
            "20/20 - 0s - loss: 0.8786 - mae: 0.7530 - val_loss: 0.6345 - val_mae: 0.6458 - 80ms/epoch - 4ms/step\n",
            "Epoch 144/150\n",
            "20/20 - 0s - loss: 0.8786 - mae: 0.7522 - val_loss: 0.6274 - val_mae: 0.6415 - 59ms/epoch - 3ms/step\n",
            "Epoch 145/150\n",
            "20/20 - 0s - loss: 0.8775 - mae: 0.7508 - val_loss: 0.6552 - val_mae: 0.6581 - 62ms/epoch - 3ms/step\n",
            "Epoch 146/150\n",
            "20/20 - 0s - loss: 0.8781 - mae: 0.7520 - val_loss: 0.6376 - val_mae: 0.6476 - 78ms/epoch - 4ms/step\n",
            "Epoch 147/150\n",
            "20/20 - 0s - loss: 0.8756 - mae: 0.7510 - val_loss: 0.6414 - val_mae: 0.6498 - 60ms/epoch - 3ms/step\n",
            "Epoch 148/150\n",
            "20/20 - 0s - loss: 0.8792 - mae: 0.7520 - val_loss: 0.6348 - val_mae: 0.6460 - 69ms/epoch - 3ms/step\n",
            "Epoch 149/150\n",
            "20/20 - 0s - loss: 0.8754 - mae: 0.7489 - val_loss: 0.6445 - val_mae: 0.6516 - 76ms/epoch - 4ms/step\n",
            "Epoch 150/150\n",
            "20/20 - 0s - loss: 0.8730 - mae: 0.7498 - val_loss: 0.6475 - val_mae: 0.6535 - 75ms/epoch - 4ms/step\n"
          ]
        },
        {
          "output_type": "display_data",
          "data": {
            "text/plain": [
              "<Figure size 640x480 with 1 Axes>"
            ],
            "image/png": "[encoded data removed]"
          },
          "metadata": {}
        }
      ]
    },
    {
      "cell_type": "code",
      "source": [
        "# оцениваем точность нейросети на тестовых данных\n",
        "modelMF_3.evaluate(X_test, y_test, verbose=2)"
      ],
      "metadata": {
        "colab": {
          "base_uri": "https://localhost:8080/"
        },
        "outputId": "d0729057-049c-4309-fed9-368367bdd808",
        "id": "nM9ysEwjYCGo"
      },
      "execution_count": 225,
      "outputs": [
        {
          "output_type": "stream",
          "name": "stdout",
          "text": [
            "10/10 - 0s - loss: 0.7644 - mae: 0.6952 - 45ms/epoch - 5ms/step\n"
          ]
        },
        {
          "output_type": "execute_result",
          "data": {
            "text/plain": [
              "[0.7644139528274536, 0.6952219009399414]"
            ]
          },
          "metadata": {},
          "execution_count": 225
        }
      ]
    },
    {
      "cell_type": "code",
      "source": [
        "# Предсказание \n",
        "y_prediction_3 = modelMF_3.predict(X_test)"
      ],
      "metadata": {
        "colab": {
          "base_uri": "https://localhost:8080/"
        },
        "outputId": "5e1704dc-f334-4f73-cf6a-586caf025e1c",
        "id": "mYTK48ZyYCGp"
      },
      "execution_count": 226,
      "outputs": [
        {
          "output_type": "stream",
          "name": "stdout",
          "text": [
            "10/10 [==============================] - 0s 1ms/step\n"
          ]
        }
      ]
    },
    {
      "cell_type": "code",
      "source": [
        "# Визуализация\n",
        "fig, ax = plt.subplots(figsize=(12, 4))\n",
        "ax.plot(y_test, label='Данные')\n",
        "ax.plot(y_prediction_3, label='Нейросеть 3')\n",
        "ax.legend()\n",
        "plt.show()"
      ],
      "metadata": {
        "colab": {
          "base_uri": "https://localhost:8080/",
          "height": 362
        },
        "outputId": "21768d8e-4c22-4fd2-8327-a4604ccacdef",
        "id": "3R_2YiL5YCGq"
      },
      "execution_count": 227,
      "outputs": [
        {
          "output_type": "display_data",
          "data": {
            "text/plain": [
              "<Figure size 1200x400 with 1 Axes>"
            ],
            "image/png": "[encoded data removed]"
          },
          "metadata": {}
        }
      ]
    },
    {
      "cell_type": "code",
      "source": [
        "# посмотрим по метрикам"
      ],
      "metadata": {
        "id": "ZkAvge1Hanm7"
      },
      "execution_count": null,
      "outputs": []
    },
    {
      "cell_type": "code",
      "source": [
        "result = pd.DataFrame()\n",
        "y3_pred_train = modelMF_3.predict(X_train)\n",
        "result = pd.concat([result, modelget_metrics('Соотношение матрица-наполнитель, тренировочный', y_train, y3_pred_train)])\n",
        "y3_pred_test = modelMF_3.predict(X_test)\n",
        "result = pd.concat([result, modelget_metrics('Соотношение матрица-наполнитель, тестовый', y_test, y3_pred_test)])\n",
        "result"
      ],
      "metadata": {
        "colab": {
          "base_uri": "https://localhost:8080/",
          "height": 147
        },
        "outputId": "1a0da1bd-b4ae-4bf5-fe8b-36d01c2872de",
        "id": "kLmVgHBGan7w"
      },
      "execution_count": 228,
      "outputs": [
        {
          "output_type": "stream",
          "name": "stdout",
          "text": [
            "22/22 [==============================] - 0s 2ms/step\n",
            "10/10 [==============================] - 0s 2ms/step\n"
          ]
        },
        {
          "output_type": "execute_result",
          "data": {
            "text/plain": [
              "                                                      R2      RMSE       MAE  \\\n",
              "Соотношение матрица-наполнитель, тренировочный -0.002767 -0.923670 -0.741881   \n",
              "Соотношение матрица-наполнитель, тестовый      -0.000423 -0.874308 -0.695222   \n",
              "\n",
              "                                                    MAPE  max_error  \n",
              "Соотношение матрица-наполнитель, тренировочный -0.330315  -2.613384  \n",
              "Соотношение матрица-наполнитель, тестовый      -0.296718  -2.479797  "
            ],
            "text/html": [
              "\n",
              "  <div id=\"df-031944c5-4ba9-418f-9576-ec7ab8354005\">\n",
              "    <div class=\"colab-df-container\">\n",
              "      <div>\n",
              "<style scoped>\n",
              "    .dataframe tbody tr th:only-of-type {\n",
              "        vertical-align: middle;\n",
              "    }\n",
              "\n",
              "    .dataframe tbody tr th {\n",
              "        vertical-align: top;\n",
              "    }\n",
              "\n",
              "    .dataframe thead th {\n",
              "        text-align: right;\n",
              "    }\n",
              "</style>\n",
              "<table border=\"1\" class=\"dataframe\">\n",
              "  <thead>\n",
              "    <tr style=\"text-align: right;\">\n",
              "      <th></th>\n",
              "      <th>R2</th>\n",
              "      <th>RMSE</th>\n",
              "      <th>MAE</th>\n",
              "      <th>MAPE</th>\n",
              "      <th>max_error</th>\n",
              "    </tr>\n",
              "  </thead>\n",
              "  <tbody>\n",
              "    <tr>\n",
              "      <th>Соотношение матрица-наполнитель, тренировочный</th>\n",
              "      <td>-0.002767</td>\n",
              "      <td>-0.923670</td>\n",
              "      <td>-0.741881</td>\n",
              "      <td>-0.330315</td>\n",
              "      <td>-2.613384</td>\n",
              "    </tr>\n",
              "    <tr>\n",
              "      <th>Соотношение матрица-наполнитель, тестовый</th>\n",
              "      <td>-0.000423</td>\n",
              "      <td>-0.874308</td>\n",
              "      <td>-0.695222</td>\n",
              "      <td>-0.296718</td>\n",
              "      <td>-2.479797</td>\n",
              "    </tr>\n",
              "  </tbody>\n",
              "</table>\n",
              "</div>\n",
              "      <button class=\"colab-df-convert\" onclick=\"convertToInteractive('df-031944c5-4ba9-418f-9576-ec7ab8354005')\"\n",
              "              title=\"Convert this dataframe to an interactive table.\"\n",
              "              style=\"display:none;\">\n",
              "        \n",
              "  <svg xmlns=\"http://www.w3.org/2000/svg\" height=\"24px\"viewBox=\"0 0 24 24\"\n",
              "       width=\"24px\">\n",
              "    <path d=\"M0 0h24v24H0V0z\" fill=\"none\"/>\n",
              "    <path d=\"M18.56 5.44l.94 2.06.94-2.06 2.06-.94-2.06-.94-.94-2.06-.94 2.06-2.06.94zm-11 1L8.5 8.5l.94-2.06 2.06-.94-2.06-.94L8.5 2.5l-.94 2.06-2.06.94zm10 10l.94 2.06.94-2.06 2.06-.94-2.06-.94-.94-2.06-.94 2.06-2.06.94z\"/><path d=\"M17.41 7.96l-1.37-1.37c-.4-.4-.92-.59-1.43-.59-.52 0-1.04.2-1.43.59L10.3 9.45l-7.72 7.72c-.78.78-.78 2.05 0 2.83L4 21.41c.39.39.9.59 1.41.59.51 0 1.02-.2 1.41-.59l7.78-7.78 2.81-2.81c.8-.78.8-2.07 0-2.86zM5.41 20L4 18.59l7.72-7.72 1.47 1.35L5.41 20z\"/>\n",
              "  </svg>\n",
              "      </button>\n",
              "      \n",
              "  <style>\n",
              "    .colab-df-container {\n",
              "      display:flex;\n",
              "      flex-wrap:wrap;\n",
              "      gap: 12px;\n",
              "    }\n",
              "\n",
              "    .colab-df-convert {\n",
              "      background-color: #E8F0FE;\n",
              "      border: none;\n",
              "      border-radius: 50%;\n",
              "      cursor: pointer;\n",
              "      display: none;\n",
              "      fill: #1967D2;\n",
              "      height: 32px;\n",
              "      padding: 0 0 0 0;\n",
              "      width: 32px;\n",
              "    }\n",
              "\n",
              "    .colab-df-convert:hover {\n",
              "      background-color: #E2EBFA;\n",
              "      box-shadow: 0px 1px 2px rgba(60, 64, 67, 0.3), 0px 1px 3px 1px rgba(60, 64, 67, 0.15);\n",
              "      fill: #174EA6;\n",
              "    }\n",
              "\n",
              "    [theme=dark] .colab-df-convert {\n",
              "      background-color: #3B4455;\n",
              "      fill: #D2E3FC;\n",
              "    }\n",
              "\n",
              "    [theme=dark] .colab-df-convert:hover {\n",
              "      background-color: #434B5C;\n",
              "      box-shadow: 0px 1px 3px 1px rgba(0, 0, 0, 0.15);\n",
              "      filter: drop-shadow(0px 1px 2px rgba(0, 0, 0, 0.3));\n",
              "      fill: #FFFFFF;\n",
              "    }\n",
              "  </style>\n",
              "\n",
              "      <script>\n",
              "        const buttonEl =\n",
              "          document.querySelector('#df-031944c5-4ba9-418f-9576-ec7ab8354005 button.colab-df-convert');\n",
              "        buttonEl.style.display =\n",
              "          google.colab.kernel.accessAllowed ? 'block' : 'none';\n",
              "\n",
              "        async function convertToInteractive(key) {\n",
              "          const element = document.querySelector('#df-031944c5-4ba9-418f-9576-ec7ab8354005');\n",
              "          const dataTable =\n",
              "            await google.colab.kernel.invokeFunction('convertToInteractive',\n",
              "                                                     [key], {});\n",
              "          if (!dataTable) return;\n",
              "\n",
              "          const docLinkHtml = 'Like what you see? Visit the ' +\n",
              "            '<a target=\"_blank\" href=https://colab.research.google.com/notebooks/data_table.ipynb>data table notebook</a>'\n",
              "            + ' to learn more about interactive tables.';\n",
              "          element.innerHTML = '';\n",
              "          dataTable['output_type'] = 'display_data';\n",
              "          await google.colab.output.renderOutput(dataTable, element);\n",
              "          const docLink = document.createElement('div');\n",
              "          docLink.innerHTML = docLinkHtml;\n",
              "          element.appendChild(docLink);\n",
              "        }\n",
              "      </script>\n",
              "    </div>\n",
              "  </div>\n",
              "  "
            ]
          },
          "metadata": {},
          "execution_count": 228
        }
      ]
    },
    {
      "cell_type": "markdown",
      "source": [
        "После обучения нейросети 3 получили коэффициент детерменации отрицательный, но уже лучше на наборе реальных данных, остальные метрики улучшились незначительно"
      ],
      "metadata": {
        "id": "m1-R61pCbDQU"
      }
    },
    {
      "cell_type": "code",
      "source": [
        "# Нейросеть-4, модель полносвязной нейронной сети для целевого параметра y\n",
        "modelMF_4 = Sequential()\n",
        "modelMF_4.add(Dense(18,  input_dim=12, activation = 'sigmoid'))\n",
        "modelMF_4.add(Dense(18, activation = 'sigmoid'))\n",
        "modelMF_4.add(Dense(1, activation = 'sigmoid'))\n",
        "modelMF_4.compile(optimizer='adam', loss='mse', metrics=['mae'])\n",
        "modelMF_4.summary()\n",
        "history = modelMF_4.fit(\n",
        "                  X_train,\n",
        "                  y_train, \n",
        "                  epochs=60, \n",
        "                  validation_split=0.3,  # обучение 70/30\n",
        "                  verbose=2,\n",
        "                  callbacks=[keras.callbacks.EarlyStopping(monitor='val_loss', patience=3)] # попробуем раннюю остановку обучения\n",
        "                  )\n",
        "plt.plot(history.history['mae'], label = 'Точность train')\n",
        "plt.plot(history.history['val_mae'], label = 'Точность test')\n",
        "plt.xlabel = ('Epochs')\n",
        "plt.ylabel = ('mae')\n",
        "plt.legend()\n",
        "plt.show()"
      ],
      "metadata": {
        "colab": {
          "base_uri": "https://localhost:8080/",
          "height": 1000
        },
        "id": "_hENxGnWv6Cm",
        "outputId": "bcff7c99-d4e0-4f05-e6cb-5f61a056709b"
      },
      "execution_count": 104,
      "outputs": [
        {
          "output_type": "stream",
          "name": "stdout",
          "text": [
            "Model: \"sequential_51\"\n",
            "_________________________________________________________________\n",
            " Layer (type)                Output Shape              Param #   \n",
            "=================================================================\n",
            " dense_172 (Dense)           (None, 18)                234       \n",
            "                                                                 \n",
            " dense_173 (Dense)           (None, 18)                342       \n",
            "                                                                 \n",
            " dense_174 (Dense)           (None, 1)                 19        \n",
            "                                                                 \n",
            "=================================================================\n",
            "Total params: 595\n",
            "Trainable params: 595\n",
            "Non-trainable params: 0\n",
            "_________________________________________________________________\n",
            "Epoch 1/60\n",
            "16/16 - 1s - loss: 6.3561 - mae: 2.3357 - val_loss: 5.4009 - val_mae: 2.1680 - 743ms/epoch - 46ms/step\n",
            "Epoch 2/60\n",
            "16/16 - 0s - loss: 5.9971 - mae: 2.2576 - val_loss: 5.0976 - val_mae: 2.0975 - 63ms/epoch - 4ms/step\n",
            "Epoch 3/60\n",
            "16/16 - 0s - loss: 5.7114 - mae: 2.1938 - val_loss: 4.8680 - val_mae: 2.0425 - 47ms/epoch - 3ms/step\n",
            "Epoch 4/60\n",
            "16/16 - 0s - loss: 5.4970 - mae: 2.1453 - val_loss: 4.6986 - val_mae: 2.0009 - 57ms/epoch - 4ms/step\n",
            "Epoch 5/60\n",
            "16/16 - 0s - loss: 5.3399 - mae: 2.1090 - val_loss: 4.5753 - val_mae: 1.9701 - 49ms/epoch - 3ms/step\n",
            "Epoch 6/60\n",
            "16/16 - 0s - loss: 5.2257 - mae: 2.0819 - val_loss: 4.4844 - val_mae: 1.9470 - 47ms/epoch - 3ms/step\n",
            "Epoch 7/60\n",
            "16/16 - 0s - loss: 5.1410 - mae: 2.0621 - val_loss: 4.4177 - val_mae: 1.9299 - 57ms/epoch - 4ms/step\n",
            "Epoch 8/60\n",
            "16/16 - 0s - loss: 5.0783 - mae: 2.0470 - val_loss: 4.3663 - val_mae: 1.9167 - 57ms/epoch - 4ms/step\n",
            "Epoch 9/60\n",
            "16/16 - 0s - loss: 5.0304 - mae: 2.0355 - val_loss: 4.3281 - val_mae: 1.9068 - 66ms/epoch - 4ms/step\n",
            "Epoch 10/60\n",
            "16/16 - 0s - loss: 4.9939 - mae: 2.0267 - val_loss: 4.2979 - val_mae: 1.8989 - 48ms/epoch - 3ms/step\n",
            "Epoch 11/60\n",
            "16/16 - 0s - loss: 4.9649 - mae: 2.0196 - val_loss: 4.2738 - val_mae: 1.8926 - 62ms/epoch - 4ms/step\n",
            "Epoch 12/60\n",
            "16/16 - 0s - loss: 4.9418 - mae: 2.0140 - val_loss: 4.2545 - val_mae: 1.8875 - 63ms/epoch - 4ms/step\n",
            "Epoch 13/60\n",
            "16/16 - 0s - loss: 4.9228 - mae: 2.0094 - val_loss: 4.2385 - val_mae: 1.8833 - 64ms/epoch - 4ms/step\n",
            "Epoch 14/60\n",
            "16/16 - 0s - loss: 4.9073 - mae: 2.0056 - val_loss: 4.2252 - val_mae: 1.8798 - 68ms/epoch - 4ms/step\n",
            "Epoch 15/60\n",
            "16/16 - 0s - loss: 4.8941 - mae: 2.0023 - val_loss: 4.2141 - val_mae: 1.8769 - 47ms/epoch - 3ms/step\n",
            "Epoch 16/60\n",
            "16/16 - 0s - loss: 4.8829 - mae: 1.9996 - val_loss: 4.2045 - val_mae: 1.8743 - 53ms/epoch - 3ms/step\n",
            "Epoch 17/60\n",
            "16/16 - 0s - loss: 4.8733 - mae: 1.9972 - val_loss: 4.1960 - val_mae: 1.8721 - 59ms/epoch - 4ms/step\n",
            "Epoch 18/60\n",
            "16/16 - 0s - loss: 4.8648 - mae: 1.9952 - val_loss: 4.1886 - val_mae: 1.8701 - 63ms/epoch - 4ms/step\n",
            "Epoch 19/60\n",
            "16/16 - 0s - loss: 4.8575 - mae: 1.9933 - val_loss: 4.1821 - val_mae: 1.8684 - 60ms/epoch - 4ms/step\n",
            "Epoch 20/60\n",
            "16/16 - 0s - loss: 4.8509 - mae: 1.9918 - val_loss: 4.1765 - val_mae: 1.8669 - 50ms/epoch - 3ms/step\n",
            "Epoch 21/60\n",
            "16/16 - 0s - loss: 4.8452 - mae: 1.9903 - val_loss: 4.1713 - val_mae: 1.8655 - 62ms/epoch - 4ms/step\n",
            "Epoch 22/60\n",
            "16/16 - 0s - loss: 4.8400 - mae: 1.9891 - val_loss: 4.1668 - val_mae: 1.8643 - 63ms/epoch - 4ms/step\n",
            "Epoch 23/60\n",
            "16/16 - 0s - loss: 4.8354 - mae: 1.9879 - val_loss: 4.1626 - val_mae: 1.8632 - 67ms/epoch - 4ms/step\n",
            "Epoch 24/60\n",
            "16/16 - 0s - loss: 4.8312 - mae: 1.9869 - val_loss: 4.1589 - val_mae: 1.8622 - 50ms/epoch - 3ms/step\n",
            "Epoch 25/60\n",
            "16/16 - 0s - loss: 4.8274 - mae: 1.9860 - val_loss: 4.1555 - val_mae: 1.8613 - 50ms/epoch - 3ms/step\n",
            "Epoch 26/60\n",
            "16/16 - 0s - loss: 4.8239 - mae: 1.9851 - val_loss: 4.1524 - val_mae: 1.8605 - 64ms/epoch - 4ms/step\n",
            "Epoch 27/60\n",
            "16/16 - 0s - loss: 4.8207 - mae: 1.9843 - val_loss: 4.1495 - val_mae: 1.8597 - 52ms/epoch - 3ms/step\n",
            "Epoch 28/60\n",
            "16/16 - 0s - loss: 4.8178 - mae: 1.9836 - val_loss: 4.1469 - val_mae: 1.8590 - 55ms/epoch - 3ms/step\n",
            "Epoch 29/60\n",
            "16/16 - 0s - loss: 4.8151 - mae: 1.9829 - val_loss: 4.1445 - val_mae: 1.8584 - 61ms/epoch - 4ms/step\n",
            "Epoch 30/60\n",
            "16/16 - 0s - loss: 4.8127 - mae: 1.9823 - val_loss: 4.1423 - val_mae: 1.8578 - 52ms/epoch - 3ms/step\n",
            "Epoch 31/60\n",
            "16/16 - 0s - loss: 4.8103 - mae: 1.9818 - val_loss: 4.1402 - val_mae: 1.8572 - 53ms/epoch - 3ms/step\n",
            "Epoch 32/60\n",
            "16/16 - 0s - loss: 4.8082 - mae: 1.9812 - val_loss: 4.1383 - val_mae: 1.8567 - 63ms/epoch - 4ms/step\n",
            "Epoch 33/60\n",
            "16/16 - 0s - loss: 4.8062 - mae: 1.9807 - val_loss: 4.1365 - val_mae: 1.8562 - 68ms/epoch - 4ms/step\n",
            "Epoch 34/60\n",
            "16/16 - 0s - loss: 4.8044 - mae: 1.9803 - val_loss: 4.1348 - val_mae: 1.8558 - 66ms/epoch - 4ms/step\n",
            "Epoch 35/60\n",
            "16/16 - 0s - loss: 4.8027 - mae: 1.9799 - val_loss: 4.1332 - val_mae: 1.8554 - 58ms/epoch - 4ms/step\n",
            "Epoch 36/60\n",
            "16/16 - 0s - loss: 4.8010 - mae: 1.9795 - val_loss: 4.1318 - val_mae: 1.8550 - 53ms/epoch - 3ms/step\n",
            "Epoch 37/60\n",
            "16/16 - 0s - loss: 4.7995 - mae: 1.9791 - val_loss: 4.1304 - val_mae: 1.8546 - 67ms/epoch - 4ms/step\n",
            "Epoch 38/60\n",
            "16/16 - 0s - loss: 4.7981 - mae: 1.9787 - val_loss: 4.1291 - val_mae: 1.8542 - 62ms/epoch - 4ms/step\n",
            "Epoch 39/60\n",
            "16/16 - 0s - loss: 4.7967 - mae: 1.9784 - val_loss: 4.1279 - val_mae: 1.8539 - 58ms/epoch - 4ms/step\n",
            "Epoch 40/60\n",
            "16/16 - 0s - loss: 4.7955 - mae: 1.9781 - val_loss: 4.1267 - val_mae: 1.8536 - 57ms/epoch - 4ms/step\n",
            "Epoch 41/60\n",
            "16/16 - 0s - loss: 4.7943 - mae: 1.9778 - val_loss: 4.1256 - val_mae: 1.8533 - 66ms/epoch - 4ms/step\n",
            "Epoch 42/60\n",
            "16/16 - 0s - loss: 4.7931 - mae: 1.9775 - val_loss: 4.1246 - val_mae: 1.8530 - 51ms/epoch - 3ms/step\n",
            "Epoch 43/60\n",
            "16/16 - 0s - loss: 4.7921 - mae: 1.9773 - val_loss: 4.1236 - val_mae: 1.8528 - 52ms/epoch - 3ms/step\n",
            "Epoch 44/60\n",
            "16/16 - 0s - loss: 4.7911 - mae: 1.9770 - val_loss: 4.1227 - val_mae: 1.8525 - 67ms/epoch - 4ms/step\n",
            "Epoch 45/60\n",
            "16/16 - 0s - loss: 4.7901 - mae: 1.9768 - val_loss: 4.1218 - val_mae: 1.8523 - 56ms/epoch - 4ms/step\n",
            "Epoch 46/60\n",
            "16/16 - 0s - loss: 4.7892 - mae: 1.9765 - val_loss: 4.1210 - val_mae: 1.8521 - 51ms/epoch - 3ms/step\n",
            "Epoch 47/60\n",
            "16/16 - 0s - loss: 4.7883 - mae: 1.9763 - val_loss: 4.1202 - val_mae: 1.8518 - 64ms/epoch - 4ms/step\n",
            "Epoch 48/60\n",
            "16/16 - 0s - loss: 4.7875 - mae: 1.9761 - val_loss: 4.1194 - val_mae: 1.8516 - 64ms/epoch - 4ms/step\n",
            "Epoch 49/60\n",
            "16/16 - 0s - loss: 4.7867 - mae: 1.9759 - val_loss: 4.1187 - val_mae: 1.8514 - 48ms/epoch - 3ms/step\n",
            "Epoch 50/60\n",
            "16/16 - 0s - loss: 4.7859 - mae: 1.9757 - val_loss: 4.1180 - val_mae: 1.8513 - 51ms/epoch - 3ms/step\n",
            "Epoch 51/60\n",
            "16/16 - 0s - loss: 4.7852 - mae: 1.9756 - val_loss: 4.1173 - val_mae: 1.8511 - 59ms/epoch - 4ms/step\n",
            "Epoch 52/60\n",
            "16/16 - 0s - loss: 4.7845 - mae: 1.9754 - val_loss: 4.1167 - val_mae: 1.8509 - 51ms/epoch - 3ms/step\n",
            "Epoch 53/60\n",
            "16/16 - 0s - loss: 4.7838 - mae: 1.9752 - val_loss: 4.1161 - val_mae: 1.8507 - 68ms/epoch - 4ms/step\n",
            "Epoch 54/60\n",
            "16/16 - 0s - loss: 4.7832 - mae: 1.9751 - val_loss: 4.1155 - val_mae: 1.8506 - 52ms/epoch - 3ms/step\n",
            "Epoch 55/60\n",
            "16/16 - 0s - loss: 4.7826 - mae: 1.9749 - val_loss: 4.1149 - val_mae: 1.8504 - 66ms/epoch - 4ms/step\n",
            "Epoch 56/60\n",
            "16/16 - 0s - loss: 4.7820 - mae: 1.9748 - val_loss: 4.1144 - val_mae: 1.8503 - 80ms/epoch - 5ms/step\n",
            "Epoch 57/60\n",
            "16/16 - 0s - loss: 4.7814 - mae: 1.9746 - val_loss: 4.1139 - val_mae: 1.8502 - 69ms/epoch - 4ms/step\n",
            "Epoch 58/60\n",
            "16/16 - 0s - loss: 4.7809 - mae: 1.9745 - val_loss: 4.1134 - val_mae: 1.8500 - 58ms/epoch - 4ms/step\n",
            "Epoch 59/60\n",
            "16/16 - 0s - loss: 4.7804 - mae: 1.9744 - val_loss: 4.1129 - val_mae: 1.8499 - 62ms/epoch - 4ms/step\n",
            "Epoch 60/60\n",
            "16/16 - 0s - loss: 4.7799 - mae: 1.9742 - val_loss: 4.1124 - val_mae: 1.8498 - 50ms/epoch - 3ms/step\n"
          ]
        },
        {
          "output_type": "display_data",
          "data": {
            "text/plain": [
              "<Figure size 640x480 with 1 Axes>"
            ],
            "image/png": "[encoded data removed]"
          },
          "metadata": {}
        }
      ]
    },
    {
      "cell_type": "code",
      "source": [
        "# Нейросеть-5, модель полносвязной нейронной сети для целевого параметра y, тренируем на нормализованных данных\n",
        "modelMF_5 = Sequential([\n",
        "    Dense(100,  input_dim=12, activation = 'sigmoid'),\n",
        "    Dropout(0.5),\n",
        "    LeakyReLU(alpha=1.0),\n",
        "    Dense(50, activation = 'sigmoid'),\n",
        "    Dropout(0.5),\n",
        "    LeakyReLU(alpha=1.0),\n",
        "    Dense(25, activation = 'sigmoid'),\n",
        "    Dense(1, activation = 'linear')\n",
        "])\n",
        "\n",
        "modelMF_5.compile(optimizer='adam', loss='mse', metrics=['mae'])\n",
        "modelMF_5.summary()\n",
        "history = modelMF_5.fit(X_train,y_train, \n",
        "                    epochs=150, \n",
        "                    validation_split=0.3, \n",
        "                    verbose=2)\n",
        "plt.plot(history.history['mae'], label = 'Точность train')\n",
        "plt.plot(history.history['val_mae'], label = 'Точность test')\n",
        "plt.xlabel = ('Epochs')\n",
        "plt.ylabel = ('mae')\n",
        "plt.legend()\n",
        "plt.show()"
      ],
      "metadata": {
        "colab": {
          "base_uri": "https://localhost:8080/",
          "height": 1000
        },
        "id": "joR0DtqmwDih",
        "outputId": "85b3fb7e-4750-4581-a8e6-37af1c7f66b6"
      },
      "execution_count": 155,
      "outputs": [
        {
          "output_type": "stream",
          "name": "stdout",
          "text": [
            "Model: \"sequential_102\"\n",
            "_________________________________________________________________\n",
            " Layer (type)                Output Shape              Param #   \n",
            "=================================================================\n",
            " dense_383 (Dense)           (None, 100)               1300      \n",
            "                                                                 \n",
            " dropout_115 (Dropout)       (None, 100)               0         \n",
            "                                                                 \n",
            " leaky_re_lu_56 (LeakyReLU)  (None, 100)               0         \n",
            "                                                                 \n",
            " dense_384 (Dense)           (None, 50)                5050      \n",
            "                                                                 \n",
            " dropout_116 (Dropout)       (None, 50)                0         \n",
            "                                                                 \n",
            " leaky_re_lu_57 (LeakyReLU)  (None, 50)                0         \n",
            "                                                                 \n",
            " dense_385 (Dense)           (None, 25)                1275      \n",
            "                                                                 \n",
            " dense_386 (Dense)           (None, 1)                 26        \n",
            "                                                                 \n",
            "=================================================================\n",
            "Total params: 7,651\n",
            "Trainable params: 7,651\n",
            "Non-trainable params: 0\n",
            "_________________________________________________________________\n",
            "Epoch 1/150\n",
            "16/16 - 1s - loss: 1.9462 - mae: 1.1330 - val_loss: 0.7606 - val_mae: 0.6772 - 1s/epoch - 89ms/step\n",
            "Epoch 2/150\n",
            "16/16 - 0s - loss: 1.0094 - mae: 0.8062 - val_loss: 0.8230 - val_mae: 0.7338 - 58ms/epoch - 4ms/step\n",
            "Epoch 3/150\n",
            "16/16 - 0s - loss: 0.9640 - mae: 0.7952 - val_loss: 0.8082 - val_mae: 0.7257 - 72ms/epoch - 4ms/step\n",
            "Epoch 4/150\n",
            "16/16 - 0s - loss: 0.9980 - mae: 0.8188 - val_loss: 0.7441 - val_mae: 0.6880 - 73ms/epoch - 5ms/step\n",
            "Epoch 5/150\n",
            "16/16 - 0s - loss: 0.9351 - mae: 0.7808 - val_loss: 0.7322 - val_mae: 0.6799 - 67ms/epoch - 4ms/step\n",
            "Epoch 6/150\n",
            "16/16 - 0s - loss: 0.9808 - mae: 0.7993 - val_loss: 0.7584 - val_mae: 0.6968 - 73ms/epoch - 5ms/step\n",
            "Epoch 7/150\n",
            "16/16 - 0s - loss: 0.9490 - mae: 0.7807 - val_loss: 0.7324 - val_mae: 0.6801 - 77ms/epoch - 5ms/step\n",
            "Epoch 8/150\n",
            "16/16 - 0s - loss: 0.9439 - mae: 0.7816 - val_loss: 0.7394 - val_mae: 0.6848 - 70ms/epoch - 4ms/step\n",
            "Epoch 9/150\n",
            "16/16 - 0s - loss: 0.9445 - mae: 0.7853 - val_loss: 0.7572 - val_mae: 0.6961 - 82ms/epoch - 5ms/step\n",
            "Epoch 10/150\n",
            "16/16 - 0s - loss: 0.9547 - mae: 0.7944 - val_loss: 0.7425 - val_mae: 0.6869 - 71ms/epoch - 4ms/step\n",
            "Epoch 11/150\n",
            "16/16 - 0s - loss: 0.9528 - mae: 0.7880 - val_loss: 0.7380 - val_mae: 0.6839 - 73ms/epoch - 5ms/step\n",
            "Epoch 12/150\n",
            "16/16 - 0s - loss: 0.9357 - mae: 0.7868 - val_loss: 0.7413 - val_mae: 0.6861 - 83ms/epoch - 5ms/step\n",
            "Epoch 13/150\n",
            "16/16 - 0s - loss: 0.9296 - mae: 0.7771 - val_loss: 0.7362 - val_mae: 0.6827 - 59ms/epoch - 4ms/step\n",
            "Epoch 14/150\n",
            "16/16 - 0s - loss: 0.9424 - mae: 0.7858 - val_loss: 0.7604 - val_mae: 0.6980 - 56ms/epoch - 3ms/step\n",
            "Epoch 15/150\n",
            "16/16 - 0s - loss: 0.9571 - mae: 0.7865 - val_loss: 0.7438 - val_mae: 0.6878 - 80ms/epoch - 5ms/step\n",
            "Epoch 16/150\n",
            "16/16 - 0s - loss: 0.9371 - mae: 0.7772 - val_loss: 0.7254 - val_mae: 0.6755 - 76ms/epoch - 5ms/step\n",
            "Epoch 17/150\n",
            "16/16 - 0s - loss: 0.9350 - mae: 0.7775 - val_loss: 0.7408 - val_mae: 0.6858 - 92ms/epoch - 6ms/step\n",
            "Epoch 18/150\n",
            "16/16 - 0s - loss: 0.9559 - mae: 0.7957 - val_loss: 0.7522 - val_mae: 0.6931 - 67ms/epoch - 4ms/step\n",
            "Epoch 19/150\n",
            "16/16 - 0s - loss: 0.9306 - mae: 0.7804 - val_loss: 0.7367 - val_mae: 0.6830 - 75ms/epoch - 5ms/step\n",
            "Epoch 20/150\n",
            "16/16 - 0s - loss: 0.9404 - mae: 0.7856 - val_loss: 0.7312 - val_mae: 0.6793 - 66ms/epoch - 4ms/step\n",
            "Epoch 21/150\n",
            "16/16 - 0s - loss: 0.9603 - mae: 0.7933 - val_loss: 0.7455 - val_mae: 0.6889 - 73ms/epoch - 5ms/step\n",
            "Epoch 22/150\n",
            "16/16 - 0s - loss: 0.9239 - mae: 0.7738 - val_loss: 0.7443 - val_mae: 0.6881 - 61ms/epoch - 4ms/step\n",
            "Epoch 23/150\n",
            "16/16 - 0s - loss: 0.9399 - mae: 0.7854 - val_loss: 0.7384 - val_mae: 0.6842 - 75ms/epoch - 5ms/step\n",
            "Epoch 24/150\n",
            "16/16 - 0s - loss: 0.9095 - mae: 0.7711 - val_loss: 0.7390 - val_mae: 0.6846 - 84ms/epoch - 5ms/step\n",
            "Epoch 25/150\n",
            "16/16 - 0s - loss: 0.9474 - mae: 0.7822 - val_loss: 0.7414 - val_mae: 0.6862 - 54ms/epoch - 3ms/step\n",
            "Epoch 26/150\n",
            "16/16 - 0s - loss: 0.9407 - mae: 0.7830 - val_loss: 0.7300 - val_mae: 0.6785 - 74ms/epoch - 5ms/step\n",
            "Epoch 27/150\n",
            "16/16 - 0s - loss: 0.9448 - mae: 0.7839 - val_loss: 0.7439 - val_mae: 0.6879 - 60ms/epoch - 4ms/step\n",
            "Epoch 28/150\n",
            "16/16 - 0s - loss: 0.9182 - mae: 0.7692 - val_loss: 0.7310 - val_mae: 0.6792 - 59ms/epoch - 4ms/step\n",
            "Epoch 29/150\n",
            "16/16 - 0s - loss: 0.9408 - mae: 0.7866 - val_loss: 0.7389 - val_mae: 0.6845 - 68ms/epoch - 4ms/step\n",
            "Epoch 30/150\n",
            "16/16 - 0s - loss: 0.9410 - mae: 0.7813 - val_loss: 0.7218 - val_mae: 0.6729 - 71ms/epoch - 4ms/step\n",
            "Epoch 31/150\n",
            "16/16 - 0s - loss: 0.9295 - mae: 0.7811 - val_loss: 0.7393 - val_mae: 0.6848 - 61ms/epoch - 4ms/step\n",
            "Epoch 32/150\n",
            "16/16 - 0s - loss: 0.9068 - mae: 0.7740 - val_loss: 0.7273 - val_mae: 0.6768 - 83ms/epoch - 5ms/step\n",
            "Epoch 33/150\n",
            "16/16 - 0s - loss: 0.9421 - mae: 0.7883 - val_loss: 0.7398 - val_mae: 0.6851 - 71ms/epoch - 4ms/step\n",
            "Epoch 34/150\n",
            "16/16 - 0s - loss: 0.9303 - mae: 0.7773 - val_loss: 0.7246 - val_mae: 0.6749 - 77ms/epoch - 5ms/step\n",
            "Epoch 35/150\n",
            "16/16 - 0s - loss: 0.9287 - mae: 0.7831 - val_loss: 0.7551 - val_mae: 0.6949 - 75ms/epoch - 5ms/step\n",
            "Epoch 36/150\n",
            "16/16 - 0s - loss: 0.9208 - mae: 0.7766 - val_loss: 0.7241 - val_mae: 0.6746 - 80ms/epoch - 5ms/step\n",
            "Epoch 37/150\n",
            "16/16 - 0s - loss: 0.9119 - mae: 0.7734 - val_loss: 0.7400 - val_mae: 0.6852 - 75ms/epoch - 5ms/step\n",
            "Epoch 38/150\n",
            "16/16 - 0s - loss: 0.9181 - mae: 0.7771 - val_loss: 0.7377 - val_mae: 0.6837 - 63ms/epoch - 4ms/step\n",
            "Epoch 39/150\n",
            "16/16 - 0s - loss: 0.9251 - mae: 0.7741 - val_loss: 0.7340 - val_mae: 0.6812 - 79ms/epoch - 5ms/step\n",
            "Epoch 40/150\n",
            "16/16 - 0s - loss: 0.9127 - mae: 0.7719 - val_loss: 0.7283 - val_mae: 0.6774 - 69ms/epoch - 4ms/step\n",
            "Epoch 41/150\n",
            "16/16 - 0s - loss: 0.9184 - mae: 0.7744 - val_loss: 0.7356 - val_mae: 0.6822 - 75ms/epoch - 5ms/step\n",
            "Epoch 42/150\n",
            "16/16 - 0s - loss: 0.9200 - mae: 0.7809 - val_loss: 0.7342 - val_mae: 0.6813 - 60ms/epoch - 4ms/step\n",
            "Epoch 43/150\n",
            "16/16 - 0s - loss: 0.9305 - mae: 0.7777 - val_loss: 0.7273 - val_mae: 0.6767 - 65ms/epoch - 4ms/step\n",
            "Epoch 44/150\n",
            "16/16 - 0s - loss: 0.9145 - mae: 0.7756 - val_loss: 0.7423 - val_mae: 0.6868 - 65ms/epoch - 4ms/step\n",
            "Epoch 45/150\n",
            "16/16 - 0s - loss: 0.9086 - mae: 0.7692 - val_loss: 0.7345 - val_mae: 0.6815 - 73ms/epoch - 5ms/step\n",
            "Epoch 46/150\n",
            "16/16 - 0s - loss: 0.9353 - mae: 0.7836 - val_loss: 0.7273 - val_mae: 0.6767 - 69ms/epoch - 4ms/step\n",
            "Epoch 47/150\n",
            "16/16 - 0s - loss: 0.9121 - mae: 0.7717 - val_loss: 0.7253 - val_mae: 0.6754 - 92ms/epoch - 6ms/step\n",
            "Epoch 48/150\n",
            "16/16 - 0s - loss: 0.9265 - mae: 0.7765 - val_loss: 0.7245 - val_mae: 0.6748 - 88ms/epoch - 5ms/step\n",
            "Epoch 49/150\n",
            "16/16 - 0s - loss: 0.9152 - mae: 0.7751 - val_loss: 0.7488 - val_mae: 0.6910 - 65ms/epoch - 4ms/step\n",
            "Epoch 50/150\n",
            "16/16 - 0s - loss: 0.9089 - mae: 0.7738 - val_loss: 0.7176 - val_mae: 0.6698 - 83ms/epoch - 5ms/step\n",
            "Epoch 51/150\n",
            "16/16 - 0s - loss: 0.9187 - mae: 0.7701 - val_loss: 0.7464 - val_mae: 0.6894 - 82ms/epoch - 5ms/step\n",
            "Epoch 52/150\n",
            "16/16 - 0s - loss: 0.9197 - mae: 0.7758 - val_loss: 0.7297 - val_mae: 0.6783 - 63ms/epoch - 4ms/step\n",
            "Epoch 53/150\n",
            "16/16 - 0s - loss: 0.9096 - mae: 0.7727 - val_loss: 0.7343 - val_mae: 0.6813 - 60ms/epoch - 4ms/step\n",
            "Epoch 54/150\n",
            "16/16 - 0s - loss: 0.9236 - mae: 0.7751 - val_loss: 0.7302 - val_mae: 0.6786 - 77ms/epoch - 5ms/step\n",
            "Epoch 55/150\n",
            "16/16 - 0s - loss: 0.9189 - mae: 0.7744 - val_loss: 0.7335 - val_mae: 0.6808 - 94ms/epoch - 6ms/step\n",
            "Epoch 56/150\n",
            "16/16 - 0s - loss: 0.9069 - mae: 0.7688 - val_loss: 0.7332 - val_mae: 0.6807 - 87ms/epoch - 5ms/step\n",
            "Epoch 57/150\n",
            "16/16 - 0s - loss: 0.9083 - mae: 0.7714 - val_loss: 0.7292 - val_mae: 0.6780 - 88ms/epoch - 5ms/step\n",
            "Epoch 58/150\n",
            "16/16 - 0s - loss: 0.9188 - mae: 0.7782 - val_loss: 0.7423 - val_mae: 0.6868 - 74ms/epoch - 5ms/step\n",
            "Epoch 59/150\n",
            "16/16 - 0s - loss: 0.9314 - mae: 0.7820 - val_loss: 0.7262 - val_mae: 0.6760 - 68ms/epoch - 4ms/step\n",
            "Epoch 60/150\n",
            "16/16 - 0s - loss: 0.9194 - mae: 0.7753 - val_loss: 0.7294 - val_mae: 0.6781 - 75ms/epoch - 5ms/step\n",
            "Epoch 61/150\n",
            "16/16 - 0s - loss: 0.9149 - mae: 0.7749 - val_loss: 0.7256 - val_mae: 0.6756 - 69ms/epoch - 4ms/step\n",
            "Epoch 62/150\n",
            "16/16 - 0s - loss: 0.9038 - mae: 0.7692 - val_loss: 0.7256 - val_mae: 0.6755 - 83ms/epoch - 5ms/step\n",
            "Epoch 63/150\n",
            "16/16 - 0s - loss: 0.9145 - mae: 0.7746 - val_loss: 0.7235 - val_mae: 0.6742 - 81ms/epoch - 5ms/step\n",
            "Epoch 64/150\n",
            "16/16 - 0s - loss: 0.9091 - mae: 0.7723 - val_loss: 0.7484 - val_mae: 0.6908 - 72ms/epoch - 5ms/step\n",
            "Epoch 65/150\n",
            "16/16 - 0s - loss: 0.9218 - mae: 0.7787 - val_loss: 0.7170 - val_mae: 0.6693 - 76ms/epoch - 5ms/step\n",
            "Epoch 66/150\n",
            "16/16 - 0s - loss: 0.9189 - mae: 0.7748 - val_loss: 0.7231 - val_mae: 0.6739 - 61ms/epoch - 4ms/step\n",
            "Epoch 67/150\n",
            "16/16 - 0s - loss: 0.9130 - mae: 0.7763 - val_loss: 0.7427 - val_mae: 0.6870 - 67ms/epoch - 4ms/step\n",
            "Epoch 68/150\n",
            "16/16 - 0s - loss: 0.9265 - mae: 0.7798 - val_loss: 0.7218 - val_mae: 0.6729 - 68ms/epoch - 4ms/step\n",
            "Epoch 69/150\n",
            "16/16 - 0s - loss: 0.9055 - mae: 0.7680 - val_loss: 0.7395 - val_mae: 0.6849 - 67ms/epoch - 4ms/step\n",
            "Epoch 70/150\n",
            "16/16 - 0s - loss: 0.9274 - mae: 0.7810 - val_loss: 0.7299 - val_mae: 0.6784 - 72ms/epoch - 4ms/step\n",
            "Epoch 71/150\n",
            "16/16 - 0s - loss: 0.9266 - mae: 0.7773 - val_loss: 0.7241 - val_mae: 0.6745 - 90ms/epoch - 6ms/step\n",
            "Epoch 72/150\n",
            "16/16 - 0s - loss: 0.9256 - mae: 0.7781 - val_loss: 0.7217 - val_mae: 0.6728 - 60ms/epoch - 4ms/step\n",
            "Epoch 73/150\n",
            "16/16 - 0s - loss: 0.9120 - mae: 0.7702 - val_loss: 0.7252 - val_mae: 0.6753 - 76ms/epoch - 5ms/step\n",
            "Epoch 74/150\n",
            "16/16 - 0s - loss: 0.9213 - mae: 0.7755 - val_loss: 0.7439 - val_mae: 0.6878 - 69ms/epoch - 4ms/step\n",
            "Epoch 75/150\n",
            "16/16 - 0s - loss: 0.9154 - mae: 0.7752 - val_loss: 0.7239 - val_mae: 0.6744 - 78ms/epoch - 5ms/step\n",
            "Epoch 76/150\n",
            "16/16 - 0s - loss: 0.9225 - mae: 0.7757 - val_loss: 0.7171 - val_mae: 0.6694 - 71ms/epoch - 4ms/step\n",
            "Epoch 77/150\n",
            "16/16 - 0s - loss: 0.9094 - mae: 0.7736 - val_loss: 0.7492 - val_mae: 0.6913 - 77ms/epoch - 5ms/step\n",
            "Epoch 78/150\n",
            "16/16 - 0s - loss: 0.9175 - mae: 0.7749 - val_loss: 0.7178 - val_mae: 0.6699 - 64ms/epoch - 4ms/step\n",
            "Epoch 79/150\n",
            "16/16 - 0s - loss: 0.9065 - mae: 0.7713 - val_loss: 0.7356 - val_mae: 0.6822 - 87ms/epoch - 5ms/step\n",
            "Epoch 80/150\n",
            "16/16 - 0s - loss: 0.9171 - mae: 0.7759 - val_loss: 0.7245 - val_mae: 0.6748 - 70ms/epoch - 4ms/step\n",
            "Epoch 81/150\n",
            "16/16 - 0s - loss: 0.9144 - mae: 0.7731 - val_loss: 0.7219 - val_mae: 0.6730 - 82ms/epoch - 5ms/step\n",
            "Epoch 82/150\n",
            "16/16 - 0s - loss: 0.9256 - mae: 0.7813 - val_loss: 0.7376 - val_mae: 0.6836 - 61ms/epoch - 4ms/step\n",
            "Epoch 83/150\n",
            "16/16 - 0s - loss: 0.9109 - mae: 0.7718 - val_loss: 0.7231 - val_mae: 0.6739 - 82ms/epoch - 5ms/step\n",
            "Epoch 84/150\n",
            "16/16 - 0s - loss: 0.9103 - mae: 0.7719 - val_loss: 0.7267 - val_mae: 0.6763 - 78ms/epoch - 5ms/step\n",
            "Epoch 85/150\n",
            "16/16 - 0s - loss: 0.9026 - mae: 0.7659 - val_loss: 0.7236 - val_mae: 0.6742 - 73ms/epoch - 5ms/step\n",
            "Epoch 86/150\n",
            "16/16 - 0s - loss: 0.9074 - mae: 0.7713 - val_loss: 0.7301 - val_mae: 0.6786 - 80ms/epoch - 5ms/step\n",
            "Epoch 87/150\n",
            "16/16 - 0s - loss: 0.9048 - mae: 0.7707 - val_loss: 0.7308 - val_mae: 0.6790 - 66ms/epoch - 4ms/step\n",
            "Epoch 88/150\n",
            "16/16 - 0s - loss: 0.9073 - mae: 0.7675 - val_loss: 0.7266 - val_mae: 0.6763 - 60ms/epoch - 4ms/step\n",
            "Epoch 89/150\n",
            "16/16 - 0s - loss: 0.9202 - mae: 0.7763 - val_loss: 0.7270 - val_mae: 0.6765 - 60ms/epoch - 4ms/step\n",
            "Epoch 90/150\n",
            "16/16 - 0s - loss: 0.9206 - mae: 0.7771 - val_loss: 0.7209 - val_mae: 0.6723 - 64ms/epoch - 4ms/step\n",
            "Epoch 91/150\n",
            "16/16 - 0s - loss: 0.9191 - mae: 0.7735 - val_loss: 0.7251 - val_mae: 0.6752 - 77ms/epoch - 5ms/step\n",
            "Epoch 92/150\n",
            "16/16 - 0s - loss: 0.9114 - mae: 0.7722 - val_loss: 0.7346 - val_mae: 0.6816 - 61ms/epoch - 4ms/step\n",
            "Epoch 93/150\n",
            "16/16 - 0s - loss: 0.9214 - mae: 0.7780 - val_loss: 0.7330 - val_mae: 0.6805 - 63ms/epoch - 4ms/step\n",
            "Epoch 94/150\n",
            "16/16 - 0s - loss: 0.9133 - mae: 0.7715 - val_loss: 0.7190 - val_mae: 0.6709 - 70ms/epoch - 4ms/step\n",
            "Epoch 95/150\n",
            "16/16 - 0s - loss: 0.9149 - mae: 0.7757 - val_loss: 0.7195 - val_mae: 0.6712 - 58ms/epoch - 4ms/step\n",
            "Epoch 96/150\n",
            "16/16 - 0s - loss: 0.9086 - mae: 0.7669 - val_loss: 0.7303 - val_mae: 0.6787 - 58ms/epoch - 4ms/step\n",
            "Epoch 97/150\n",
            "16/16 - 0s - loss: 0.9177 - mae: 0.7772 - val_loss: 0.7439 - val_mae: 0.6878 - 57ms/epoch - 4ms/step\n",
            "Epoch 98/150\n",
            "16/16 - 0s - loss: 0.9211 - mae: 0.7779 - val_loss: 0.7139 - val_mae: 0.6667 - 74ms/epoch - 5ms/step\n",
            "Epoch 99/150\n",
            "16/16 - 0s - loss: 0.9086 - mae: 0.7729 - val_loss: 0.7372 - val_mae: 0.6833 - 73ms/epoch - 5ms/step\n",
            "Epoch 100/150\n",
            "16/16 - 0s - loss: 0.9167 - mae: 0.7714 - val_loss: 0.7156 - val_mae: 0.6682 - 60ms/epoch - 4ms/step\n",
            "Epoch 101/150\n",
            "16/16 - 0s - loss: 0.9093 - mae: 0.7719 - val_loss: 0.7298 - val_mae: 0.6784 - 68ms/epoch - 4ms/step\n",
            "Epoch 102/150\n",
            "16/16 - 0s - loss: 0.9161 - mae: 0.7717 - val_loss: 0.7312 - val_mae: 0.6793 - 70ms/epoch - 4ms/step\n",
            "Epoch 103/150\n",
            "16/16 - 0s - loss: 0.9168 - mae: 0.7762 - val_loss: 0.7309 - val_mae: 0.6791 - 69ms/epoch - 4ms/step\n",
            "Epoch 104/150\n",
            "16/16 - 0s - loss: 0.9235 - mae: 0.7764 - val_loss: 0.7247 - val_mae: 0.6750 - 66ms/epoch - 4ms/step\n",
            "Epoch 105/150\n",
            "16/16 - 0s - loss: 0.9255 - mae: 0.7758 - val_loss: 0.7118 - val_mae: 0.6649 - 69ms/epoch - 4ms/step\n",
            "Epoch 106/150\n",
            "16/16 - 0s - loss: 0.9305 - mae: 0.7803 - val_loss: 0.7486 - val_mae: 0.6909 - 63ms/epoch - 4ms/step\n",
            "Epoch 107/150\n",
            "16/16 - 0s - loss: 0.9139 - mae: 0.7745 - val_loss: 0.7224 - val_mae: 0.6734 - 70ms/epoch - 4ms/step\n",
            "Epoch 108/150\n",
            "16/16 - 0s - loss: 0.9142 - mae: 0.7699 - val_loss: 0.7194 - val_mae: 0.6712 - 58ms/epoch - 4ms/step\n",
            "Epoch 109/150\n",
            "16/16 - 0s - loss: 0.9223 - mae: 0.7724 - val_loss: 0.7204 - val_mae: 0.6719 - 57ms/epoch - 4ms/step\n",
            "Epoch 110/150\n",
            "16/16 - 0s - loss: 0.9122 - mae: 0.7717 - val_loss: 0.7279 - val_mae: 0.6771 - 66ms/epoch - 4ms/step\n",
            "Epoch 111/150\n",
            "16/16 - 0s - loss: 0.9082 - mae: 0.7686 - val_loss: 0.7219 - val_mae: 0.6730 - 73ms/epoch - 5ms/step\n",
            "Epoch 112/150\n",
            "16/16 - 0s - loss: 0.9240 - mae: 0.7792 - val_loss: 0.7295 - val_mae: 0.6782 - 72ms/epoch - 5ms/step\n",
            "Epoch 113/150\n",
            "16/16 - 0s - loss: 0.9031 - mae: 0.7672 - val_loss: 0.7160 - val_mae: 0.6686 - 63ms/epoch - 4ms/step\n",
            "Epoch 114/150\n",
            "16/16 - 0s - loss: 0.9117 - mae: 0.7717 - val_loss: 0.7306 - val_mae: 0.6789 - 66ms/epoch - 4ms/step\n",
            "Epoch 115/150\n",
            "16/16 - 0s - loss: 0.9151 - mae: 0.7732 - val_loss: 0.7246 - val_mae: 0.6749 - 97ms/epoch - 6ms/step\n",
            "Epoch 116/150\n",
            "16/16 - 0s - loss: 0.9160 - mae: 0.7724 - val_loss: 0.7222 - val_mae: 0.6733 - 87ms/epoch - 5ms/step\n",
            "Epoch 117/150\n",
            "16/16 - 0s - loss: 0.9089 - mae: 0.7707 - val_loss: 0.7234 - val_mae: 0.6741 - 75ms/epoch - 5ms/step\n",
            "Epoch 118/150\n",
            "16/16 - 0s - loss: 0.9158 - mae: 0.7757 - val_loss: 0.7420 - val_mae: 0.6866 - 93ms/epoch - 6ms/step\n",
            "Epoch 119/150\n",
            "16/16 - 0s - loss: 0.9058 - mae: 0.7691 - val_loss: 0.7275 - val_mae: 0.6769 - 100ms/epoch - 6ms/step\n",
            "Epoch 120/150\n",
            "16/16 - 0s - loss: 0.9055 - mae: 0.7694 - val_loss: 0.7244 - val_mae: 0.6748 - 101ms/epoch - 6ms/step\n",
            "Epoch 121/150\n",
            "16/16 - 0s - loss: 0.9192 - mae: 0.7726 - val_loss: 0.7153 - val_mae: 0.6680 - 88ms/epoch - 6ms/step\n",
            "Epoch 122/150\n",
            "16/16 - 0s - loss: 0.9145 - mae: 0.7725 - val_loss: 0.7394 - val_mae: 0.6848 - 84ms/epoch - 5ms/step\n",
            "Epoch 123/150\n",
            "16/16 - 0s - loss: 0.9101 - mae: 0.7734 - val_loss: 0.7253 - val_mae: 0.6754 - 87ms/epoch - 5ms/step\n",
            "Epoch 124/150\n",
            "16/16 - 0s - loss: 0.9074 - mae: 0.7695 - val_loss: 0.7206 - val_mae: 0.6721 - 89ms/epoch - 6ms/step\n",
            "Epoch 125/150\n",
            "16/16 - 0s - loss: 0.9142 - mae: 0.7741 - val_loss: 0.7247 - val_mae: 0.6750 - 110ms/epoch - 7ms/step\n",
            "Epoch 126/150\n",
            "16/16 - 0s - loss: 0.9150 - mae: 0.7725 - val_loss: 0.7241 - val_mae: 0.6746 - 94ms/epoch - 6ms/step\n",
            "Epoch 127/150\n",
            "16/16 - 0s - loss: 0.9147 - mae: 0.7718 - val_loss: 0.7421 - val_mae: 0.6867 - 76ms/epoch - 5ms/step\n",
            "Epoch 128/150\n",
            "16/16 - 0s - loss: 0.9174 - mae: 0.7772 - val_loss: 0.7185 - val_mae: 0.6706 - 81ms/epoch - 5ms/step\n",
            "Epoch 129/150\n",
            "16/16 - 0s - loss: 0.9165 - mae: 0.7729 - val_loss: 0.7345 - val_mae: 0.6815 - 113ms/epoch - 7ms/step\n",
            "Epoch 130/150\n",
            "16/16 - 0s - loss: 0.9092 - mae: 0.7716 - val_loss: 0.7336 - val_mae: 0.6809 - 98ms/epoch - 6ms/step\n",
            "Epoch 131/150\n",
            "16/16 - 0s - loss: 0.9099 - mae: 0.7707 - val_loss: 0.7282 - val_mae: 0.6774 - 94ms/epoch - 6ms/step\n",
            "Epoch 132/150\n",
            "16/16 - 0s - loss: 0.9177 - mae: 0.7760 - val_loss: 0.7261 - val_mae: 0.6760 - 104ms/epoch - 7ms/step\n",
            "Epoch 133/150\n",
            "16/16 - 0s - loss: 0.9043 - mae: 0.7705 - val_loss: 0.7222 - val_mae: 0.6733 - 95ms/epoch - 6ms/step\n",
            "Epoch 134/150\n",
            "16/16 - 0s - loss: 0.9104 - mae: 0.7708 - val_loss: 0.7285 - val_mae: 0.6776 - 92ms/epoch - 6ms/step\n",
            "Epoch 135/150\n",
            "16/16 - 0s - loss: 0.9052 - mae: 0.7672 - val_loss: 0.7234 - val_mae: 0.6742 - 110ms/epoch - 7ms/step\n",
            "Epoch 136/150\n",
            "16/16 - 0s - loss: 0.9139 - mae: 0.7762 - val_loss: 0.7375 - val_mae: 0.6835 - 77ms/epoch - 5ms/step\n",
            "Epoch 137/150\n",
            "16/16 - 0s - loss: 0.9122 - mae: 0.7726 - val_loss: 0.7206 - val_mae: 0.6721 - 87ms/epoch - 5ms/step\n",
            "Epoch 138/150\n",
            "16/16 - 0s - loss: 0.9133 - mae: 0.7728 - val_loss: 0.7283 - val_mae: 0.6774 - 74ms/epoch - 5ms/step\n",
            "Epoch 139/150\n",
            "16/16 - 0s - loss: 0.9092 - mae: 0.7704 - val_loss: 0.7224 - val_mae: 0.6734 - 89ms/epoch - 6ms/step\n",
            "Epoch 140/150\n",
            "16/16 - 0s - loss: 0.9097 - mae: 0.7706 - val_loss: 0.7236 - val_mae: 0.6743 - 93ms/epoch - 6ms/step\n",
            "Epoch 141/150\n",
            "16/16 - 0s - loss: 0.9089 - mae: 0.7699 - val_loss: 0.7263 - val_mae: 0.6761 - 106ms/epoch - 7ms/step\n",
            "Epoch 142/150\n",
            "16/16 - 0s - loss: 0.9115 - mae: 0.7708 - val_loss: 0.7141 - val_mae: 0.6671 - 93ms/epoch - 6ms/step\n",
            "Epoch 143/150\n",
            "16/16 - 0s - loss: 0.9198 - mae: 0.7765 - val_loss: 0.7247 - val_mae: 0.6750 - 85ms/epoch - 5ms/step\n",
            "Epoch 144/150\n",
            "16/16 - 0s - loss: 0.9168 - mae: 0.7735 - val_loss: 0.7276 - val_mae: 0.6769 - 96ms/epoch - 6ms/step\n",
            "Epoch 145/150\n",
            "16/16 - 0s - loss: 0.9077 - mae: 0.7708 - val_loss: 0.7312 - val_mae: 0.6793 - 97ms/epoch - 6ms/step\n",
            "Epoch 146/150\n",
            "16/16 - 0s - loss: 0.9188 - mae: 0.7740 - val_loss: 0.7165 - val_mae: 0.6690 - 60ms/epoch - 4ms/step\n",
            "Epoch 147/150\n",
            "16/16 - 0s - loss: 0.9138 - mae: 0.7689 - val_loss: 0.7320 - val_mae: 0.6799 - 75ms/epoch - 5ms/step\n",
            "Epoch 148/150\n",
            "16/16 - 0s - loss: 0.9084 - mae: 0.7724 - val_loss: 0.7243 - val_mae: 0.6747 - 74ms/epoch - 5ms/step\n",
            "Epoch 149/150\n",
            "16/16 - 0s - loss: 0.9161 - mae: 0.7745 - val_loss: 0.7112 - val_mae: 0.6644 - 65ms/epoch - 4ms/step\n",
            "Epoch 150/150\n",
            "16/16 - 0s - loss: 0.9128 - mae: 0.7729 - val_loss: 0.7374 - val_mae: 0.6835 - 73ms/epoch - 5ms/step\n"
          ]
        },
        {
          "output_type": "display_data",
          "data": {
            "text/plain": [
              "<Figure size 640x480 with 1 Axes>"
            ],
            "image/png": "[encoded data removed]"
          },
          "metadata": {}
        }
      ]
    },
    {
      "cell_type": "code",
      "source": [
        "# Нейросеть 6\n",
        "modelMF_6 = tf.keras.models.Sequential([\n",
        "    keras.layers.Dense(10, input_dim=12, activation='sigmoid'),\n",
        "    keras.layers.LeakyReLU(alpha=1.0),\n",
        "    keras.layers.Dense(10, activation='sigmoid'),\n",
        "    keras.layers.LeakyReLU(alpha=1.0),\n",
        "    keras.layers.Dense(10, activation='softmax')\n",
        "])\n",
        "\n",
        "modelMF_6.add(Dense(1, activation='linear'))\n",
        "modelMF_6.compile(optimizer='adam', loss='mse', metrics=['mae'])\n",
        "\n",
        "modelMF_6.summary()\n",
        "history = modelMF_6.fit(X_train,y_train, \n",
        "                    epochs=100, \n",
        "                    validation_split=0.3, \n",
        "                    verbose=2) \n",
        "plt.plot(history.history['mae'], label = 'Точность train')\n",
        "plt.plot(history.history['val_mae'], label = 'Точность test')\n",
        "plt.xlabel = ('Epochs')\n",
        "plt.ylabel = ('mae')\n",
        "plt.legend()\n",
        "plt.show()"
      ],
      "metadata": {
        "colab": {
          "base_uri": "https://localhost:8080/",
          "height": 1000
        },
        "id": "64JXXYsuwTwH",
        "outputId": "2dd7d964-a1dd-46c2-ffad-54c3b6ea69d9"
      },
      "execution_count": 231,
      "outputs": [
        {
          "output_type": "stream",
          "name": "stdout",
          "text": [
            "Model: \"sequential_121\"\n",
            "_________________________________________________________________\n",
            " Layer (type)                Output Shape              Param #   \n",
            "=================================================================\n",
            " dense_458 (Dense)           (None, 10)                130       \n",
            "                                                                 \n",
            " leaky_re_lu_89 (LeakyReLU)  (None, 10)                0         \n",
            "                                                                 \n",
            " dense_459 (Dense)           (None, 10)                110       \n",
            "                                                                 \n",
            " leaky_re_lu_90 (LeakyReLU)  (None, 10)                0         \n",
            "                                                                 \n",
            " dense_460 (Dense)           (None, 10)                110       \n",
            "                                                                 \n",
            " dense_461 (Dense)           (None, 1)                 11        \n",
            "                                                                 \n",
            "=================================================================\n",
            "Total params: 361\n",
            "Trainable params: 361\n",
            "Non-trainable params: 0\n",
            "_________________________________________________________________\n",
            "Epoch 1/100\n",
            "16/16 - 1s - loss: 8.9555 - mae: 2.8364 - val_loss: 7.9166 - val_mae: 2.6852 - 861ms/epoch - 54ms/step\n",
            "Epoch 2/100\n",
            "16/16 - 0s - loss: 8.6546 - mae: 2.7836 - val_loss: 7.6369 - val_mae: 2.6326 - 69ms/epoch - 4ms/step\n",
            "Epoch 3/100\n",
            "16/16 - 0s - loss: 8.3679 - mae: 2.7310 - val_loss: 7.3653 - val_mae: 2.5805 - 70ms/epoch - 4ms/step\n",
            "Epoch 4/100\n",
            "16/16 - 0s - loss: 8.0896 - mae: 2.6795 - val_loss: 7.1041 - val_mae: 2.5294 - 55ms/epoch - 3ms/step\n",
            "Epoch 5/100\n",
            "16/16 - 0s - loss: 7.8165 - mae: 2.6282 - val_loss: 6.8450 - val_mae: 2.4776 - 72ms/epoch - 5ms/step\n",
            "Epoch 6/100\n",
            "16/16 - 0s - loss: 7.5427 - mae: 2.5756 - val_loss: 6.5804 - val_mae: 2.4237 - 58ms/epoch - 4ms/step\n",
            "Epoch 7/100\n",
            "16/16 - 0s - loss: 7.2600 - mae: 2.5208 - val_loss: 6.3099 - val_mae: 2.3672 - 74ms/epoch - 5ms/step\n",
            "Epoch 8/100\n",
            "16/16 - 0s - loss: 6.9720 - mae: 2.4625 - val_loss: 6.0248 - val_mae: 2.3062 - 70ms/epoch - 4ms/step\n",
            "Epoch 9/100\n",
            "16/16 - 0s - loss: 6.6693 - mae: 2.4006 - val_loss: 5.7348 - val_mae: 2.2429 - 71ms/epoch - 4ms/step\n",
            "Epoch 10/100\n",
            "16/16 - 0s - loss: 6.3608 - mae: 2.3362 - val_loss: 5.4421 - val_mae: 2.1773 - 69ms/epoch - 4ms/step\n",
            "Epoch 11/100\n",
            "16/16 - 0s - loss: 6.0505 - mae: 2.2699 - val_loss: 5.1532 - val_mae: 2.1105 - 54ms/epoch - 3ms/step\n",
            "Epoch 12/100\n",
            "16/16 - 0s - loss: 5.7514 - mae: 2.2030 - val_loss: 4.8738 - val_mae: 2.0438 - 58ms/epoch - 4ms/step\n",
            "Epoch 13/100\n",
            "16/16 - 0s - loss: 5.4640 - mae: 2.1376 - val_loss: 4.6140 - val_mae: 1.9797 - 55ms/epoch - 3ms/step\n",
            "Epoch 14/100\n",
            "16/16 - 0s - loss: 5.1951 - mae: 2.0742 - val_loss: 4.3637 - val_mae: 1.9160 - 67ms/epoch - 4ms/step\n",
            "Epoch 15/100\n",
            "16/16 - 0s - loss: 4.9307 - mae: 2.0114 - val_loss: 4.1216 - val_mae: 1.8522 - 51ms/epoch - 3ms/step\n",
            "Epoch 16/100\n",
            "16/16 - 0s - loss: 4.6744 - mae: 1.9480 - val_loss: 3.8854 - val_mae: 1.7886 - 67ms/epoch - 4ms/step\n",
            "Epoch 17/100\n",
            "16/16 - 0s - loss: 4.4261 - mae: 1.8857 - val_loss: 3.6567 - val_mae: 1.7261 - 73ms/epoch - 5ms/step\n",
            "Epoch 18/100\n",
            "16/16 - 0s - loss: 4.1875 - mae: 1.8233 - val_loss: 3.4428 - val_mae: 1.6659 - 70ms/epoch - 4ms/step\n",
            "Epoch 19/100\n",
            "16/16 - 0s - loss: 3.9678 - mae: 1.7647 - val_loss: 3.2469 - val_mae: 1.6090 - 69ms/epoch - 4ms/step\n",
            "Epoch 20/100\n",
            "16/16 - 0s - loss: 3.7678 - mae: 1.7102 - val_loss: 3.0726 - val_mae: 1.5567 - 66ms/epoch - 4ms/step\n",
            "Epoch 21/100\n",
            "16/16 - 0s - loss: 3.5882 - mae: 1.6610 - val_loss: 2.9175 - val_mae: 1.5094 - 69ms/epoch - 4ms/step\n",
            "Epoch 22/100\n",
            "16/16 - 0s - loss: 3.4274 - mae: 1.6146 - val_loss: 2.7768 - val_mae: 1.4649 - 52ms/epoch - 3ms/step\n",
            "Epoch 23/100\n",
            "16/16 - 0s - loss: 3.2817 - mae: 1.5727 - val_loss: 2.6514 - val_mae: 1.4241 - 62ms/epoch - 4ms/step\n",
            "Epoch 24/100\n",
            "16/16 - 0s - loss: 3.1516 - mae: 1.5345 - val_loss: 2.5360 - val_mae: 1.3856 - 76ms/epoch - 5ms/step\n",
            "Epoch 25/100\n",
            "16/16 - 0s - loss: 3.0297 - mae: 1.4972 - val_loss: 2.4301 - val_mae: 1.3502 - 68ms/epoch - 4ms/step\n",
            "Epoch 26/100\n",
            "16/16 - 0s - loss: 2.9184 - mae: 1.4633 - val_loss: 2.3332 - val_mae: 1.3174 - 52ms/epoch - 3ms/step\n",
            "Epoch 27/100\n",
            "16/16 - 0s - loss: 2.8156 - mae: 1.4311 - val_loss: 2.2411 - val_mae: 1.2856 - 53ms/epoch - 3ms/step\n",
            "Epoch 28/100\n",
            "16/16 - 0s - loss: 2.7184 - mae: 1.4010 - val_loss: 2.1570 - val_mae: 1.2559 - 54ms/epoch - 3ms/step\n",
            "Epoch 29/100\n",
            "16/16 - 0s - loss: 2.6279 - mae: 1.3725 - val_loss: 2.0780 - val_mae: 1.2274 - 59ms/epoch - 4ms/step\n",
            "Epoch 30/100\n",
            "16/16 - 0s - loss: 2.5433 - mae: 1.3453 - val_loss: 2.0030 - val_mae: 1.2000 - 52ms/epoch - 3ms/step\n",
            "Epoch 31/100\n",
            "16/16 - 0s - loss: 2.4632 - mae: 1.3195 - val_loss: 1.9339 - val_mae: 1.1748 - 70ms/epoch - 4ms/step\n",
            "Epoch 32/100\n",
            "16/16 - 0s - loss: 2.3895 - mae: 1.2944 - val_loss: 1.8679 - val_mae: 1.1506 - 77ms/epoch - 5ms/step\n",
            "Epoch 33/100\n",
            "16/16 - 0s - loss: 2.3177 - mae: 1.2710 - val_loss: 1.8063 - val_mae: 1.1280 - 61ms/epoch - 4ms/step\n",
            "Epoch 34/100\n",
            "16/16 - 0s - loss: 2.2514 - mae: 1.2489 - val_loss: 1.7477 - val_mae: 1.1064 - 64ms/epoch - 4ms/step\n",
            "Epoch 35/100\n",
            "16/16 - 0s - loss: 2.1871 - mae: 1.2278 - val_loss: 1.6934 - val_mae: 1.0863 - 70ms/epoch - 4ms/step\n",
            "Epoch 36/100\n",
            "16/16 - 0s - loss: 2.1262 - mae: 1.2068 - val_loss: 1.6405 - val_mae: 1.0663 - 66ms/epoch - 4ms/step\n",
            "Epoch 37/100\n",
            "16/16 - 0s - loss: 2.0681 - mae: 1.1879 - val_loss: 1.5901 - val_mae: 1.0472 - 55ms/epoch - 3ms/step\n",
            "Epoch 38/100\n",
            "16/16 - 0s - loss: 2.0128 - mae: 1.1689 - val_loss: 1.5420 - val_mae: 1.0283 - 54ms/epoch - 3ms/step\n",
            "Epoch 39/100\n",
            "16/16 - 0s - loss: 1.9582 - mae: 1.1501 - val_loss: 1.4955 - val_mae: 1.0098 - 67ms/epoch - 4ms/step\n",
            "Epoch 40/100\n",
            "16/16 - 0s - loss: 1.9069 - mae: 1.1318 - val_loss: 1.4515 - val_mae: 0.9918 - 67ms/epoch - 4ms/step\n",
            "Epoch 41/100\n",
            "16/16 - 0s - loss: 1.8575 - mae: 1.1149 - val_loss: 1.4096 - val_mae: 0.9742 - 52ms/epoch - 3ms/step\n",
            "Epoch 42/100\n",
            "16/16 - 0s - loss: 1.8110 - mae: 1.0978 - val_loss: 1.3694 - val_mae: 0.9574 - 64ms/epoch - 4ms/step\n",
            "Epoch 43/100\n",
            "16/16 - 0s - loss: 1.7666 - mae: 1.0824 - val_loss: 1.3322 - val_mae: 0.9418 - 53ms/epoch - 3ms/step\n",
            "Epoch 44/100\n",
            "16/16 - 0s - loss: 1.7236 - mae: 1.0672 - val_loss: 1.2964 - val_mae: 0.9269 - 71ms/epoch - 4ms/step\n",
            "Epoch 45/100\n",
            "16/16 - 0s - loss: 1.6832 - mae: 1.0527 - val_loss: 1.2616 - val_mae: 0.9122 - 61ms/epoch - 4ms/step\n",
            "Epoch 46/100\n",
            "16/16 - 0s - loss: 1.6437 - mae: 1.0384 - val_loss: 1.2295 - val_mae: 0.8984 - 64ms/epoch - 4ms/step\n",
            "Epoch 47/100\n",
            "16/16 - 0s - loss: 1.6066 - mae: 1.0246 - val_loss: 1.1976 - val_mae: 0.8849 - 83ms/epoch - 5ms/step\n",
            "Epoch 48/100\n",
            "16/16 - 0s - loss: 1.5707 - mae: 1.0110 - val_loss: 1.1678 - val_mae: 0.8723 - 54ms/epoch - 3ms/step\n",
            "Epoch 49/100\n",
            "16/16 - 0s - loss: 1.5358 - mae: 0.9985 - val_loss: 1.1403 - val_mae: 0.8610 - 51ms/epoch - 3ms/step\n",
            "Epoch 50/100\n",
            "16/16 - 0s - loss: 1.5040 - mae: 0.9870 - val_loss: 1.1141 - val_mae: 0.8500 - 52ms/epoch - 3ms/step\n",
            "Epoch 51/100\n",
            "16/16 - 0s - loss: 1.4730 - mae: 0.9760 - val_loss: 1.0882 - val_mae: 0.8391 - 75ms/epoch - 5ms/step\n",
            "Epoch 52/100\n",
            "16/16 - 0s - loss: 1.4435 - mae: 0.9653 - val_loss: 1.0643 - val_mae: 0.8287 - 60ms/epoch - 4ms/step\n",
            "Epoch 53/100\n",
            "16/16 - 0s - loss: 1.4148 - mae: 0.9549 - val_loss: 1.0413 - val_mae: 0.8185 - 52ms/epoch - 3ms/step\n",
            "Epoch 54/100\n",
            "16/16 - 0s - loss: 1.3879 - mae: 0.9451 - val_loss: 1.0199 - val_mae: 0.8091 - 66ms/epoch - 4ms/step\n",
            "Epoch 55/100\n",
            "16/16 - 0s - loss: 1.3620 - mae: 0.9356 - val_loss: 0.9996 - val_mae: 0.8000 - 48ms/epoch - 3ms/step\n",
            "Epoch 56/100\n",
            "16/16 - 0s - loss: 1.3372 - mae: 0.9264 - val_loss: 0.9798 - val_mae: 0.7909 - 62ms/epoch - 4ms/step\n",
            "Epoch 57/100\n",
            "16/16 - 0s - loss: 1.3138 - mae: 0.9181 - val_loss: 0.9605 - val_mae: 0.7817 - 56ms/epoch - 3ms/step\n",
            "Epoch 58/100\n",
            "16/16 - 0s - loss: 1.2907 - mae: 0.9096 - val_loss: 0.9427 - val_mae: 0.7730 - 65ms/epoch - 4ms/step\n",
            "Epoch 59/100\n",
            "16/16 - 0s - loss: 1.2693 - mae: 0.9015 - val_loss: 0.9260 - val_mae: 0.7646 - 66ms/epoch - 4ms/step\n",
            "Epoch 60/100\n",
            "16/16 - 0s - loss: 1.2492 - mae: 0.8947 - val_loss: 0.9108 - val_mae: 0.7569 - 74ms/epoch - 5ms/step\n",
            "Epoch 61/100\n",
            "16/16 - 0s - loss: 1.2304 - mae: 0.8876 - val_loss: 0.8970 - val_mae: 0.7497 - 76ms/epoch - 5ms/step\n",
            "Epoch 62/100\n",
            "16/16 - 0s - loss: 1.2128 - mae: 0.8816 - val_loss: 0.8832 - val_mae: 0.7424 - 78ms/epoch - 5ms/step\n",
            "Epoch 63/100\n",
            "16/16 - 0s - loss: 1.1951 - mae: 0.8749 - val_loss: 0.8709 - val_mae: 0.7359 - 58ms/epoch - 4ms/step\n",
            "Epoch 64/100\n",
            "16/16 - 0s - loss: 1.1798 - mae: 0.8693 - val_loss: 0.8578 - val_mae: 0.7289 - 68ms/epoch - 4ms/step\n",
            "Epoch 65/100\n",
            "16/16 - 0s - loss: 1.1629 - mae: 0.8630 - val_loss: 0.8464 - val_mae: 0.7226 - 74ms/epoch - 5ms/step\n",
            "Epoch 66/100\n",
            "16/16 - 0s - loss: 1.1481 - mae: 0.8577 - val_loss: 0.8353 - val_mae: 0.7166 - 51ms/epoch - 3ms/step\n",
            "Epoch 67/100\n",
            "16/16 - 0s - loss: 1.1339 - mae: 0.8525 - val_loss: 0.8251 - val_mae: 0.7109 - 60ms/epoch - 4ms/step\n",
            "Epoch 68/100\n",
            "16/16 - 0s - loss: 1.1206 - mae: 0.8477 - val_loss: 0.8157 - val_mae: 0.7057 - 53ms/epoch - 3ms/step\n",
            "Epoch 69/100\n",
            "16/16 - 0s - loss: 1.1081 - mae: 0.8427 - val_loss: 0.8066 - val_mae: 0.7007 - 61ms/epoch - 4ms/step\n",
            "Epoch 70/100\n",
            "16/16 - 0s - loss: 1.0959 - mae: 0.8381 - val_loss: 0.7985 - val_mae: 0.6962 - 56ms/epoch - 4ms/step\n",
            "Epoch 71/100\n",
            "16/16 - 0s - loss: 1.0846 - mae: 0.8340 - val_loss: 0.7906 - val_mae: 0.6920 - 67ms/epoch - 4ms/step\n",
            "Epoch 72/100\n",
            "16/16 - 0s - loss: 1.0738 - mae: 0.8299 - val_loss: 0.7834 - val_mae: 0.6884 - 57ms/epoch - 4ms/step\n",
            "Epoch 73/100\n",
            "16/16 - 0s - loss: 1.0635 - mae: 0.8261 - val_loss: 0.7766 - val_mae: 0.6851 - 69ms/epoch - 4ms/step\n",
            "Epoch 74/100\n",
            "16/16 - 0s - loss: 1.0541 - mae: 0.8228 - val_loss: 0.7699 - val_mae: 0.6817 - 85ms/epoch - 5ms/step\n",
            "Epoch 75/100\n",
            "16/16 - 0s - loss: 1.0446 - mae: 0.8195 - val_loss: 0.7641 - val_mae: 0.6789 - 76ms/epoch - 5ms/step\n",
            "Epoch 76/100\n",
            "16/16 - 0s - loss: 1.0363 - mae: 0.8166 - val_loss: 0.7583 - val_mae: 0.6760 - 95ms/epoch - 6ms/step\n",
            "Epoch 77/100\n",
            "16/16 - 0s - loss: 1.0279 - mae: 0.8135 - val_loss: 0.7533 - val_mae: 0.6734 - 74ms/epoch - 5ms/step\n",
            "Epoch 78/100\n",
            "16/16 - 0s - loss: 1.0199 - mae: 0.8106 - val_loss: 0.7485 - val_mae: 0.6711 - 80ms/epoch - 5ms/step\n",
            "Epoch 79/100\n",
            "16/16 - 0s - loss: 1.0126 - mae: 0.8081 - val_loss: 0.7442 - val_mae: 0.6691 - 84ms/epoch - 5ms/step\n",
            "Epoch 80/100\n",
            "16/16 - 0s - loss: 1.0057 - mae: 0.8053 - val_loss: 0.7403 - val_mae: 0.6673 - 69ms/epoch - 4ms/step\n",
            "Epoch 81/100\n",
            "16/16 - 0s - loss: 0.9996 - mae: 0.8031 - val_loss: 0.7364 - val_mae: 0.6655 - 93ms/epoch - 6ms/step\n",
            "Epoch 82/100\n",
            "16/16 - 0s - loss: 0.9932 - mae: 0.8008 - val_loss: 0.7329 - val_mae: 0.6641 - 102ms/epoch - 6ms/step\n",
            "Epoch 83/100\n",
            "16/16 - 0s - loss: 0.9876 - mae: 0.7986 - val_loss: 0.7297 - val_mae: 0.6629 - 78ms/epoch - 5ms/step\n",
            "Epoch 84/100\n",
            "16/16 - 0s - loss: 0.9820 - mae: 0.7965 - val_loss: 0.7269 - val_mae: 0.6619 - 83ms/epoch - 5ms/step\n",
            "Epoch 85/100\n",
            "16/16 - 0s - loss: 0.9768 - mae: 0.7945 - val_loss: 0.7240 - val_mae: 0.6608 - 80ms/epoch - 5ms/step\n",
            "Epoch 86/100\n",
            "16/16 - 0s - loss: 0.9717 - mae: 0.7928 - val_loss: 0.7218 - val_mae: 0.6600 - 67ms/epoch - 4ms/step\n",
            "Epoch 87/100\n",
            "16/16 - 0s - loss: 0.9671 - mae: 0.7910 - val_loss: 0.7196 - val_mae: 0.6592 - 90ms/epoch - 6ms/step\n",
            "Epoch 88/100\n",
            "16/16 - 0s - loss: 0.9631 - mae: 0.7895 - val_loss: 0.7174 - val_mae: 0.6585 - 77ms/epoch - 5ms/step\n",
            "Epoch 89/100\n",
            "16/16 - 0s - loss: 0.9589 - mae: 0.7881 - val_loss: 0.7157 - val_mae: 0.6579 - 81ms/epoch - 5ms/step\n",
            "Epoch 90/100\n",
            "16/16 - 0s - loss: 0.9549 - mae: 0.7865 - val_loss: 0.7141 - val_mae: 0.6575 - 58ms/epoch - 4ms/step\n",
            "Epoch 91/100\n",
            "16/16 - 0s - loss: 0.9516 - mae: 0.7851 - val_loss: 0.7127 - val_mae: 0.6571 - 79ms/epoch - 5ms/step\n",
            "Epoch 92/100\n",
            "16/16 - 0s - loss: 0.9481 - mae: 0.7839 - val_loss: 0.7115 - val_mae: 0.6570 - 76ms/epoch - 5ms/step\n",
            "Epoch 93/100\n",
            "16/16 - 0s - loss: 0.9453 - mae: 0.7829 - val_loss: 0.7104 - val_mae: 0.6569 - 77ms/epoch - 5ms/step\n",
            "Epoch 94/100\n",
            "16/16 - 0s - loss: 0.9422 - mae: 0.7817 - val_loss: 0.7095 - val_mae: 0.6568 - 81ms/epoch - 5ms/step\n",
            "Epoch 95/100\n",
            "16/16 - 0s - loss: 0.9397 - mae: 0.7808 - val_loss: 0.7089 - val_mae: 0.6569 - 81ms/epoch - 5ms/step\n",
            "Epoch 96/100\n",
            "16/16 - 0s - loss: 0.9377 - mae: 0.7800 - val_loss: 0.7082 - val_mae: 0.6569 - 76ms/epoch - 5ms/step\n",
            "Epoch 97/100\n",
            "16/16 - 0s - loss: 0.9354 - mae: 0.7791 - val_loss: 0.7078 - val_mae: 0.6571 - 73ms/epoch - 5ms/step\n",
            "Epoch 98/100\n",
            "16/16 - 0s - loss: 0.9335 - mae: 0.7785 - val_loss: 0.7073 - val_mae: 0.6573 - 75ms/epoch - 5ms/step\n",
            "Epoch 99/100\n",
            "16/16 - 0s - loss: 0.9314 - mae: 0.7776 - val_loss: 0.7070 - val_mae: 0.6575 - 82ms/epoch - 5ms/step\n",
            "Epoch 100/100\n",
            "16/16 - 0s - loss: 0.9296 - mae: 0.7770 - val_loss: 0.7067 - val_mae: 0.6578 - 69ms/epoch - 4ms/step\n"
          ]
        },
        {
          "output_type": "display_data",
          "data": {
            "text/plain": [
              "<Figure size 640x480 with 1 Axes>"
            ],
            "image/png": "[encoded data removed]"
          },
          "metadata": {}
        }
      ]
    },
    {
      "cell_type": "code",
      "source": [
        "# оцениваем точность нейросети на тестовых данных\n",
        "modelMF_6.evaluate(X_test, y_test, verbose=2)"
      ],
      "metadata": {
        "colab": {
          "base_uri": "https://localhost:8080/"
        },
        "outputId": "d0144d85-4624-4b24-b506-f388f40bc50a",
        "id": "sSl07ewtwDcv"
      },
      "execution_count": 232,
      "outputs": [
        {
          "output_type": "stream",
          "name": "stdout",
          "text": [
            "10/10 - 0s - loss: 0.7836 - mae: 0.7041 - 38ms/epoch - 4ms/step\n"
          ]
        },
        {
          "output_type": "execute_result",
          "data": {
            "text/plain": [
              "[0.7836434841156006, 0.7041135430335999]"
            ]
          },
          "metadata": {},
          "execution_count": 232
        }
      ]
    },
    {
      "cell_type": "code",
      "source": [
        "# Предсказание \n",
        "y_prediction_6 = modelMF_6.predict(X_test)"
      ],
      "metadata": {
        "colab": {
          "base_uri": "https://localhost:8080/"
        },
        "outputId": "3c27262d-6ed2-47da-ea56-2b461faf11fb",
        "id": "U9ohTuH1wDcw"
      },
      "execution_count": 233,
      "outputs": [
        {
          "output_type": "stream",
          "name": "stdout",
          "text": [
            "10/10 [==============================] - 0s 2ms/step\n"
          ]
        }
      ]
    },
    {
      "cell_type": "code",
      "source": [
        "# Визуализация\n",
        "fig, ax = plt.subplots(figsize=(12, 4))\n",
        "ax.plot(y_test, label='Данные')\n",
        "ax.plot(y_prediction_6, label='Нейросеть 3')\n",
        "ax.legend()\n",
        "plt.show()"
      ],
      "metadata": {
        "colab": {
          "base_uri": "https://localhost:8080/",
          "height": 362
        },
        "outputId": "ea1bd410-e47f-4435-9d88-e881d710fba9",
        "id": "hD4vU_ZHwDcz"
      },
      "execution_count": 234,
      "outputs": [
        {
          "output_type": "display_data",
          "data": {
            "text/plain": [
              "<Figure size 1200x400 with 1 Axes>"
            ],
            "image/png": "[encoded data removed]"
          },
          "metadata": {}
        }
      ]
    },
    {
      "cell_type": "code",
      "source": [
        "result = pd.DataFrame()\n",
        "y6_pred_train = modelMF_6.predict(X_train)\n",
        "result = pd.concat([result, modelget_metrics('Соотношение матрица-наполнитель, тренировочный', y_train, y6_pred_train)])\n",
        "y6_pred_test = modelMF_6.predict(X_test)\n",
        "result = pd.concat([result, modelget_metrics('Соотношение матрица-наполнитель, тестовый', y_test, y6_pred_test)])\n",
        "result"
      ],
      "metadata": {
        "colab": {
          "base_uri": "https://localhost:8080/",
          "height": 147
        },
        "outputId": "71ccfb17-2da2-45ec-f4e0-c29e991e7546",
        "id": "gaEvJ_aNwDc0"
      },
      "execution_count": 235,
      "outputs": [
        {
          "output_type": "stream",
          "name": "stdout",
          "text": [
            "22/22 [==============================] - 0s 1ms/step\n",
            "10/10 [==============================] - 0s 1ms/step\n"
          ]
        },
        {
          "output_type": "execute_result",
          "data": {
            "text/plain": [
              "                                                      R2      RMSE       MAE  \\\n",
              "Соотношение матрица-наполнитель, тренировочный -0.012911 -0.928330 -0.740805   \n",
              "Соотношение матрица-наполнитель, тестовый      -0.025590 -0.885236 -0.704114   \n",
              "\n",
              "                                                    MAPE  max_error  \n",
              "Соотношение матрица-наполнитель, тренировочный -0.312754  -2.770808  \n",
              "Соотношение матрица-наполнитель, тестовый      -0.284270  -2.634529  "
            ],
            "text/html": [
              "\n",
              "  <div id=\"df-f77dfd20-8af4-4472-9ed5-3512e02d8718\">\n",
              "    <div class=\"colab-df-container\">\n",
              "      <div>\n",
              "<style scoped>\n",
              "    .dataframe tbody tr th:only-of-type {\n",
              "        vertical-align: middle;\n",
              "    }\n",
              "\n",
              "    .dataframe tbody tr th {\n",
              "        vertical-align: top;\n",
              "    }\n",
              "\n",
              "    .dataframe thead th {\n",
              "        text-align: right;\n",
              "    }\n",
              "</style>\n",
              "<table border=\"1\" class=\"dataframe\">\n",
              "  <thead>\n",
              "    <tr style=\"text-align: right;\">\n",
              "      <th></th>\n",
              "      <th>R2</th>\n",
              "      <th>RMSE</th>\n",
              "      <th>MAE</th>\n",
              "      <th>MAPE</th>\n",
              "      <th>max_error</th>\n",
              "    </tr>\n",
              "  </thead>\n",
              "  <tbody>\n",
              "    <tr>\n",
              "      <th>Соотношение матрица-наполнитель, тренировочный</th>\n",
              "      <td>-0.012911</td>\n",
              "      <td>-0.928330</td>\n",
              "      <td>-0.740805</td>\n",
              "      <td>-0.312754</td>\n",
              "      <td>-2.770808</td>\n",
              "    </tr>\n",
              "    <tr>\n",
              "      <th>Соотношение матрица-наполнитель, тестовый</th>\n",
              "      <td>-0.025590</td>\n",
              "      <td>-0.885236</td>\n",
              "      <td>-0.704114</td>\n",
              "      <td>-0.284270</td>\n",
              "      <td>-2.634529</td>\n",
              "    </tr>\n",
              "  </tbody>\n",
              "</table>\n",
              "</div>\n",
              "      <button class=\"colab-df-convert\" onclick=\"convertToInteractive('df-f77dfd20-8af4-4472-9ed5-3512e02d8718')\"\n",
              "              title=\"Convert this dataframe to an interactive table.\"\n",
              "              style=\"display:none;\">\n",
              "        \n",
              "  <svg xmlns=\"http://www.w3.org/2000/svg\" height=\"24px\"viewBox=\"0 0 24 24\"\n",
              "       width=\"24px\">\n",
              "    <path d=\"M0 0h24v24H0V0z\" fill=\"none\"/>\n",
              "    <path d=\"M18.56 5.44l.94 2.06.94-2.06 2.06-.94-2.06-.94-.94-2.06-.94 2.06-2.06.94zm-11 1L8.5 8.5l.94-2.06 2.06-.94-2.06-.94L8.5 2.5l-.94 2.06-2.06.94zm10 10l.94 2.06.94-2.06 2.06-.94-2.06-.94-.94-2.06-.94 2.06-2.06.94z\"/><path d=\"M17.41 7.96l-1.37-1.37c-.4-.4-.92-.59-1.43-.59-.52 0-1.04.2-1.43.59L10.3 9.45l-7.72 7.72c-.78.78-.78 2.05 0 2.83L4 21.41c.39.39.9.59 1.41.59.51 0 1.02-.2 1.41-.59l7.78-7.78 2.81-2.81c.8-.78.8-2.07 0-2.86zM5.41 20L4 18.59l7.72-7.72 1.47 1.35L5.41 20z\"/>\n",
              "  </svg>\n",
              "      </button>\n",
              "      \n",
              "  <style>\n",
              "    .colab-df-container {\n",
              "      display:flex;\n",
              "      flex-wrap:wrap;\n",
              "      gap: 12px;\n",
              "    }\n",
              "\n",
              "    .colab-df-convert {\n",
              "      background-color: #E8F0FE;\n",
              "      border: none;\n",
              "      border-radius: 50%;\n",
              "      cursor: pointer;\n",
              "      display: none;\n",
              "      fill: #1967D2;\n",
              "      height: 32px;\n",
              "      padding: 0 0 0 0;\n",
              "      width: 32px;\n",
              "    }\n",
              "\n",
              "    .colab-df-convert:hover {\n",
              "      background-color: #E2EBFA;\n",
              "      box-shadow: 0px 1px 2px rgba(60, 64, 67, 0.3), 0px 1px 3px 1px rgba(60, 64, 67, 0.15);\n",
              "      fill: #174EA6;\n",
              "    }\n",
              "\n",
              "    [theme=dark] .colab-df-convert {\n",
              "      background-color: #3B4455;\n",
              "      fill: #D2E3FC;\n",
              "    }\n",
              "\n",
              "    [theme=dark] .colab-df-convert:hover {\n",
              "      background-color: #434B5C;\n",
              "      box-shadow: 0px 1px 3px 1px rgba(0, 0, 0, 0.15);\n",
              "      filter: drop-shadow(0px 1px 2px rgba(0, 0, 0, 0.3));\n",
              "      fill: #FFFFFF;\n",
              "    }\n",
              "  </style>\n",
              "\n",
              "      <script>\n",
              "        const buttonEl =\n",
              "          document.querySelector('#df-f77dfd20-8af4-4472-9ed5-3512e02d8718 button.colab-df-convert');\n",
              "        buttonEl.style.display =\n",
              "          google.colab.kernel.accessAllowed ? 'block' : 'none';\n",
              "\n",
              "        async function convertToInteractive(key) {\n",
              "          const element = document.querySelector('#df-f77dfd20-8af4-4472-9ed5-3512e02d8718');\n",
              "          const dataTable =\n",
              "            await google.colab.kernel.invokeFunction('convertToInteractive',\n",
              "                                                     [key], {});\n",
              "          if (!dataTable) return;\n",
              "\n",
              "          const docLinkHtml = 'Like what you see? Visit the ' +\n",
              "            '<a target=\"_blank\" href=https://colab.research.google.com/notebooks/data_table.ipynb>data table notebook</a>'\n",
              "            + ' to learn more about interactive tables.';\n",
              "          element.innerHTML = '';\n",
              "          dataTable['output_type'] = 'display_data';\n",
              "          await google.colab.output.renderOutput(dataTable, element);\n",
              "          const docLink = document.createElement('div');\n",
              "          docLink.innerHTML = docLinkHtml;\n",
              "          element.appendChild(docLink);\n",
              "        }\n",
              "      </script>\n",
              "    </div>\n",
              "  </div>\n",
              "  "
            ]
          },
          "metadata": {},
          "execution_count": 235
        }
      ]
    },
    {
      "cell_type": "markdown",
      "source": [
        "# сравнение по метрике "
      ],
      "metadata": {
        "id": "Disw8qiJw9Os"
      }
    },
    {
      "cell_type": "code",
      "source": [
        "MAE = []\n",
        "models = [modelMF_1, modelMF_2, modelMF_3, modelMF_4, modelMF_5, modelMF_6]\n",
        "for i, model in enumerate(models, start=1):\n",
        "    y_pred = model.predict(X_test_raw)\n",
        "    MAE_i = mean_absolute_error(y_test, y_pred)\n",
        "    model_name = f\"Нейросеть {i}\"\n",
        "    MAE.append([model_name, MAE_i])\n",
        "    # результаты расчета ошибок выведем в таблицу\n",
        "MAE_table = pd.DataFrame(data=MAE, columns=['Версия нейросети', 'MAE'])\n",
        "display(MAE_table) "
      ],
      "metadata": {
        "colab": {
          "base_uri": "https://localhost:8080/",
          "height": 342
        },
        "id": "6HzBl3SNBMJV",
        "outputId": "8274294d-60ef-4ec0-c2f2-d51d1b8b88a1"
      },
      "execution_count": 236,
      "outputs": [
        {
          "output_type": "stream",
          "name": "stdout",
          "text": [
            "10/10 [==============================] - 0s 2ms/step\n",
            "10/10 [==============================] - 0s 2ms/step\n",
            "10/10 [==============================] - 0s 1ms/step\n",
            "10/10 [==============================] - 0s 1ms/step\n",
            "10/10 [==============================] - 0s 2ms/step\n",
            "10/10 [==============================] - 0s 1ms/step\n"
          ]
        },
        {
          "output_type": "display_data",
          "data": {
            "text/plain": [
              "  Версия нейросети       MAE\n",
              "0      Нейросеть 1  1.969044\n",
              "1      Нейросеть 2  0.695281\n",
              "2      Нейросеть 3  0.695293\n",
              "3      Нейросеть 4  1.965212\n",
              "4      Нейросеть 5  0.702981\n",
              "5      Нейросеть 6  0.704050"
            ],
            "text/html": [
              "\n",
              "  <div id=\"df-9aedc780-2907-41d0-a059-80d5acc55fcf\">\n",
              "    <div class=\"colab-df-container\">\n",
              "      <div>\n",
              "<style scoped>\n",
              "    .dataframe tbody tr th:only-of-type {\n",
              "        vertical-align: middle;\n",
              "    }\n",
              "\n",
              "    .dataframe tbody tr th {\n",
              "        vertical-align: top;\n",
              "    }\n",
              "\n",
              "    .dataframe thead th {\n",
              "        text-align: right;\n",
              "    }\n",
              "</style>\n",
              "<table border=\"1\" class=\"dataframe\">\n",
              "  <thead>\n",
              "    <tr style=\"text-align: right;\">\n",
              "      <th></th>\n",
              "      <th>Версия нейросети</th>\n",
              "      <th>MAE</th>\n",
              "    </tr>\n",
              "  </thead>\n",
              "  <tbody>\n",
              "    <tr>\n",
              "      <th>0</th>\n",
              "      <td>Нейросеть 1</td>\n",
              "      <td>1.969044</td>\n",
              "    </tr>\n",
              "    <tr>\n",
              "      <th>1</th>\n",
              "      <td>Нейросеть 2</td>\n",
              "      <td>0.695281</td>\n",
              "    </tr>\n",
              "    <tr>\n",
              "      <th>2</th>\n",
              "      <td>Нейросеть 3</td>\n",
              "      <td>0.695293</td>\n",
              "    </tr>\n",
              "    <tr>\n",
              "      <th>3</th>\n",
              "      <td>Нейросеть 4</td>\n",
              "      <td>1.965212</td>\n",
              "    </tr>\n",
              "    <tr>\n",
              "      <th>4</th>\n",
              "      <td>Нейросеть 5</td>\n",
              "      <td>0.702981</td>\n",
              "    </tr>\n",
              "    <tr>\n",
              "      <th>5</th>\n",
              "      <td>Нейросеть 6</td>\n",
              "      <td>0.704050</td>\n",
              "    </tr>\n",
              "  </tbody>\n",
              "</table>\n",
              "</div>\n",
              "      <button class=\"colab-df-convert\" onclick=\"convertToInteractive('df-9aedc780-2907-41d0-a059-80d5acc55fcf')\"\n",
              "              title=\"Convert this dataframe to an interactive table.\"\n",
              "              style=\"display:none;\">\n",
              "        \n",
              "  <svg xmlns=\"http://www.w3.org/2000/svg\" height=\"24px\"viewBox=\"0 0 24 24\"\n",
              "       width=\"24px\">\n",
              "    <path d=\"M0 0h24v24H0V0z\" fill=\"none\"/>\n",
              "    <path d=\"M18.56 5.44l.94 2.06.94-2.06 2.06-.94-2.06-.94-.94-2.06-.94 2.06-2.06.94zm-11 1L8.5 8.5l.94-2.06 2.06-.94-2.06-.94L8.5 2.5l-.94 2.06-2.06.94zm10 10l.94 2.06.94-2.06 2.06-.94-2.06-.94-.94-2.06-.94 2.06-2.06.94z\"/><path d=\"M17.41 7.96l-1.37-1.37c-.4-.4-.92-.59-1.43-.59-.52 0-1.04.2-1.43.59L10.3 9.45l-7.72 7.72c-.78.78-.78 2.05 0 2.83L4 21.41c.39.39.9.59 1.41.59.51 0 1.02-.2 1.41-.59l7.78-7.78 2.81-2.81c.8-.78.8-2.07 0-2.86zM5.41 20L4 18.59l7.72-7.72 1.47 1.35L5.41 20z\"/>\n",
              "  </svg>\n",
              "      </button>\n",
              "      \n",
              "  <style>\n",
              "    .colab-df-container {\n",
              "      display:flex;\n",
              "      flex-wrap:wrap;\n",
              "      gap: 12px;\n",
              "    }\n",
              "\n",
              "    .colab-df-convert {\n",
              "      background-color: #E8F0FE;\n",
              "      border: none;\n",
              "      border-radius: 50%;\n",
              "      cursor: pointer;\n",
              "      display: none;\n",
              "      fill: #1967D2;\n",
              "      height: 32px;\n",
              "      padding: 0 0 0 0;\n",
              "      width: 32px;\n",
              "    }\n",
              "\n",
              "    .colab-df-convert:hover {\n",
              "      background-color: #E2EBFA;\n",
              "      box-shadow: 0px 1px 2px rgba(60, 64, 67, 0.3), 0px 1px 3px 1px rgba(60, 64, 67, 0.15);\n",
              "      fill: #174EA6;\n",
              "    }\n",
              "\n",
              "    [theme=dark] .colab-df-convert {\n",
              "      background-color: #3B4455;\n",
              "      fill: #D2E3FC;\n",
              "    }\n",
              "\n",
              "    [theme=dark] .colab-df-convert:hover {\n",
              "      background-color: #434B5C;\n",
              "      box-shadow: 0px 1px 3px 1px rgba(0, 0, 0, 0.15);\n",
              "      filter: drop-shadow(0px 1px 2px rgba(0, 0, 0, 0.3));\n",
              "      fill: #FFFFFF;\n",
              "    }\n",
              "  </style>\n",
              "\n",
              "      <script>\n",
              "        const buttonEl =\n",
              "          document.querySelector('#df-9aedc780-2907-41d0-a059-80d5acc55fcf button.colab-df-convert');\n",
              "        buttonEl.style.display =\n",
              "          google.colab.kernel.accessAllowed ? 'block' : 'none';\n",
              "\n",
              "        async function convertToInteractive(key) {\n",
              "          const element = document.querySelector('#df-9aedc780-2907-41d0-a059-80d5acc55fcf');\n",
              "          const dataTable =\n",
              "            await google.colab.kernel.invokeFunction('convertToInteractive',\n",
              "                                                     [key], {});\n",
              "          if (!dataTable) return;\n",
              "\n",
              "          const docLinkHtml = 'Like what you see? Visit the ' +\n",
              "            '<a target=\"_blank\" href=https://colab.research.google.com/notebooks/data_table.ipynb>data table notebook</a>'\n",
              "            + ' to learn more about interactive tables.';\n",
              "          element.innerHTML = '';\n",
              "          dataTable['output_type'] = 'display_data';\n",
              "          await google.colab.output.renderOutput(dataTable, element);\n",
              "          const docLink = document.createElement('div');\n",
              "          docLink.innerHTML = docLinkHtml;\n",
              "          element.appendChild(docLink);\n",
              "        }\n",
              "      </script>\n",
              "    </div>\n",
              "  </div>\n",
              "  "
            ]
          },
          "metadata": {}
        }
      ]
    },
    {
      "cell_type": "code",
      "source": [
        "# Гистограмма распределения ошибки\n",
        "colors = plt.cm.cividis(np.linspace(0, 1, len(MAE_table)))\n",
        "plt.figure(figsize=(5, 3))\n",
        "plt.barh(MAE_table['Версия нейросети'], MAE_table['MAE'], color=colors)\n",
        "plt.title('Соотношение матрица-наполнитель')\n",
        "plt.grid(alpha=0.5, linestyle='--')\n",
        "plt.show()"
      ],
      "metadata": {
        "colab": {
          "base_uri": "https://localhost:8080/",
          "height": 318
        },
        "id": "gcWNP8Z-xfpf",
        "outputId": "494ae746-3b72-479f-85bc-98bab2b95c95"
      },
      "execution_count": 237,
      "outputs": [
        {
          "output_type": "display_data",
          "data": {
            "text/plain": [
              "<Figure size 500x300 with 1 Axes>"
            ],
            "image/png": "[encoded data removed]"
          },
          "metadata": {}
        }
      ]
    },
    {
      "cell_type": "code",
      "source": [
        "# Запишем результаты сравнения в файл\n",
        "MAE_table.to_excel('/content/drive/MyDrive/Colab Notebooks/Result_errors/MAE_errors.xlsx', index=0)\n"
      ],
      "metadata": {
        "id": "bWJL2tuIxtMJ"
      },
      "execution_count": 238,
      "outputs": []
    },
    {
      "cell_type": "code",
      "source": [
        "# проверка на ненормализованных данных\n",
        "modelNN_raw = tf.keras.Sequential([\n",
        "    keras.layers.Dense(16,  input_dim=12, activation = 'sigmoid'),\n",
        "    keras.layers.Dropout(0.5),\n",
        "    keras.layers.Dense(32, activation = 'sigmoid'),\n",
        "    keras.layers.Dense(1, activation = 'relu')\n",
        "])\n",
        "modelNN_raw.compile(optimizer='adam', loss='mse', metrics=['mae'])\n",
        "modelNN_raw.summary()\n",
        "history = modelNN_raw.fit(X_train_raw,y_train, \n",
        "                    epochs=150, \n",
        "                    validation_split=0.1, \n",
        "                    verbose=2)\n",
        "plt.plot(history.history['mae'], label = 'Точность train', color = 'b')\n",
        "plt.plot(history.history['val_mae'], label = 'Точность test', color = 'y')\n",
        "plt.xlabel = ('Epochs')\n",
        "plt.ylabel = ('MAE')\n",
        "plt.legend()\n",
        "plt.show()"
      ],
      "metadata": {
        "colab": {
          "base_uri": "https://localhost:8080/",
          "height": 1000
        },
        "id": "YqVeCe80eRT0",
        "outputId": "de72d227-7f9a-4a4c-c8d7-31f0bac88e53"
      },
      "execution_count": 256,
      "outputs": [
        {
          "output_type": "stream",
          "name": "stdout",
          "text": [
            "Model: \"sequential_125\"\n",
            "_________________________________________________________________\n",
            " Layer (type)                Output Shape              Param #   \n",
            "=================================================================\n",
            " dense_472 (Dense)           (None, 16)                208       \n",
            "                                                                 \n",
            " dropout_123 (Dropout)       (None, 16)                0         \n",
            "                                                                 \n",
            " dense_473 (Dense)           (None, 32)                544       \n",
            "                                                                 \n",
            " dense_474 (Dense)           (None, 1)                 33        \n",
            "                                                                 \n",
            "=================================================================\n",
            "Total params: 785\n",
            "Trainable params: 785\n",
            "Non-trainable params: 0\n",
            "_________________________________________________________________\n",
            "Epoch 1/150\n",
            "20/20 - 1s - loss: 3.1376 - mae: 1.5247 - val_loss: 1.2546 - val_mae: 0.9059 - 767ms/epoch - 38ms/step\n",
            "Epoch 2/150\n",
            "20/20 - 0s - loss: 1.6744 - mae: 1.0471 - val_loss: 0.6336 - val_mae: 0.6118 - 65ms/epoch - 3ms/step\n",
            "Epoch 3/150\n",
            "20/20 - 0s - loss: 1.1111 - mae: 0.8440 - val_loss: 0.5980 - val_mae: 0.6294 - 87ms/epoch - 4ms/step\n",
            "Epoch 4/150\n",
            "20/20 - 0s - loss: 0.9981 - mae: 0.7938 - val_loss: 0.6473 - val_mae: 0.6672 - 86ms/epoch - 4ms/step\n",
            "Epoch 5/150\n",
            "20/20 - 0s - loss: 0.9446 - mae: 0.7856 - val_loss: 0.6813 - val_mae: 0.6884 - 78ms/epoch - 4ms/step\n",
            "Epoch 6/150\n",
            "20/20 - 0s - loss: 0.9673 - mae: 0.7962 - val_loss: 0.6856 - val_mae: 0.6887 - 80ms/epoch - 4ms/step\n",
            "Epoch 7/150\n",
            "20/20 - 0s - loss: 0.9132 - mae: 0.7735 - val_loss: 0.6719 - val_mae: 0.6815 - 80ms/epoch - 4ms/step\n",
            "Epoch 8/150\n",
            "20/20 - 0s - loss: 0.9588 - mae: 0.7927 - val_loss: 0.6929 - val_mae: 0.6936 - 78ms/epoch - 4ms/step\n",
            "Epoch 9/150\n",
            "20/20 - 0s - loss: 0.9178 - mae: 0.7702 - val_loss: 0.6767 - val_mae: 0.6841 - 81ms/epoch - 4ms/step\n",
            "Epoch 10/150\n",
            "20/20 - 0s - loss: 0.9444 - mae: 0.7808 - val_loss: 0.6869 - val_mae: 0.6851 - 62ms/epoch - 3ms/step\n",
            "Epoch 11/150\n",
            "20/20 - 0s - loss: 0.9472 - mae: 0.7847 - val_loss: 0.6912 - val_mae: 0.6895 - 92ms/epoch - 5ms/step\n",
            "Epoch 12/150\n",
            "20/20 - 0s - loss: 0.9639 - mae: 0.7855 - val_loss: 0.6698 - val_mae: 0.6772 - 86ms/epoch - 4ms/step\n",
            "Epoch 13/150\n",
            "20/20 - 0s - loss: 0.9160 - mae: 0.7580 - val_loss: 0.6623 - val_mae: 0.6745 - 79ms/epoch - 4ms/step\n",
            "Epoch 14/150\n",
            "20/20 - 0s - loss: 0.9480 - mae: 0.7854 - val_loss: 0.6492 - val_mae: 0.6668 - 78ms/epoch - 4ms/step\n",
            "Epoch 15/150\n",
            "20/20 - 0s - loss: 0.9290 - mae: 0.7720 - val_loss: 0.6560 - val_mae: 0.6689 - 78ms/epoch - 4ms/step\n",
            "Epoch 16/150\n",
            "20/20 - 0s - loss: 0.9315 - mae: 0.7799 - val_loss: 0.6519 - val_mae: 0.6655 - 87ms/epoch - 4ms/step\n",
            "Epoch 17/150\n",
            "20/20 - 0s - loss: 0.9594 - mae: 0.7759 - val_loss: 0.6592 - val_mae: 0.6661 - 65ms/epoch - 3ms/step\n",
            "Epoch 18/150\n",
            "20/20 - 0s - loss: 0.9169 - mae: 0.7655 - val_loss: 0.6875 - val_mae: 0.6830 - 74ms/epoch - 4ms/step\n",
            "Epoch 19/150\n",
            "20/20 - 0s - loss: 0.9019 - mae: 0.7701 - val_loss: 0.6641 - val_mae: 0.6678 - 79ms/epoch - 4ms/step\n",
            "Epoch 20/150\n",
            "20/20 - 0s - loss: 0.9021 - mae: 0.7586 - val_loss: 0.6719 - val_mae: 0.6751 - 68ms/epoch - 3ms/step\n",
            "Epoch 21/150\n",
            "20/20 - 0s - loss: 0.9174 - mae: 0.7645 - val_loss: 0.6451 - val_mae: 0.6567 - 86ms/epoch - 4ms/step\n",
            "Epoch 22/150\n",
            "20/20 - 0s - loss: 0.9005 - mae: 0.7605 - val_loss: 0.6667 - val_mae: 0.6668 - 97ms/epoch - 5ms/step\n",
            "Epoch 23/150\n",
            "20/20 - 0s - loss: 0.9154 - mae: 0.7627 - val_loss: 0.6781 - val_mae: 0.6763 - 63ms/epoch - 3ms/step\n",
            "Epoch 24/150\n",
            "20/20 - 0s - loss: 0.9103 - mae: 0.7577 - val_loss: 0.6667 - val_mae: 0.6709 - 63ms/epoch - 3ms/step\n",
            "Epoch 25/150\n",
            "20/20 - 0s - loss: 0.8905 - mae: 0.7560 - val_loss: 0.6637 - val_mae: 0.6686 - 73ms/epoch - 4ms/step\n",
            "Epoch 26/150\n",
            "20/20 - 0s - loss: 0.9115 - mae: 0.7697 - val_loss: 0.6548 - val_mae: 0.6633 - 81ms/epoch - 4ms/step\n",
            "Epoch 27/150\n",
            "20/20 - 0s - loss: 0.8966 - mae: 0.7505 - val_loss: 0.6680 - val_mae: 0.6674 - 78ms/epoch - 4ms/step\n",
            "Epoch 28/150\n",
            "20/20 - 0s - loss: 0.9029 - mae: 0.7655 - val_loss: 0.6588 - val_mae: 0.6588 - 80ms/epoch - 4ms/step\n",
            "Epoch 29/150\n",
            "20/20 - 0s - loss: 0.9091 - mae: 0.7630 - val_loss: 0.6442 - val_mae: 0.6531 - 91ms/epoch - 5ms/step\n",
            "Epoch 30/150\n",
            "20/20 - 0s - loss: 0.8980 - mae: 0.7636 - val_loss: 0.6495 - val_mae: 0.6578 - 62ms/epoch - 3ms/step\n",
            "Epoch 31/150\n",
            "20/20 - 0s - loss: 0.9119 - mae: 0.7616 - val_loss: 0.6718 - val_mae: 0.6733 - 81ms/epoch - 4ms/step\n",
            "Epoch 32/150\n",
            "20/20 - 0s - loss: 0.8890 - mae: 0.7506 - val_loss: 0.6608 - val_mae: 0.6665 - 82ms/epoch - 4ms/step\n",
            "Epoch 33/150\n",
            "20/20 - 0s - loss: 0.8908 - mae: 0.7594 - val_loss: 0.6442 - val_mae: 0.6556 - 65ms/epoch - 3ms/step\n",
            "Epoch 34/150\n",
            "20/20 - 0s - loss: 0.8831 - mae: 0.7507 - val_loss: 0.6496 - val_mae: 0.6603 - 65ms/epoch - 3ms/step\n",
            "Epoch 35/150\n",
            "20/20 - 0s - loss: 0.8802 - mae: 0.7523 - val_loss: 0.6714 - val_mae: 0.6730 - 85ms/epoch - 4ms/step\n",
            "Epoch 36/150\n",
            "20/20 - 0s - loss: 0.8894 - mae: 0.7582 - val_loss: 0.6498 - val_mae: 0.6591 - 69ms/epoch - 3ms/step\n",
            "Epoch 37/150\n",
            "20/20 - 0s - loss: 0.8966 - mae: 0.7585 - val_loss: 0.6504 - val_mae: 0.6578 - 82ms/epoch - 4ms/step\n",
            "Epoch 38/150\n",
            "20/20 - 0s - loss: 0.8946 - mae: 0.7583 - val_loss: 0.6382 - val_mae: 0.6509 - 49ms/epoch - 2ms/step\n",
            "Epoch 39/150\n",
            "20/20 - 0s - loss: 0.8778 - mae: 0.7544 - val_loss: 0.6743 - val_mae: 0.6753 - 49ms/epoch - 2ms/step\n",
            "Epoch 40/150\n",
            "20/20 - 0s - loss: 0.8655 - mae: 0.7504 - val_loss: 0.6557 - val_mae: 0.6627 - 55ms/epoch - 3ms/step\n",
            "Epoch 41/150\n",
            "20/20 - 0s - loss: 0.8923 - mae: 0.7583 - val_loss: 0.6376 - val_mae: 0.6499 - 74ms/epoch - 4ms/step\n",
            "Epoch 42/150\n",
            "20/20 - 0s - loss: 0.8661 - mae: 0.7464 - val_loss: 0.6557 - val_mae: 0.6619 - 51ms/epoch - 3ms/step\n",
            "Epoch 43/150\n",
            "20/20 - 0s - loss: 0.8881 - mae: 0.7568 - val_loss: 0.6509 - val_mae: 0.6589 - 67ms/epoch - 3ms/step\n",
            "Epoch 44/150\n",
            "20/20 - 0s - loss: 0.8831 - mae: 0.7561 - val_loss: 0.6579 - val_mae: 0.6631 - 72ms/epoch - 4ms/step\n",
            "Epoch 45/150\n",
            "20/20 - 0s - loss: 0.8761 - mae: 0.7527 - val_loss: 0.6434 - val_mae: 0.6543 - 72ms/epoch - 4ms/step\n",
            "Epoch 46/150\n",
            "20/20 - 0s - loss: 0.8761 - mae: 0.7463 - val_loss: 0.6523 - val_mae: 0.6596 - 77ms/epoch - 4ms/step\n",
            "Epoch 47/150\n",
            "20/20 - 0s - loss: 0.8715 - mae: 0.7499 - val_loss: 0.6707 - val_mae: 0.6719 - 51ms/epoch - 3ms/step\n",
            "Epoch 48/150\n",
            "20/20 - 0s - loss: 0.8794 - mae: 0.7514 - val_loss: 0.6482 - val_mae: 0.6574 - 71ms/epoch - 4ms/step\n",
            "Epoch 49/150\n",
            "20/20 - 0s - loss: 0.8802 - mae: 0.7510 - val_loss: 0.6355 - val_mae: 0.6485 - 52ms/epoch - 3ms/step\n",
            "Epoch 50/150\n",
            "20/20 - 0s - loss: 0.8834 - mae: 0.7531 - val_loss: 0.6655 - val_mae: 0.6679 - 66ms/epoch - 3ms/step\n",
            "Epoch 51/150\n",
            "20/20 - 0s - loss: 0.8810 - mae: 0.7532 - val_loss: 0.6532 - val_mae: 0.6593 - 59ms/epoch - 3ms/step\n",
            "Epoch 52/150\n",
            "20/20 - 0s - loss: 0.8800 - mae: 0.7538 - val_loss: 0.6458 - val_mae: 0.6542 - 59ms/epoch - 3ms/step\n",
            "Epoch 53/150\n",
            "20/20 - 0s - loss: 0.8760 - mae: 0.7514 - val_loss: 0.6636 - val_mae: 0.6658 - 67ms/epoch - 3ms/step\n",
            "Epoch 54/150\n",
            "20/20 - 0s - loss: 0.8746 - mae: 0.7519 - val_loss: 0.6603 - val_mae: 0.6633 - 59ms/epoch - 3ms/step\n",
            "Epoch 55/150\n",
            "20/20 - 0s - loss: 0.8741 - mae: 0.7501 - val_loss: 0.6563 - val_mae: 0.6614 - 54ms/epoch - 3ms/step\n",
            "Epoch 56/150\n",
            "20/20 - 0s - loss: 0.8736 - mae: 0.7484 - val_loss: 0.6427 - val_mae: 0.6528 - 69ms/epoch - 3ms/step\n",
            "Epoch 57/150\n",
            "20/20 - 0s - loss: 0.8752 - mae: 0.7514 - val_loss: 0.6697 - val_mae: 0.6687 - 67ms/epoch - 3ms/step\n",
            "Epoch 58/150\n",
            "20/20 - 0s - loss: 0.8821 - mae: 0.7564 - val_loss: 0.6596 - val_mae: 0.6616 - 60ms/epoch - 3ms/step\n",
            "Epoch 59/150\n",
            "20/20 - 0s - loss: 0.8793 - mae: 0.7517 - val_loss: 0.6583 - val_mae: 0.6608 - 86ms/epoch - 4ms/step\n",
            "Epoch 60/150\n",
            "20/20 - 0s - loss: 0.8728 - mae: 0.7460 - val_loss: 0.6429 - val_mae: 0.6503 - 57ms/epoch - 3ms/step\n",
            "Epoch 61/150\n",
            "20/20 - 0s - loss: 0.8740 - mae: 0.7511 - val_loss: 0.6764 - val_mae: 0.6715 - 52ms/epoch - 3ms/step\n",
            "Epoch 62/150\n",
            "20/20 - 0s - loss: 0.8728 - mae: 0.7497 - val_loss: 0.6541 - val_mae: 0.6572 - 48ms/epoch - 2ms/step\n",
            "Epoch 63/150\n",
            "20/20 - 0s - loss: 0.8866 - mae: 0.7540 - val_loss: 0.6606 - val_mae: 0.6614 - 69ms/epoch - 3ms/step\n",
            "Epoch 64/150\n",
            "20/20 - 0s - loss: 0.8774 - mae: 0.7517 - val_loss: 0.6469 - val_mae: 0.6521 - 71ms/epoch - 4ms/step\n",
            "Epoch 65/150\n",
            "20/20 - 0s - loss: 0.8812 - mae: 0.7516 - val_loss: 0.6436 - val_mae: 0.6496 - 54ms/epoch - 3ms/step\n",
            "Epoch 66/150\n",
            "20/20 - 0s - loss: 0.8654 - mae: 0.7449 - val_loss: 0.6628 - val_mae: 0.6620 - 72ms/epoch - 4ms/step\n",
            "Epoch 67/150\n",
            "20/20 - 0s - loss: 0.8830 - mae: 0.7574 - val_loss: 0.6589 - val_mae: 0.6597 - 71ms/epoch - 4ms/step\n",
            "Epoch 68/150\n",
            "20/20 - 0s - loss: 0.8722 - mae: 0.7487 - val_loss: 0.6488 - val_mae: 0.6534 - 58ms/epoch - 3ms/step\n",
            "Epoch 69/150\n",
            "20/20 - 0s - loss: 0.8795 - mae: 0.7514 - val_loss: 0.6476 - val_mae: 0.6524 - 53ms/epoch - 3ms/step\n",
            "Epoch 70/150\n",
            "20/20 - 0s - loss: 0.8760 - mae: 0.7502 - val_loss: 0.6658 - val_mae: 0.6646 - 53ms/epoch - 3ms/step\n",
            "Epoch 71/150\n",
            "20/20 - 0s - loss: 0.8766 - mae: 0.7511 - val_loss: 0.6456 - val_mae: 0.6517 - 62ms/epoch - 3ms/step\n",
            "Epoch 72/150\n",
            "20/20 - 0s - loss: 0.8758 - mae: 0.7510 - val_loss: 0.6701 - val_mae: 0.6676 - 53ms/epoch - 3ms/step\n",
            "Epoch 73/150\n",
            "20/20 - 0s - loss: 0.8735 - mae: 0.7483 - val_loss: 0.6410 - val_mae: 0.6495 - 63ms/epoch - 3ms/step\n",
            "Epoch 74/150\n",
            "20/20 - 0s - loss: 0.8732 - mae: 0.7489 - val_loss: 0.6678 - val_mae: 0.6662 - 69ms/epoch - 3ms/step\n",
            "Epoch 75/150\n",
            "20/20 - 0s - loss: 0.8740 - mae: 0.7508 - val_loss: 0.6505 - val_mae: 0.6552 - 68ms/epoch - 3ms/step\n",
            "Epoch 76/150\n",
            "20/20 - 0s - loss: 0.8748 - mae: 0.7452 - val_loss: 0.6686 - val_mae: 0.6676 - 57ms/epoch - 3ms/step\n",
            "Epoch 77/150\n",
            "20/20 - 0s - loss: 0.8742 - mae: 0.7520 - val_loss: 0.6582 - val_mae: 0.6615 - 54ms/epoch - 3ms/step\n",
            "Epoch 78/150\n",
            "20/20 - 0s - loss: 0.8727 - mae: 0.7506 - val_loss: 0.6567 - val_mae: 0.6605 - 50ms/epoch - 2ms/step\n",
            "Epoch 79/150\n",
            "20/20 - 0s - loss: 0.8764 - mae: 0.7519 - val_loss: 0.6461 - val_mae: 0.6530 - 54ms/epoch - 3ms/step\n",
            "Epoch 80/150\n",
            "20/20 - 0s - loss: 0.8710 - mae: 0.7469 - val_loss: 0.6720 - val_mae: 0.6687 - 59ms/epoch - 3ms/step\n",
            "Epoch 81/150\n",
            "20/20 - 0s - loss: 0.8731 - mae: 0.7504 - val_loss: 0.6749 - val_mae: 0.6698 - 58ms/epoch - 3ms/step\n",
            "Epoch 82/150\n",
            "20/20 - 0s - loss: 0.8809 - mae: 0.7528 - val_loss: 0.6501 - val_mae: 0.6549 - 70ms/epoch - 4ms/step\n",
            "Epoch 83/150\n",
            "20/20 - 0s - loss: 0.8804 - mae: 0.7514 - val_loss: 0.6646 - val_mae: 0.6641 - 69ms/epoch - 3ms/step\n",
            "Epoch 84/150\n",
            "20/20 - 0s - loss: 0.8669 - mae: 0.7475 - val_loss: 0.6618 - val_mae: 0.6625 - 73ms/epoch - 4ms/step\n",
            "Epoch 85/150\n",
            "20/20 - 0s - loss: 0.8740 - mae: 0.7500 - val_loss: 0.6575 - val_mae: 0.6592 - 72ms/epoch - 4ms/step\n",
            "Epoch 86/150\n",
            "20/20 - 0s - loss: 0.8758 - mae: 0.7488 - val_loss: 0.6592 - val_mae: 0.6611 - 50ms/epoch - 3ms/step\n",
            "Epoch 87/150\n",
            "20/20 - 0s - loss: 0.8746 - mae: 0.7507 - val_loss: 0.6579 - val_mae: 0.6614 - 51ms/epoch - 3ms/step\n",
            "Epoch 88/150\n",
            "20/20 - 0s - loss: 0.8810 - mae: 0.7547 - val_loss: 0.6429 - val_mae: 0.6528 - 48ms/epoch - 2ms/step\n",
            "Epoch 89/150\n",
            "20/20 - 0s - loss: 0.8771 - mae: 0.7505 - val_loss: 0.6464 - val_mae: 0.6561 - 72ms/epoch - 4ms/step\n",
            "Epoch 90/150\n",
            "20/20 - 0s - loss: 0.8820 - mae: 0.7555 - val_loss: 0.6389 - val_mae: 0.6549 - 64ms/epoch - 3ms/step\n",
            "Epoch 91/150\n",
            "20/20 - 0s - loss: 0.8678 - mae: 0.7453 - val_loss: 0.6387 - val_mae: 0.6548 - 74ms/epoch - 4ms/step\n",
            "Epoch 92/150\n",
            "20/20 - 0s - loss: 0.8778 - mae: 0.7506 - val_loss: 0.6498 - val_mae: 0.6598 - 76ms/epoch - 4ms/step\n",
            "Epoch 93/150\n",
            "20/20 - 0s - loss: 0.8785 - mae: 0.7509 - val_loss: 0.6511 - val_mae: 0.6570 - 50ms/epoch - 2ms/step\n",
            "Epoch 94/150\n",
            "20/20 - 0s - loss: 0.8781 - mae: 0.7515 - val_loss: 0.6590 - val_mae: 0.6622 - 50ms/epoch - 2ms/step\n",
            "Epoch 95/150\n",
            "20/20 - 0s - loss: 0.8722 - mae: 0.7478 - val_loss: 0.6524 - val_mae: 0.6581 - 50ms/epoch - 3ms/step\n",
            "Epoch 96/150\n",
            "20/20 - 0s - loss: 0.8782 - mae: 0.7516 - val_loss: 0.6459 - val_mae: 0.6540 - 49ms/epoch - 2ms/step\n",
            "Epoch 97/150\n",
            "20/20 - 0s - loss: 0.8730 - mae: 0.7523 - val_loss: 0.6535 - val_mae: 0.6558 - 56ms/epoch - 3ms/step\n",
            "Epoch 98/150\n",
            "20/20 - 0s - loss: 0.8797 - mae: 0.7501 - val_loss: 0.6688 - val_mae: 0.6652 - 61ms/epoch - 3ms/step\n",
            "Epoch 99/150\n",
            "20/20 - 0s - loss: 0.8794 - mae: 0.7507 - val_loss: 0.6539 - val_mae: 0.6565 - 67ms/epoch - 3ms/step\n",
            "Epoch 100/150\n",
            "20/20 - 0s - loss: 0.8781 - mae: 0.7521 - val_loss: 0.6472 - val_mae: 0.6540 - 51ms/epoch - 3ms/step\n",
            "Epoch 101/150\n",
            "20/20 - 0s - loss: 0.8800 - mae: 0.7527 - val_loss: 0.6540 - val_mae: 0.6579 - 54ms/epoch - 3ms/step\n",
            "Epoch 102/150\n",
            "20/20 - 0s - loss: 0.8767 - mae: 0.7514 - val_loss: 0.6492 - val_mae: 0.6552 - 54ms/epoch - 3ms/step\n",
            "Epoch 103/150\n",
            "20/20 - 0s - loss: 0.8785 - mae: 0.7500 - val_loss: 0.6542 - val_mae: 0.6578 - 61ms/epoch - 3ms/step\n",
            "Epoch 104/150\n",
            "20/20 - 0s - loss: 0.8785 - mae: 0.7510 - val_loss: 0.6465 - val_mae: 0.6542 - 71ms/epoch - 4ms/step\n",
            "Epoch 105/150\n",
            "20/20 - 0s - loss: 0.8770 - mae: 0.7494 - val_loss: 0.6598 - val_mae: 0.6624 - 79ms/epoch - 4ms/step\n",
            "Epoch 106/150\n",
            "20/20 - 0s - loss: 0.8794 - mae: 0.7531 - val_loss: 0.6611 - val_mae: 0.6630 - 51ms/epoch - 3ms/step\n",
            "Epoch 107/150\n",
            "20/20 - 0s - loss: 0.8725 - mae: 0.7486 - val_loss: 0.6524 - val_mae: 0.6584 - 53ms/epoch - 3ms/step\n",
            "Epoch 108/150\n",
            "20/20 - 0s - loss: 0.8814 - mae: 0.7524 - val_loss: 0.6453 - val_mae: 0.6536 - 64ms/epoch - 3ms/step\n",
            "Epoch 109/150\n",
            "20/20 - 0s - loss: 0.8784 - mae: 0.7516 - val_loss: 0.6608 - val_mae: 0.6628 - 71ms/epoch - 4ms/step\n",
            "Epoch 110/150\n",
            "20/20 - 0s - loss: 0.8794 - mae: 0.7516 - val_loss: 0.6385 - val_mae: 0.6494 - 74ms/epoch - 4ms/step\n",
            "Epoch 111/150\n",
            "20/20 - 0s - loss: 0.8758 - mae: 0.7503 - val_loss: 0.6522 - val_mae: 0.6583 - 76ms/epoch - 4ms/step\n",
            "Epoch 112/150\n",
            "20/20 - 0s - loss: 0.8831 - mae: 0.7548 - val_loss: 0.6513 - val_mae: 0.6581 - 75ms/epoch - 4ms/step\n",
            "Epoch 113/150\n",
            "20/20 - 0s - loss: 0.8778 - mae: 0.7519 - val_loss: 0.6372 - val_mae: 0.6495 - 72ms/epoch - 4ms/step\n",
            "Epoch 114/150\n",
            "20/20 - 0s - loss: 0.8853 - mae: 0.7534 - val_loss: 0.6722 - val_mae: 0.6708 - 52ms/epoch - 3ms/step\n",
            "Epoch 115/150\n",
            "20/20 - 0s - loss: 0.8748 - mae: 0.7510 - val_loss: 0.6442 - val_mae: 0.6536 - 70ms/epoch - 4ms/step\n",
            "Epoch 116/150\n",
            "20/20 - 0s - loss: 0.8693 - mae: 0.7460 - val_loss: 0.6404 - val_mae: 0.6511 - 50ms/epoch - 3ms/step\n",
            "Epoch 117/150\n",
            "20/20 - 0s - loss: 0.8773 - mae: 0.7501 - val_loss: 0.6590 - val_mae: 0.6622 - 67ms/epoch - 3ms/step\n",
            "Epoch 118/150\n",
            "20/20 - 0s - loss: 0.8728 - mae: 0.7513 - val_loss: 0.6471 - val_mae: 0.6549 - 51ms/epoch - 3ms/step\n",
            "Epoch 119/150\n",
            "20/20 - 0s - loss: 0.8833 - mae: 0.7554 - val_loss: 0.6511 - val_mae: 0.6569 - 70ms/epoch - 4ms/step\n",
            "Epoch 120/150\n",
            "20/20 - 0s - loss: 0.8795 - mae: 0.7511 - val_loss: 0.6405 - val_mae: 0.6506 - 73ms/epoch - 4ms/step\n",
            "Epoch 121/150\n",
            "20/20 - 0s - loss: 0.8784 - mae: 0.7532 - val_loss: 0.6741 - val_mae: 0.6704 - 49ms/epoch - 2ms/step\n",
            "Epoch 122/150\n",
            "20/20 - 0s - loss: 0.8824 - mae: 0.7536 - val_loss: 0.6236 - val_mae: 0.6407 - 60ms/epoch - 3ms/step\n",
            "Epoch 123/150\n",
            "20/20 - 0s - loss: 0.8918 - mae: 0.7601 - val_loss: 0.6671 - val_mae: 0.6667 - 56ms/epoch - 3ms/step\n",
            "Epoch 124/150\n",
            "20/20 - 0s - loss: 0.8725 - mae: 0.7490 - val_loss: 0.6467 - val_mae: 0.6546 - 69ms/epoch - 3ms/step\n",
            "Epoch 125/150\n",
            "20/20 - 0s - loss: 0.8675 - mae: 0.7479 - val_loss: 0.6387 - val_mae: 0.6501 - 68ms/epoch - 3ms/step\n",
            "Epoch 126/150\n",
            "20/20 - 0s - loss: 0.8756 - mae: 0.7502 - val_loss: 0.6656 - val_mae: 0.6653 - 51ms/epoch - 3ms/step\n",
            "Epoch 127/150\n",
            "20/20 - 0s - loss: 0.8641 - mae: 0.7464 - val_loss: 0.6429 - val_mae: 0.6524 - 54ms/epoch - 3ms/step\n",
            "Epoch 128/150\n",
            "20/20 - 0s - loss: 0.8840 - mae: 0.7543 - val_loss: 0.6613 - val_mae: 0.6629 - 52ms/epoch - 3ms/step\n",
            "Epoch 129/150\n",
            "20/20 - 0s - loss: 0.8830 - mae: 0.7545 - val_loss: 0.6474 - val_mae: 0.6546 - 53ms/epoch - 3ms/step\n",
            "Epoch 130/150\n",
            "20/20 - 0s - loss: 0.8814 - mae: 0.7538 - val_loss: 0.6521 - val_mae: 0.6585 - 72ms/epoch - 4ms/step\n",
            "Epoch 131/150\n",
            "20/20 - 0s - loss: 0.8817 - mae: 0.7534 - val_loss: 0.6684 - val_mae: 0.6691 - 70ms/epoch - 3ms/step\n",
            "Epoch 132/150\n",
            "20/20 - 0s - loss: 0.8813 - mae: 0.7521 - val_loss: 0.6291 - val_mae: 0.6445 - 62ms/epoch - 3ms/step\n",
            "Epoch 133/150\n",
            "20/20 - 0s - loss: 0.8758 - mae: 0.7478 - val_loss: 0.6703 - val_mae: 0.6693 - 67ms/epoch - 3ms/step\n",
            "Epoch 134/150\n",
            "20/20 - 0s - loss: 0.8752 - mae: 0.7531 - val_loss: 0.6483 - val_mae: 0.6558 - 56ms/epoch - 3ms/step\n",
            "Epoch 135/150\n",
            "20/20 - 0s - loss: 0.8847 - mae: 0.7558 - val_loss: 0.6491 - val_mae: 0.6564 - 63ms/epoch - 3ms/step\n",
            "Epoch 136/150\n",
            "20/20 - 0s - loss: 0.8797 - mae: 0.7533 - val_loss: 0.6562 - val_mae: 0.6610 - 55ms/epoch - 3ms/step\n",
            "Epoch 137/150\n",
            "20/20 - 0s - loss: 0.8805 - mae: 0.7557 - val_loss: 0.6479 - val_mae: 0.6555 - 69ms/epoch - 3ms/step\n",
            "Epoch 138/150\n",
            "20/20 - 0s - loss: 0.8811 - mae: 0.7521 - val_loss: 0.6346 - val_mae: 0.6474 - 76ms/epoch - 4ms/step\n",
            "Epoch 139/150\n",
            "20/20 - 0s - loss: 0.8772 - mae: 0.7517 - val_loss: 0.6579 - val_mae: 0.6616 - 55ms/epoch - 3ms/step\n",
            "Epoch 140/150\n",
            "20/20 - 0s - loss: 0.8776 - mae: 0.7528 - val_loss: 0.6426 - val_mae: 0.6525 - 56ms/epoch - 3ms/step\n",
            "Epoch 141/150\n",
            "20/20 - 0s - loss: 0.8778 - mae: 0.7521 - val_loss: 0.6342 - val_mae: 0.6469 - 71ms/epoch - 4ms/step\n",
            "Epoch 142/150\n",
            "20/20 - 0s - loss: 0.8812 - mae: 0.7541 - val_loss: 0.6471 - val_mae: 0.6543 - 57ms/epoch - 3ms/step\n",
            "Epoch 143/150\n",
            "20/20 - 0s - loss: 0.8775 - mae: 0.7528 - val_loss: 0.6305 - val_mae: 0.6445 - 53ms/epoch - 3ms/step\n",
            "Epoch 144/150\n",
            "20/20 - 0s - loss: 0.8799 - mae: 0.7538 - val_loss: 0.6562 - val_mae: 0.6603 - 70ms/epoch - 3ms/step\n",
            "Epoch 145/150\n",
            "20/20 - 0s - loss: 0.8789 - mae: 0.7545 - val_loss: 0.6570 - val_mae: 0.6608 - 69ms/epoch - 3ms/step\n",
            "Epoch 146/150\n",
            "20/20 - 0s - loss: 0.8733 - mae: 0.7472 - val_loss: 0.6450 - val_mae: 0.6532 - 75ms/epoch - 4ms/step\n",
            "Epoch 147/150\n",
            "20/20 - 0s - loss: 0.8769 - mae: 0.7531 - val_loss: 0.6639 - val_mae: 0.6645 - 69ms/epoch - 3ms/step\n",
            "Epoch 148/150\n",
            "20/20 - 0s - loss: 0.8757 - mae: 0.7509 - val_loss: 0.6391 - val_mae: 0.6497 - 67ms/epoch - 3ms/step\n",
            "Epoch 149/150\n",
            "20/20 - 0s - loss: 0.8831 - mae: 0.7517 - val_loss: 0.6577 - val_mae: 0.6608 - 60ms/epoch - 3ms/step\n",
            "Epoch 150/150\n",
            "20/20 - 0s - loss: 0.8784 - mae: 0.7543 - val_loss: 0.6617 - val_mae: 0.6648 - 76ms/epoch - 4ms/step\n"
          ]
        },
        {
          "output_type": "display_data",
          "data": {
            "text/plain": [
              "<Figure size 640x480 with 1 Axes>"
            ],
            "image/png": "[encoded data removed]"
          },
          "metadata": {}
        }
      ]
    },
    {
      "cell_type": "markdown",
      "source": [
        "Для интеграции в приложение модели нейросети нужно сохранить"
      ],
      "metadata": {
        "id": "FVq9iiu2ewmc"
      }
    },
    {
      "cell_type": "code",
      "source": [
        "y_pred_22 = modelNN_raw.predict(X_test_raw)\n",
        "MAE = mean_absolute_error(y_test,y_pred_22)\n",
        "print (MAE)"
      ],
      "metadata": {
        "colab": {
          "base_uri": "https://localhost:8080/"
        },
        "id": "u69027L2z19j",
        "outputId": "2e35f4b7-005a-46dd-a1fa-2eb9d57b2cf7"
      },
      "execution_count": 257,
      "outputs": [
        {
          "output_type": "stream",
          "name": "stdout",
          "text": [
            "10/10 [==============================] - 0s 1ms/step\n",
            "0.6977066631267502\n"
          ]
        }
      ]
    },
    {
      "cell_type": "code",
      "source": [
        "modelMF_2.save('/content/drive/MyDrive/Colab Notebooks/Models_NN/modelNN_2')"
      ],
      "metadata": {
        "colab": {
          "base_uri": "https://localhost:8080/"
        },
        "id": "Bmo7UIF4yGIr",
        "outputId": "4935a102-1ae9-40bf-c259-5c53da151f27"
      },
      "execution_count": 258,
      "outputs": [
        {
          "output_type": "stream",
          "name": "stderr",
          "text": [
            "WARNING:absl:Found untraced functions such as _update_step_xla while saving (showing 1 of 1). These functions will not be directly callable after loading.\n"
          ]
        }
      ]
    },
    {
      "cell_type": "code",
      "source": [
        "modelMF_3.save('/content/drive/MyDrive/Colab Notebooks/Models_NN/modelNN_3')"
      ],
      "metadata": {
        "colab": {
          "base_uri": "https://localhost:8080/"
        },
        "id": "DfJlHZRZH-Ku",
        "outputId": "24384be5-62b5-4123-8313-d4eead9e161d"
      },
      "execution_count": 259,
      "outputs": [
        {
          "output_type": "stream",
          "name": "stderr",
          "text": [
            "WARNING:absl:Found untraced functions such as _update_step_xla while saving (showing 1 of 1). These functions will not be directly callable after loading.\n"
          ]
        }
      ]
    },
    {
      "cell_type": "code",
      "source": [
        "modelMF_6.save('/content/drive/MyDrive/Colab Notebooks/Models_NN/modelNN_6')"
      ],
      "metadata": {
        "colab": {
          "base_uri": "https://localhost:8080/"
        },
        "id": "5LX5qCJI7C0o",
        "outputId": "7b0d063c-768f-4b45-8ede-cfa0b864fcc0"
      },
      "execution_count": 260,
      "outputs": [
        {
          "output_type": "stream",
          "name": "stderr",
          "text": [
            "WARNING:absl:Found untraced functions such as _update_step_xla while saving (showing 1 of 1). These functions will not be directly callable after loading.\n"
          ]
        }
      ]
    },
    {
      "cell_type": "markdown",
      "source": [
        "Попробуем интегрировать в будущее приложение модель нейросети 3"
      ],
      "metadata": {
        "id": "r-B-0Mw3gjnX"
      }
    },
    {
      "cell_type": "markdown",
      "source": [
        "Проверяем загрузку:"
      ],
      "metadata": {
        "id": "3QEYCyvag7wu"
      }
    },
    {
      "cell_type": "code",
      "source": [
        "modelNN_3 = keras.models.load_model('/content/drive/MyDrive/Colab Notebooks/Models_NN/modelNN_3')\n",
        "modelNN_3"
      ],
      "metadata": {
        "colab": {
          "base_uri": "https://localhost:8080/"
        },
        "id": "s5qU0ffnhF58",
        "outputId": "f52d5755-4787-4084-9671-ed2033e6533a"
      },
      "execution_count": 280,
      "outputs": [
        {
          "output_type": "execute_result",
          "data": {
            "text/plain": [
              "<keras.engine.sequential.Sequential at 0x7f538ac56a70>"
            ]
          },
          "metadata": {},
          "execution_count": 280
        }
      ]
    },
    {
      "cell_type": "code",
      "source": [
        "modelNN_2 = keras.models.load_model('/content/drive/MyDrive/Colab Notebooks/Models_NN/modelNN_2')\n",
        "modelNN_2"
      ],
      "metadata": {
        "colab": {
          "base_uri": "https://localhost:8080/"
        },
        "id": "-e5ISD3NiAtc",
        "outputId": "62c69c6b-15a2-4ba7-c1a7-d0f3044cd9a1"
      },
      "execution_count": 262,
      "outputs": [
        {
          "output_type": "execute_result",
          "data": {
            "text/plain": [
              "<keras.engine.sequential.Sequential at 0x7f53832ce2c0>"
            ]
          },
          "metadata": {},
          "execution_count": 262
        }
      ]
    },
    {
      "cell_type": "code",
      "source": [
        "modelNN_6 = keras.models.load_model('/content/drive/MyDrive/Colab Notebooks/Models_NN/modelNN_6')\n",
        "modelNN_6"
      ],
      "metadata": {
        "colab": {
          "base_uri": "https://localhost:8080/"
        },
        "id": "1PGsg4LpiF2X",
        "outputId": "9592c296-81a8-4f64-c0c2-915c5cefbecf"
      },
      "execution_count": 263,
      "outputs": [
        {
          "output_type": "execute_result",
          "data": {
            "text/plain": [
              "<keras.engine.sequential.Sequential at 0x7f539af03550>"
            ]
          },
          "metadata": {},
          "execution_count": 263
        }
      ]
    },
    {
      "cell_type": "markdown",
      "source": [
        "Тест на данных датасета"
      ],
      "metadata": {
        "id": "QtR8g6OLr3C7"
      }
    },
    {
      "cell_type": "code",
      "execution_count": null,
      "metadata": {
        "colab": {
          "base_uri": "https://localhost:8080/"
        },
        "outputId": "bb5f4470-d039-452e-d322-e5de694a7c2b",
        "id": "noZ0skZtrxLe"
      },
      "outputs": [
        {
          "data": {
            "text/plain": [
              "array(['1880.0', '622.0', '111.86', '22.2678571428571',\n",
              "       '284.615384615384', '470.0', '73.3333333333333',\n",
              "       '2455.55555555555', '220.0', '90.0', '4.0', '60.0'], dtype='<U32')"
            ]
          },
          "execution_count": 55,
          "metadata": {},
          "output_type": "execute_result"
        }
      ],
      "source": [
        "# Вход\n",
        "X.iloc[10, :].values.astype(str)"
      ]
    },
    {
      "cell_type": "code",
      "execution_count": null,
      "metadata": {
        "colab": {
          "base_uri": "https://localhost:8080/"
        },
        "outputId": "e26e917f-fda1-4243-b3a6-d8876ecf6ee1",
        "id": "tkRsMsLSrxLf"
      },
      "outputs": [
        {
          "data": {
            "text/plain": [
              "array([2.51549606])"
            ]
          },
          "execution_count": 56,
          "metadata": {},
          "output_type": "execute_result"
        }
      ],
      "source": [
        "# Выход\n",
        "sample_x = scaler_norm.transform(X.iloc[[10], :])\n",
        "modelNN_3.predict(sample_x)"
      ]
    }
  ]
}